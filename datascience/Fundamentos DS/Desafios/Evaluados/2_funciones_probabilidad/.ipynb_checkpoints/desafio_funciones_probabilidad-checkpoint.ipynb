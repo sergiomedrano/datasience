{
 "cells": [
  {
   "cell_type": "code",
   "execution_count": 2,
   "metadata": {},
   "outputs": [],
   "source": [
    "import pandas as pd\n",
    "import numpy as np\n",
    "\n",
    "df = pd.read_csv('worldcup2014.csv')"
   ]
  },
  {
   "attachments": {},
   "cell_type": "markdown",
   "metadata": {},
   "source": [
    "#### Desafio 1: Generación de funciones"
   ]
  },
  {
   "cell_type": "code",
   "execution_count": 3,
   "metadata": {},
   "outputs": [],
   "source": [
    "# Función media\n",
    "def get_media(x):\n",
    "    \"\"\"Esta función tiene como objetivo\n",
    "    calcular la media de un vector\"\"\"\n",
    "    return np.mean(x)\n",
    "\n",
    "# Función varianza\n",
    "def get_varianza(x):\n",
    "    \"\"\"Esta función tiene como objetivo\n",
    "    calcular la varianza de un vector\"\"\"\n",
    "    media = get_media(x)\n",
    "    return np.var(x)"
   ]
  },
  {
   "cell_type": "code",
   "execution_count": 4,
   "metadata": {},
   "outputs": [
    {
     "name": "stdout",
     "output_type": "stream",
     "text": [
      "Los goles a favor tienen un promedio de 4.25 con una varianza de 5.1875\n"
     ]
    }
   ],
   "source": [
    "#Media y varianza de goles_favor\n",
    "media_goles_favor = get_media(df['goles_favor'])\n",
    "varianza_goles_favor = get_varianza(df['goles_favor'])\n",
    "\n",
    "print(f'Los goles a favor tienen un promedio de {media_goles_favor} con una varianza de {varianza_goles_favor}')"
   ]
  },
  {
   "cell_type": "code",
   "execution_count": 5,
   "metadata": {},
   "outputs": [
    {
     "name": "stdout",
     "output_type": "stream",
     "text": [
      "Los goles en contra tienen un promedio de 4.25 con una varianza de 4.8125\n"
     ]
    }
   ],
   "source": [
    "#Media y varianza de goles_contra\n",
    "media_goles_contra = get_media(df['goles_contra'])\n",
    "varianza_goles_contra = get_varianza(df['goles_contra'])\n",
    "\n",
    "print(f'Los goles en contra tienen un promedio de {media_goles_contra} con una varianza de {varianza_goles_contra}')"
   ]
  },
  {
   "cell_type": "code",
   "execution_count": 6,
   "metadata": {},
   "outputs": [
    {
     "name": "stdout",
     "output_type": "stream",
     "text": [
      "Los puntos tienen un promedio de 4.21875 con una varianza de 8.0458984375\n"
     ]
    }
   ],
   "source": [
    "#Media y varianza de goles_favor\n",
    "media_puntos = get_media(df['puntos'])\n",
    "varianza_puntos = get_varianza(df['puntos'])\n",
    "\n",
    "print(f'Los puntos tienen un promedio de {media_puntos} con una varianza de {varianza_puntos}')"
   ]
  },
  {
   "attachments": {},
   "cell_type": "markdown",
   "metadata": {},
   "source": [
    "- Los goles a favor tienen un promedio de 4.25 con una varianza de 5.1875\n",
    "- Los goles en contra tienen un promedio de 4.25 con una varianza de 4.8125\n",
    "- Los puntos tienen un promedio de 4.21875 con una varianza de 8.0458984375"
   ]
  },
  {
   "attachments": {},
   "cell_type": "markdown",
   "metadata": {},
   "source": [
    "#### Desafio 2"
   ]
  },
  {
   "cell_type": "code",
   "execution_count": 7,
   "metadata": {},
   "outputs": [
    {
     "data": {
      "text/html": [
       "<div>\n",
       "<style scoped>\n",
       "    .dataframe tbody tr th:only-of-type {\n",
       "        vertical-align: middle;\n",
       "    }\n",
       "\n",
       "    .dataframe tbody tr th {\n",
       "        vertical-align: top;\n",
       "    }\n",
       "\n",
       "    .dataframe thead tr th {\n",
       "        text-align: left;\n",
       "    }\n",
       "\n",
       "    .dataframe thead tr:last-of-type th {\n",
       "        text-align: right;\n",
       "    }\n",
       "</style>\n",
       "<table border=\"1\" class=\"dataframe\">\n",
       "  <thead>\n",
       "    <tr>\n",
       "      <th></th>\n",
       "      <th colspan=\"4\" halign=\"left\">goles_favor</th>\n",
       "      <th colspan=\"4\" halign=\"left\">goles_contra</th>\n",
       "      <th colspan=\"4\" halign=\"left\">puntos</th>\n",
       "    </tr>\n",
       "    <tr>\n",
       "      <th></th>\n",
       "      <th>sum</th>\n",
       "      <th>mean</th>\n",
       "      <th>var</th>\n",
       "      <th>std</th>\n",
       "      <th>sum</th>\n",
       "      <th>mean</th>\n",
       "      <th>var</th>\n",
       "      <th>std</th>\n",
       "      <th>sum</th>\n",
       "      <th>mean</th>\n",
       "      <th>var</th>\n",
       "      <th>std</th>\n",
       "    </tr>\n",
       "    <tr>\n",
       "      <th>continent</th>\n",
       "      <th></th>\n",
       "      <th></th>\n",
       "      <th></th>\n",
       "      <th></th>\n",
       "      <th></th>\n",
       "      <th></th>\n",
       "      <th></th>\n",
       "      <th></th>\n",
       "      <th></th>\n",
       "      <th></th>\n",
       "      <th></th>\n",
       "      <th></th>\n",
       "    </tr>\n",
       "  </thead>\n",
       "  <tbody>\n",
       "    <tr>\n",
       "      <th>africa</th>\n",
       "      <td>18</td>\n",
       "      <td>3.600000</td>\n",
       "      <td>3.300000</td>\n",
       "      <td>1.816590</td>\n",
       "      <td>28</td>\n",
       "      <td>5.600000</td>\n",
       "      <td>4.800000</td>\n",
       "      <td>2.190890</td>\n",
       "      <td>12</td>\n",
       "      <td>2.400000</td>\n",
       "      <td>3.300000</td>\n",
       "      <td>1.816590</td>\n",
       "    </tr>\n",
       "    <tr>\n",
       "      <th>asia</th>\n",
       "      <td>9</td>\n",
       "      <td>2.250000</td>\n",
       "      <td>0.916667</td>\n",
       "      <td>0.957427</td>\n",
       "      <td>25</td>\n",
       "      <td>6.250000</td>\n",
       "      <td>4.250000</td>\n",
       "      <td>2.061553</td>\n",
       "      <td>3</td>\n",
       "      <td>0.750000</td>\n",
       "      <td>0.250000</td>\n",
       "      <td>0.500000</td>\n",
       "    </tr>\n",
       "    <tr>\n",
       "      <th>europe</th>\n",
       "      <td>62</td>\n",
       "      <td>4.769231</td>\n",
       "      <td>6.858974</td>\n",
       "      <td>2.618964</td>\n",
       "      <td>52</td>\n",
       "      <td>4.000000</td>\n",
       "      <td>3.833333</td>\n",
       "      <td>1.957890</td>\n",
       "      <td>61</td>\n",
       "      <td>4.692308</td>\n",
       "      <td>6.897436</td>\n",
       "      <td>2.626297</td>\n",
       "    </tr>\n",
       "    <tr>\n",
       "      <th>northamerica</th>\n",
       "      <td>13</td>\n",
       "      <td>3.250000</td>\n",
       "      <td>2.250000</td>\n",
       "      <td>1.500000</td>\n",
       "      <td>14</td>\n",
       "      <td>3.500000</td>\n",
       "      <td>11.000000</td>\n",
       "      <td>3.316625</td>\n",
       "      <td>18</td>\n",
       "      <td>4.500000</td>\n",
       "      <td>11.000000</td>\n",
       "      <td>3.316625</td>\n",
       "    </tr>\n",
       "    <tr>\n",
       "      <th>southamerica</th>\n",
       "      <td>34</td>\n",
       "      <td>5.666667</td>\n",
       "      <td>4.666667</td>\n",
       "      <td>2.160247</td>\n",
       "      <td>17</td>\n",
       "      <td>2.833333</td>\n",
       "      <td>0.566667</td>\n",
       "      <td>0.752773</td>\n",
       "      <td>41</td>\n",
       "      <td>6.833333</td>\n",
       "      <td>3.766667</td>\n",
       "      <td>1.940790</td>\n",
       "    </tr>\n",
       "  </tbody>\n",
       "</table>\n",
       "</div>"
      ],
      "text/plain": [
       "             goles_favor                               goles_contra            \\\n",
       "                     sum      mean       var       std          sum      mean   \n",
       "continent                                                                       \n",
       "africa                18  3.600000  3.300000  1.816590           28  5.600000   \n",
       "asia                   9  2.250000  0.916667  0.957427           25  6.250000   \n",
       "europe                62  4.769231  6.858974  2.618964           52  4.000000   \n",
       "northamerica          13  3.250000  2.250000  1.500000           14  3.500000   \n",
       "southamerica          34  5.666667  4.666667  2.160247           17  2.833333   \n",
       "\n",
       "                                  puntos                                 \n",
       "                    var       std    sum      mean        var       std  \n",
       "continent                                                                \n",
       "africa         4.800000  2.190890     12  2.400000   3.300000  1.816590  \n",
       "asia           4.250000  2.061553      3  0.750000   0.250000  0.500000  \n",
       "europe         3.833333  1.957890     61  4.692308   6.897436  2.626297  \n",
       "northamerica  11.000000  3.316625     18  4.500000  11.000000  3.316625  \n",
       "southamerica   0.566667  0.752773     41  6.833333   3.766667  1.940790  "
      ]
     },
     "execution_count": 7,
     "metadata": {},
     "output_type": "execute_result"
    }
   ],
   "source": [
    "df2 = df[['continent','goles_favor','goles_contra','puntos']].groupby(['continent'],as_index=False).agg(['sum','mean','var','std'])\n",
    "df2"
   ]
  },
  {
   "attachments": {},
   "cell_type": "markdown",
   "metadata": {},
   "source": [
    "- Europa tiene la mayor cantidad de goles a favor, con 62 goles.\n",
    "- Europa tiene la mayor cantidad de goles en contra, con 52 goles.\n",
    "- Sudamerica tiene el mejor promedio de puntos con 6.83."
   ]
  },
  {
   "attachments": {},
   "cell_type": "markdown",
   "metadata": {},
   "source": [
    "#### Desafio 3: Simulaciones"
   ]
  },
  {
   "cell_type": "code",
   "execution_count": 8,
   "metadata": {},
   "outputs": [],
   "source": [
    "# Funcion generate_pet\n",
    "def generate_pet(n):\n",
    "    mascotas = []\n",
    "    for i in range(n):\n",
    "        mascotas.append(np.random.choice(['perro','gato']))\n",
    "    \n",
    "    return mascotas"
   ]
  },
  {
   "cell_type": "code",
   "execution_count": 9,
   "metadata": {},
   "outputs": [
    {
     "data": {
      "text/plain": [
       "['perro', 'perro', 'perro', 'perro', 'perro', 'perro', 'gato', 'perro']"
      ]
     },
     "execution_count": 9,
     "metadata": {},
     "output_type": "execute_result"
    }
   ],
   "source": [
    "generate_pet(8)"
   ]
  },
  {
   "cell_type": "code",
   "execution_count": 10,
   "metadata": {},
   "outputs": [
    {
     "data": {
      "text/plain": [
       "['perro', 'gato', 'perro', 'gato', 'perro', 'gato']"
      ]
     },
     "execution_count": 10,
     "metadata": {},
     "output_type": "execute_result"
    }
   ],
   "source": [
    "generate_pet(6)"
   ]
  },
  {
   "cell_type": "code",
   "execution_count": 11,
   "metadata": {},
   "outputs": [
    {
     "data": {
      "text/plain": [
       "['perro',\n",
       " 'perro',\n",
       " 'gato',\n",
       " 'perro',\n",
       " 'perro',\n",
       " 'perro',\n",
       " 'perro',\n",
       " 'perro',\n",
       " 'gato',\n",
       " 'perro',\n",
       " 'gato',\n",
       " 'perro',\n",
       " 'gato',\n",
       " 'gato',\n",
       " 'gato',\n",
       " 'perro',\n",
       " 'gato',\n",
       " 'perro',\n",
       " 'gato',\n",
       " 'perro']"
      ]
     },
     "execution_count": 11,
     "metadata": {},
     "output_type": "execute_result"
    }
   ],
   "source": [
    "#Funcion para generar 20 muestras:\n",
    "lista_mascotas = generate_pet(20)\n",
    "lista_mascotas"
   ]
  },
  {
   "cell_type": "code",
   "execution_count": 12,
   "metadata": {},
   "outputs": [
    {
     "name": "stdout",
     "output_type": "stream",
     "text": [
      "12\n",
      "8\n",
      "Probabilidad perro: 0.6\n",
      "Probabilidad gato: 0.4\n"
     ]
    }
   ],
   "source": [
    "# Se convierte lista a DataFrame\n",
    "df = pd.DataFrame(lista_mascotas)\n",
    "df = df.rename(columns={0:'mascota'})\n",
    "# Se crean DataFrame solo para perros y solo para gatos\n",
    "df_perro = df[df['mascota'] == 'perro'].reset_index(drop=True)\n",
    "df_gato = df[df['mascota'] == 'gato'].reset_index(drop=True)\n",
    "\n",
    "n_perro = len(df[df['mascota'] == 'perro'])\n",
    "print(n_perro)\n",
    "n_gato = len(df[df['mascota'] == 'gato'])\n",
    "print(n_gato)\n",
    "\n",
    "print(f'Probabilidad perro: {len(df[df[\"mascota\"] == \"perro\"]) / len(df)}')\n",
    "print(f'Probabilidad gato: {len(df[df[\"mascota\"] == \"gato\"]) / len(df)}')\n"
   ]
  },
  {
   "attachments": {},
   "cell_type": "markdown",
   "metadata": {},
   "source": [
    "- La probabilidad de elegir un perro al azar es de un 60%. Mientras que, la probabilidad de elegir un gato es de un 40%"
   ]
  },
  {
   "attachments": {},
   "cell_type": "markdown",
   "metadata": {},
   "source": [
    "#### Desafio 4: Función simuladora"
   ]
  },
  {
   "cell_type": "code",
   "execution_count": 59,
   "metadata": {},
   "outputs": [],
   "source": [
    "def simulate_pets_prob(n):\n",
    "    np.random.seed(1)\n",
    "    probs = []\n",
    "    \n",
    "    df = pd.DataFrame({'young_pet': generate_pet(n), 'old_pet': generate_pet(n)})\n",
    "    \n",
    "    probs.append(len(df[(df.young_pet == 'perro') | (df.old_pet == 'perro')])/len(df))\n",
    "    probs.append(len(df[(df.old_pet == 'perro')])/len(df))\n",
    "    probs.append(len(df[(df.young_pet == 'perro') & (df.old_pet == 'perro')])/len(df))\n",
    "    \n",
    "    return probs"
   ]
  },
  {
   "cell_type": "code",
   "execution_count": 60,
   "metadata": {},
   "outputs": [],
   "source": [
    "prob1, prob2, prob3 = simulate_pets_prob(20)"
   ]
  },
  {
   "cell_type": "code",
   "execution_count": 61,
   "metadata": {},
   "outputs": [
    {
     "name": "stdout",
     "output_type": "stream",
     "text": [
      "De las dos mascotas simuladas, por lo menos una de las mascotas sea un perro: 0.75\n",
      "De las dos mascotas simuladas, old_pet sea perro: 0.6\n",
      "De las dos mascotas simuladas, que los dos sean perros: 0.3\n"
     ]
    }
   ],
   "source": [
    "print(f'De las dos mascotas simuladas, por lo menos una de las mascotas sea un perro: {prob1}')\n",
    "print(f'De las dos mascotas simuladas, old_pet sea perro: {prob2}')\n",
    "print(f'De las dos mascotas simuladas, que los dos sean perros: {prob3}')"
   ]
  },
  {
   "attachments": {},
   "cell_type": "markdown",
   "metadata": {},
   "source": [
    "- El escenario más probable es donde al menos una mascota young u old sea perro ya que en este caso la probabilidad de un tipo de mascota no condiciona al otro.\n",
    "- El escenario menos probable es donde tanto la mascota young y la mascota old sean perros, ya que en este caso no son excluyentes."
   ]
  },
  {
   "cell_type": "code",
   "execution_count": null,
   "metadata": {},
   "outputs": [],
   "source": []
  }
 ],
 "metadata": {
  "kernelspec": {
   "display_name": "base",
   "language": "python",
   "name": "python3"
  },
  "language_info": {
   "codemirror_mode": {
    "name": "ipython",
    "version": 3
   },
   "file_extension": ".py",
   "mimetype": "text/x-python",
   "name": "python",
   "nbconvert_exporter": "python",
   "pygments_lexer": "ipython3",
   "version": "3.9.13"
  },
  "orig_nbformat": 4,
  "vscode": {
   "interpreter": {
    "hash": "7d3204a0a55172babda99d25e55882820d818e616662117f457299007ca7fba1"
   }
  }
 },
 "nbformat": 4,
 "nbformat_minor": 2
}
