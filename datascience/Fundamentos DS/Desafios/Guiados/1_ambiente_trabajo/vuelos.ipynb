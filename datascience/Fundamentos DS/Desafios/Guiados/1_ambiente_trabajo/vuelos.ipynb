{
 "cells": [
  {
   "cell_type": "code",
   "execution_count": 3,
   "id": "dee2167a-77a7-41a2-a5f4-a67a268dcc02",
   "metadata": {},
   "outputs": [],
   "source": [
    "import pandas as pd\n",
    "import numpy as np"
   ]
  },
  {
   "cell_type": "code",
   "execution_count": 5,
   "id": "e1f6ab57-8b67-4863-8d8e-5cfb6ddce1e4",
   "metadata": {},
   "outputs": [],
   "source": [
    "df = pd.read_csv('flights.csv')"
   ]
  },
  {
   "cell_type": "code",
   "execution_count": 6,
   "id": "e86a52f9",
   "metadata": {},
   "outputs": [
    {
     "name": "stdout",
     "output_type": "stream",
     "text": [
      "   year     month  passengers\n",
      "0  1949   January         112\n",
      "1  1949  February         118\n",
      "2  1949     March         132\n",
      "3  1949     April         129\n",
      "4  1949       May         121\n",
      "     year      month  passengers\n",
      "139  1960     August         606\n",
      "140  1960  September         508\n",
      "141  1960    October         461\n",
      "142  1960   November         390\n",
      "143  1960   December         432\n"
     ]
    }
   ],
   "source": [
    "#primeras 5 observaciones\n",
    "print(df.head(5))\n",
    "#ultimas 5 observaciones\n",
    "print(df.tail(5))"
   ]
  },
  {
   "cell_type": "code",
   "execution_count": 11,
   "id": "a864e6f3",
   "metadata": {},
   "outputs": [
    {
     "data": {
      "text/plain": [
       "count     144.000000\n",
       "mean     1954.500000\n",
       "std         3.464102\n",
       "min      1949.000000\n",
       "25%      1951.750000\n",
       "50%      1954.500000\n",
       "75%      1957.250000\n",
       "max      1960.000000\n",
       "Name: year, dtype: float64"
      ]
     },
     "execution_count": 11,
     "metadata": {},
     "output_type": "execute_result"
    }
   ],
   "source": [
    "#estadisticas columna year\n",
    "df['year'].describe()"
   ]
  },
  {
   "cell_type": "code",
   "execution_count": 12,
   "id": "1ecb1ae0",
   "metadata": {},
   "outputs": [
    {
     "data": {
      "text/plain": [
       "1949    12\n",
       "1950    12\n",
       "1951    12\n",
       "1952    12\n",
       "1953    12\n",
       "1954    12\n",
       "1955    12\n",
       "1956    12\n",
       "1957    12\n",
       "1958    12\n",
       "1959    12\n",
       "1960    12\n",
       "Name: year, dtype: int64"
      ]
     },
     "execution_count": 12,
     "metadata": {},
     "output_type": "execute_result"
    }
   ],
   "source": [
    "#frecuencia años\n",
    "df['year'].value_counts()"
   ]
  },
  {
   "cell_type": "code",
   "execution_count": 13,
   "id": "6f80d3fa",
   "metadata": {},
   "outputs": [
    {
     "data": {
      "text/plain": [
       "January      12\n",
       "February     12\n",
       "March        12\n",
       "April        12\n",
       "May          12\n",
       "June         12\n",
       "July         12\n",
       "August       12\n",
       "September    12\n",
       "October      12\n",
       "November     12\n",
       "December     12\n",
       "Name: month, dtype: int64"
      ]
     },
     "execution_count": 13,
     "metadata": {},
     "output_type": "execute_result"
    }
   ],
   "source": [
    "#frecuencia meses\n",
    "df['month'].value_counts()"
   ]
  },
  {
   "cell_type": "code",
   "execution_count": 14,
   "id": "6c031628",
   "metadata": {},
   "outputs": [],
   "source": [
    "pri_15 = df.head(15)\n",
    "ult_15 = df.tail(15)"
   ]
  },
  {
   "attachments": {},
   "cell_type": "markdown",
   "id": "41b87655",
   "metadata": {},
   "source": [
    "Estadisticas para el total de las observaciones:"
   ]
  },
  {
   "cell_type": "code",
   "execution_count": 36,
   "id": "298fd3f8",
   "metadata": {},
   "outputs": [
    {
     "name": "stdout",
     "output_type": "stream",
     "text": [
      "Media: 280.2986111111111\n",
      "Mediana: 265.5\n",
      "Desviación Estandar: 119.54904153277148\n"
     ]
    }
   ],
   "source": [
    "print(f\"Media: {np.mean(df['passengers'])}\")\n",
    "print(f\"Mediana: {np.median(df['passengers'])}\")\n",
    "print(f\"Desviación Estandar: {np.std(df['passengers'])}\")\n"
   ]
  },
  {
   "attachments": {},
   "cell_type": "markdown",
   "id": "077923ba",
   "metadata": {},
   "source": [
    "Estadisticas para las primeras 15 observaciones:"
   ]
  },
  {
   "cell_type": "code",
   "execution_count": 35,
   "id": "3d309936",
   "metadata": {},
   "outputs": [
    {
     "name": "stdout",
     "output_type": "stream",
     "text": [
      "Media: 126.8\n",
      "Mediana: 126.0\n",
      "Desviación Estandar: 12.681745410891462\n"
     ]
    }
   ],
   "source": [
    "print(f\"Media: {np.mean(pri_15['passengers'])}\")\n",
    "print(f\"Mediana: {np.median(pri_15['passengers'])}\")\n",
    "print(f\"Desviación Estandar: {np.std(pri_15['passengers'])}\")"
   ]
  },
  {
   "attachments": {},
   "cell_type": "markdown",
   "id": "3b8ebe6d",
   "metadata": {},
   "source": [
    "Estadisticas para las últimas 15 observaciones:"
   ]
  },
  {
   "cell_type": "code",
   "execution_count": 34,
   "id": "d0cbd924",
   "metadata": {},
   "outputs": [
    {
     "name": "stdout",
     "output_type": "stream",
     "text": [
      "Media: 459.2\n",
      "Mediana: 432.0\n",
      "Desviación Estandar: 75.29426715671431\n"
     ]
    }
   ],
   "source": [
    "print(f\"Media: {np.mean(ult_15['passengers'])}\")\n",
    "print(f\"Mediana: {np.median(ult_15['passengers'])}\")\n",
    "print(f\"Desviación Estandar: {np.std(ult_15['passengers'])}\")"
   ]
  },
  {
   "attachments": {},
   "cell_type": "markdown",
   "id": "7aa62db2",
   "metadata": {},
   "source": [
    "En base a los resultados mostrados anteriormente se puede decir que durante los primeros meses registrados la media y mediana de pasajeros es mucho menor que en los últimos meses registrados. Mientras que, si consideramos el total de las observaciones se observa una media y mediana intermedias respecto a las mencionadas anteriormente.\n",
    "\n"
   ]
  }
 ],
 "metadata": {
  "kernelspec": {
   "display_name": "base",
   "language": "python",
   "name": "python3"
  },
  "language_info": {
   "codemirror_mode": {
    "name": "ipython",
    "version": 3
   },
   "file_extension": ".py",
   "mimetype": "text/x-python",
   "name": "python",
   "nbconvert_exporter": "python",
   "pygments_lexer": "ipython3",
   "version": "3.9.13"
  },
  "vscode": {
   "interpreter": {
    "hash": "7d3204a0a55172babda99d25e55882820d818e616662117f457299007ca7fba1"
   }
  }
 },
 "nbformat": 4,
 "nbformat_minor": 5
}
