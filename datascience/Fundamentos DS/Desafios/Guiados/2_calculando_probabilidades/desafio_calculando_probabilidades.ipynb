{
 "cells": [
  {
   "cell_type": "markdown",
   "id": "ac11b033",
   "metadata": {},
   "source": [
    "##### 1. Lectura de archivos"
   ]
  },
  {
   "cell_type": "code",
   "execution_count": 1,
   "id": "ed959be4",
   "metadata": {},
   "outputs": [
    {
     "data": {
      "text/html": [
       "<div>\n",
       "<style scoped>\n",
       "    .dataframe tbody tr th:only-of-type {\n",
       "        vertical-align: middle;\n",
       "    }\n",
       "\n",
       "    .dataframe tbody tr th {\n",
       "        vertical-align: top;\n",
       "    }\n",
       "\n",
       "    .dataframe thead th {\n",
       "        text-align: right;\n",
       "    }\n",
       "</style>\n",
       "<table border=\"1\" class=\"dataframe\">\n",
       "  <thead>\n",
       "    <tr style=\"text-align: right;\">\n",
       "      <th></th>\n",
       "      <th>team</th>\n",
       "      <th>continent</th>\n",
       "      <th>group</th>\n",
       "      <th>group_pos</th>\n",
       "      <th>cantidad_juegos</th>\n",
       "      <th>juegos_ganados</th>\n",
       "      <th>juegos_empatados</th>\n",
       "      <th>juegos_perdidos</th>\n",
       "      <th>goles_favor</th>\n",
       "      <th>goles_contra</th>\n",
       "      <th>goles_diferencia</th>\n",
       "      <th>puntos</th>\n",
       "      <th>clasificado</th>\n",
       "    </tr>\n",
       "  </thead>\n",
       "  <tbody>\n",
       "    <tr>\n",
       "      <th>0</th>\n",
       "      <td>Brazil</td>\n",
       "      <td>southamerica</td>\n",
       "      <td>A</td>\n",
       "      <td>1</td>\n",
       "      <td>3</td>\n",
       "      <td>2</td>\n",
       "      <td>1</td>\n",
       "      <td>0</td>\n",
       "      <td>7</td>\n",
       "      <td>2</td>\n",
       "      <td>5</td>\n",
       "      <td>7</td>\n",
       "      <td>1</td>\n",
       "    </tr>\n",
       "    <tr>\n",
       "      <th>1</th>\n",
       "      <td>Mexico</td>\n",
       "      <td>northamerica</td>\n",
       "      <td>A</td>\n",
       "      <td>2</td>\n",
       "      <td>3</td>\n",
       "      <td>2</td>\n",
       "      <td>1</td>\n",
       "      <td>0</td>\n",
       "      <td>4</td>\n",
       "      <td>1</td>\n",
       "      <td>3</td>\n",
       "      <td>7</td>\n",
       "      <td>1</td>\n",
       "    </tr>\n",
       "    <tr>\n",
       "      <th>2</th>\n",
       "      <td>Croatia</td>\n",
       "      <td>europe</td>\n",
       "      <td>A</td>\n",
       "      <td>3</td>\n",
       "      <td>3</td>\n",
       "      <td>1</td>\n",
       "      <td>0</td>\n",
       "      <td>2</td>\n",
       "      <td>6</td>\n",
       "      <td>6</td>\n",
       "      <td>0</td>\n",
       "      <td>3</td>\n",
       "      <td>0</td>\n",
       "    </tr>\n",
       "    <tr>\n",
       "      <th>3</th>\n",
       "      <td>Cameroon</td>\n",
       "      <td>africa</td>\n",
       "      <td>A</td>\n",
       "      <td>4</td>\n",
       "      <td>3</td>\n",
       "      <td>0</td>\n",
       "      <td>0</td>\n",
       "      <td>3</td>\n",
       "      <td>1</td>\n",
       "      <td>9</td>\n",
       "      <td>−8</td>\n",
       "      <td>0</td>\n",
       "      <td>0</td>\n",
       "    </tr>\n",
       "    <tr>\n",
       "      <th>4</th>\n",
       "      <td>Netherlands</td>\n",
       "      <td>europe</td>\n",
       "      <td>B</td>\n",
       "      <td>1</td>\n",
       "      <td>3</td>\n",
       "      <td>3</td>\n",
       "      <td>0</td>\n",
       "      <td>0</td>\n",
       "      <td>10</td>\n",
       "      <td>3</td>\n",
       "      <td>7</td>\n",
       "      <td>9</td>\n",
       "      <td>1</td>\n",
       "    </tr>\n",
       "  </tbody>\n",
       "</table>\n",
       "</div>"
      ],
      "text/plain": [
       "          team     continent group  group_pos  cantidad_juegos  \\\n",
       "0       Brazil  southamerica     A          1                3   \n",
       "1       Mexico  northamerica     A          2                3   \n",
       "2      Croatia        europe     A          3                3   \n",
       "3     Cameroon        africa     A          4                3   \n",
       "4  Netherlands        europe     B          1                3   \n",
       "\n",
       "   juegos_ganados  juegos_empatados  juegos_perdidos  goles_favor  \\\n",
       "0               2                 1                0            7   \n",
       "1               2                 1                0            4   \n",
       "2               1                 0                2            6   \n",
       "3               0                 0                3            1   \n",
       "4               3                 0                0           10   \n",
       "\n",
       "   goles_contra goles_diferencia  puntos  clasificado  \n",
       "0             2                5       7            1  \n",
       "1             1                3       7            1  \n",
       "2             6                0       3            0  \n",
       "3             9               −8       0            0  \n",
       "4             3                7       9            1  "
      ]
     },
     "execution_count": 1,
     "metadata": {},
     "output_type": "execute_result"
    }
   ],
   "source": [
    "# Importar pandas y numpy\n",
    "import pandas as pd\n",
    "import numpy as np\n",
    "\n",
    "# Leer archivo csv\n",
    "df = pd.read_csv('worldcup2014.csv')\n",
    "\n",
    "# Solicitar 5 primeras observaciones\n",
    "df.head()"
   ]
  },
  {
   "cell_type": "markdown",
   "id": "0e52bf21",
   "metadata": {},
   "source": [
    "##### 2. Frecuencia de continente"
   ]
  },
  {
   "cell_type": "code",
   "execution_count": 72,
   "id": "ea3b909a",
   "metadata": {},
   "outputs": [
    {
     "name": "stdout",
     "output_type": "stream",
     "text": [
      "El continente con mayor presencia es:\n",
      "europe    13\n",
      "Name: continent, dtype: int64\n",
      "Probabilidad de elegir un equipo asiatico: 12.5%\n",
      "Probabilidad de elegir un equipo africano: 15.625%\n"
     ]
    }
   ],
   "source": [
    "# Continente con una mayor presencia\n",
    "counts = df['continent'].value_counts()[:1]\n",
    "print(f'El continente con mayor presencia es:\\n{counts}')\n",
    "\n",
    "# Probabilidad de elegir un equipo asiatico al azar\n",
    "p_asia = df['continent'].value_counts('%')['asia']\n",
    "print(f'Probabilidad de elegir un equipo asiatico: {p_asia*100}%')\n",
    "\n",
    "# Probabilidad de elegir un equipo africano al azar\n",
    "p_africa = df['continent'].value_counts('%')['africa']\n",
    "print(f'Probabilidad de elegir un equipo africano: {p_africa*100}%')"
   ]
  },
  {
   "cell_type": "markdown",
   "id": "80b4377e",
   "metadata": {},
   "source": [
    "- El continente con mayor presencia es Europa con 13 repeticiones.\n",
    "- La probabilidad de elegir un equipo asiatico es de 12,5%\n",
    "- La probabilidad de elegir un equipo africano es de 15,6%"
   ]
  },
  {
   "cell_type": "markdown",
   "id": "e51a2d95",
   "metadata": {},
   "source": [
    "##### 3. Generación de un subconjunto de datos"
   ]
  },
  {
   "cell_type": "code",
   "execution_count": 73,
   "id": "d92d1088",
   "metadata": {},
   "outputs": [],
   "source": [
    "europe =        df[df['continent'] == 'europe'].reset_index(drop=True)\n",
    "southamerica =  df[df['continent'] == 'southamerica'].reset_index(drop=True)\n",
    "africa =        df[df['continent'] == 'africa'].reset_index(drop=True)\n",
    "northamerica =  df[df['continent'] == 'northamerica'].reset_index(drop=True)\n",
    "asia =          df[df['continent'] == 'asia'].reset_index(drop=True)"
   ]
  },
  {
   "cell_type": "markdown",
   "id": "61afcb02",
   "metadata": {},
   "source": [
    "##### 4. Probabilidad de clasificación a la siguiente ronda"
   ]
  },
  {
   "cell_type": "code",
   "execution_count": 75,
   "id": "b546828b",
   "metadata": {},
   "outputs": [
    {
     "data": {
      "text/html": [
       "<div>\n",
       "<style scoped>\n",
       "    .dataframe tbody tr th:only-of-type {\n",
       "        vertical-align: middle;\n",
       "    }\n",
       "\n",
       "    .dataframe tbody tr th {\n",
       "        vertical-align: top;\n",
       "    }\n",
       "\n",
       "    .dataframe thead th {\n",
       "        text-align: right;\n",
       "    }\n",
       "</style>\n",
       "<table border=\"1\" class=\"dataframe\">\n",
       "  <thead>\n",
       "    <tr style=\"text-align: right;\">\n",
       "      <th></th>\n",
       "      <th>continent</th>\n",
       "      <th>sum</th>\n",
       "      <th>count</th>\n",
       "      <th>prob</th>\n",
       "    </tr>\n",
       "  </thead>\n",
       "  <tbody>\n",
       "    <tr>\n",
       "      <th>0</th>\n",
       "      <td>africa</td>\n",
       "      <td>2</td>\n",
       "      <td>5</td>\n",
       "      <td>0.400000</td>\n",
       "    </tr>\n",
       "    <tr>\n",
       "      <th>1</th>\n",
       "      <td>asia</td>\n",
       "      <td>0</td>\n",
       "      <td>4</td>\n",
       "      <td>0.000000</td>\n",
       "    </tr>\n",
       "    <tr>\n",
       "      <th>2</th>\n",
       "      <td>europe</td>\n",
       "      <td>6</td>\n",
       "      <td>13</td>\n",
       "      <td>0.461538</td>\n",
       "    </tr>\n",
       "    <tr>\n",
       "      <th>3</th>\n",
       "      <td>northamerica</td>\n",
       "      <td>3</td>\n",
       "      <td>4</td>\n",
       "      <td>0.750000</td>\n",
       "    </tr>\n",
       "    <tr>\n",
       "      <th>4</th>\n",
       "      <td>southamerica</td>\n",
       "      <td>5</td>\n",
       "      <td>6</td>\n",
       "      <td>0.833333</td>\n",
       "    </tr>\n",
       "  </tbody>\n",
       "</table>\n",
       "</div>"
      ],
      "text/plain": [
       "      continent  sum  count      prob\n",
       "0        africa    2      5  0.400000\n",
       "1          asia    0      4  0.000000\n",
       "2        europe    6     13  0.461538\n",
       "3  northamerica    3      4  0.750000\n",
       "4  southamerica    5      6  0.833333"
      ]
     },
     "execution_count": 75,
     "metadata": {},
     "output_type": "execute_result"
    }
   ],
   "source": [
    "df2 = df[['continent','clasificado']].groupby('continent',as_index=False).agg(['sum','count'])\n",
    "df2 = df2['clasificado'].reset_index()\n",
    "df2['prob'] = df2['sum'] / df2['count']\n",
    "df2"
   ]
  },
  {
   "cell_type": "markdown",
   "id": "78c61e4d",
   "metadata": {},
   "source": [
    "- La probabilidad que clasifique un equipo asiatico a la segunda ronda es 0%\n",
    "- Los 2 continentes con mayor probabilidad de clasificar son Sudamerica con 83% y Norteamericanos con 75%\n",
    "- La probabilidad de que un país europeo no clasifique es de 53,8%"
   ]
  },
  {
   "cell_type": "markdown",
   "id": "d7137fca",
   "metadata": {},
   "source": [
    "##### 5. Probabilidad de victoria y derrota"
   ]
  },
  {
   "cell_type": "code",
   "execution_count": 106,
   "id": "2b295754",
   "metadata": {},
   "outputs": [],
   "source": [
    "df['ha_ganado'] = 0\n",
    "df.loc[df['juegos_ganados'] > 0, 'ha_ganado'] = 1"
   ]
  },
  {
   "cell_type": "code",
   "execution_count": 105,
   "id": "90209a37",
   "metadata": {},
   "outputs": [],
   "source": [
    "df['ha_perdido'] = 0\n",
    "df.loc[df['juegos_perdidos'] > 0, 'ha_perdido'] = 1"
   ]
  },
  {
   "cell_type": "code",
   "execution_count": 103,
   "id": "292a4a22",
   "metadata": {},
   "outputs": [
    {
     "data": {
      "text/html": [
       "<div>\n",
       "<style scoped>\n",
       "    .dataframe tbody tr th:only-of-type {\n",
       "        vertical-align: middle;\n",
       "    }\n",
       "\n",
       "    .dataframe tbody tr th {\n",
       "        vertical-align: top;\n",
       "    }\n",
       "\n",
       "    .dataframe thead th {\n",
       "        text-align: right;\n",
       "    }\n",
       "</style>\n",
       "<table border=\"1\" class=\"dataframe\">\n",
       "  <thead>\n",
       "    <tr style=\"text-align: right;\">\n",
       "      <th></th>\n",
       "      <th>continent</th>\n",
       "      <th>ha_ganado</th>\n",
       "      <th>prob</th>\n",
       "    </tr>\n",
       "  </thead>\n",
       "  <tbody>\n",
       "    <tr>\n",
       "      <th>2</th>\n",
       "      <td>europe</td>\n",
       "      <td>11</td>\n",
       "      <td>0.34375</td>\n",
       "    </tr>\n",
       "    <tr>\n",
       "      <th>4</th>\n",
       "      <td>southamerica</td>\n",
       "      <td>6</td>\n",
       "      <td>0.18750</td>\n",
       "    </tr>\n",
       "    <tr>\n",
       "      <th>0</th>\n",
       "      <td>africa</td>\n",
       "      <td>3</td>\n",
       "      <td>0.09375</td>\n",
       "    </tr>\n",
       "    <tr>\n",
       "      <th>3</th>\n",
       "      <td>northamerica</td>\n",
       "      <td>3</td>\n",
       "      <td>0.09375</td>\n",
       "    </tr>\n",
       "    <tr>\n",
       "      <th>1</th>\n",
       "      <td>asia</td>\n",
       "      <td>0</td>\n",
       "      <td>0.00000</td>\n",
       "    </tr>\n",
       "  </tbody>\n",
       "</table>\n",
       "</div>"
      ],
      "text/plain": [
       "      continent  ha_ganado     prob\n",
       "2        europe         11  0.34375\n",
       "4  southamerica          6  0.18750\n",
       "0        africa          3  0.09375\n",
       "3  northamerica          3  0.09375\n",
       "1          asia          0  0.00000"
      ]
     },
     "execution_count": 103,
     "metadata": {},
     "output_type": "execute_result"
    }
   ],
   "source": [
    "df2 = df[['continent','ha_ganado']].groupby(['continent'],as_index=False).sum('ha_ganado').sort_values('ha_ganado',ascending=False) #agg(['sum','count'])\n",
    "#df2 = df2['ha_ganado'].reset_index()\n",
    "df2['prob'] = df2['ha_ganado'] / len(df)\n",
    "df2\n",
    "#df['ha_ganado'] = "
   ]
  },
  {
   "cell_type": "code",
   "execution_count": 104,
   "id": "b388123e",
   "metadata": {},
   "outputs": [
    {
     "data": {
      "text/html": [
       "<div>\n",
       "<style scoped>\n",
       "    .dataframe tbody tr th:only-of-type {\n",
       "        vertical-align: middle;\n",
       "    }\n",
       "\n",
       "    .dataframe tbody tr th {\n",
       "        vertical-align: top;\n",
       "    }\n",
       "\n",
       "    .dataframe thead th {\n",
       "        text-align: right;\n",
       "    }\n",
       "</style>\n",
       "<table border=\"1\" class=\"dataframe\">\n",
       "  <thead>\n",
       "    <tr style=\"text-align: right;\">\n",
       "      <th></th>\n",
       "      <th>continent</th>\n",
       "      <th>ha_perdido</th>\n",
       "      <th>prob</th>\n",
       "    </tr>\n",
       "  </thead>\n",
       "  <tbody>\n",
       "    <tr>\n",
       "      <th>2</th>\n",
       "      <td>europe</td>\n",
       "      <td>9</td>\n",
       "      <td>0.28125</td>\n",
       "    </tr>\n",
       "    <tr>\n",
       "      <th>0</th>\n",
       "      <td>africa</td>\n",
       "      <td>5</td>\n",
       "      <td>0.15625</td>\n",
       "    </tr>\n",
       "    <tr>\n",
       "      <th>1</th>\n",
       "      <td>asia</td>\n",
       "      <td>4</td>\n",
       "      <td>0.12500</td>\n",
       "    </tr>\n",
       "    <tr>\n",
       "      <th>4</th>\n",
       "      <td>southamerica</td>\n",
       "      <td>3</td>\n",
       "      <td>0.09375</td>\n",
       "    </tr>\n",
       "    <tr>\n",
       "      <th>3</th>\n",
       "      <td>northamerica</td>\n",
       "      <td>2</td>\n",
       "      <td>0.06250</td>\n",
       "    </tr>\n",
       "  </tbody>\n",
       "</table>\n",
       "</div>"
      ],
      "text/plain": [
       "      continent  ha_perdido     prob\n",
       "2        europe           9  0.28125\n",
       "0        africa           5  0.15625\n",
       "1          asia           4  0.12500\n",
       "4  southamerica           3  0.09375\n",
       "3  northamerica           2  0.06250"
      ]
     },
     "execution_count": 104,
     "metadata": {},
     "output_type": "execute_result"
    }
   ],
   "source": [
    "df3 = df[['continent','ha_perdido']].groupby(['continent'],as_index=False).sum('ha_perdido').sort_values('ha_perdido',ascending=False) #agg(['sum','count'])\n",
    "#df2 = df2['ha_ganado'].reset_index()\n",
    "df3['prob'] = df3['ha_perdido'] / len(df)\n",
    "df3"
   ]
  },
  {
   "cell_type": "markdown",
   "id": "5a7b17bb",
   "metadata": {},
   "source": [
    "- A. Europa tiene la mayor probabilidad de tener paises con al menos una victoria con un 34.3%.\n",
    "- B. Africa y Norteamérica tienen la misma probabilidad de tener paises con al menos una victoria con un 9.4%. Mientras que, los continentes con mayor probabilidad de tener paises sin juegos perdidos son Europa y África con un 28.1% y un 15.6% respectivamente."
   ]
  }
 ],
 "metadata": {
  "kernelspec": {
   "display_name": "Python 3 (ipykernel)",
   "language": "python",
   "name": "python3"
  },
  "language_info": {
   "codemirror_mode": {
    "name": "ipython",
    "version": 3
   },
   "file_extension": ".py",
   "mimetype": "text/x-python",
   "name": "python",
   "nbconvert_exporter": "python",
   "pygments_lexer": "ipython3",
   "version": "3.9.13"
  },
  "vscode": {
   "interpreter": {
    "hash": "7d3204a0a55172babda99d25e55882820d818e616662117f457299007ca7fba1"
   }
  }
 },
 "nbformat": 4,
 "nbformat_minor": 5
}
