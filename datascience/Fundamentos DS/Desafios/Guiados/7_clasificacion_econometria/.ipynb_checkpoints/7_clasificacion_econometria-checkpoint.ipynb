{
 "cells": [
  {
   "cell_type": "markdown",
   "id": "2170a0fa",
   "metadata": {},
   "source": [
    "### Desafío 1: Preparar el ambiente de trabajo"
   ]
  },
  {
   "cell_type": "code",
   "execution_count": 40,
   "id": "46c90417",
   "metadata": {},
   "outputs": [
    {
     "data": {
      "text/html": [
       "<div>\n",
       "<style scoped>\n",
       "    .dataframe tbody tr th:only-of-type {\n",
       "        vertical-align: middle;\n",
       "    }\n",
       "\n",
       "    .dataframe tbody tr th {\n",
       "        vertical-align: top;\n",
       "    }\n",
       "\n",
       "    .dataframe thead th {\n",
       "        text-align: right;\n",
       "    }\n",
       "</style>\n",
       "<table border=\"1\" class=\"dataframe\">\n",
       "  <thead>\n",
       "    <tr style=\"text-align: right;\">\n",
       "      <th></th>\n",
       "      <th>Unnamed: 0</th>\n",
       "      <th>sbp</th>\n",
       "      <th>tobacco</th>\n",
       "      <th>ldl</th>\n",
       "      <th>adiposity</th>\n",
       "      <th>famhist</th>\n",
       "      <th>typea</th>\n",
       "      <th>obesity</th>\n",
       "      <th>alcohol</th>\n",
       "      <th>age</th>\n",
       "      <th>chd</th>\n",
       "    </tr>\n",
       "  </thead>\n",
       "  <tbody>\n",
       "    <tr>\n",
       "      <th>0</th>\n",
       "      <td>1</td>\n",
       "      <td>160</td>\n",
       "      <td>12.00</td>\n",
       "      <td>5.73</td>\n",
       "      <td>23.11</td>\n",
       "      <td>Present</td>\n",
       "      <td>49</td>\n",
       "      <td>25.30</td>\n",
       "      <td>97.20</td>\n",
       "      <td>52</td>\n",
       "      <td>1</td>\n",
       "    </tr>\n",
       "    <tr>\n",
       "      <th>1</th>\n",
       "      <td>2</td>\n",
       "      <td>144</td>\n",
       "      <td>0.01</td>\n",
       "      <td>4.41</td>\n",
       "      <td>28.61</td>\n",
       "      <td>Absent</td>\n",
       "      <td>55</td>\n",
       "      <td>28.87</td>\n",
       "      <td>2.06</td>\n",
       "      <td>63</td>\n",
       "      <td>1</td>\n",
       "    </tr>\n",
       "    <tr>\n",
       "      <th>2</th>\n",
       "      <td>3</td>\n",
       "      <td>118</td>\n",
       "      <td>0.08</td>\n",
       "      <td>3.48</td>\n",
       "      <td>32.28</td>\n",
       "      <td>Present</td>\n",
       "      <td>52</td>\n",
       "      <td>29.14</td>\n",
       "      <td>3.81</td>\n",
       "      <td>46</td>\n",
       "      <td>0</td>\n",
       "    </tr>\n",
       "    <tr>\n",
       "      <th>3</th>\n",
       "      <td>4</td>\n",
       "      <td>170</td>\n",
       "      <td>7.50</td>\n",
       "      <td>6.41</td>\n",
       "      <td>38.03</td>\n",
       "      <td>Present</td>\n",
       "      <td>51</td>\n",
       "      <td>31.99</td>\n",
       "      <td>24.26</td>\n",
       "      <td>58</td>\n",
       "      <td>1</td>\n",
       "    </tr>\n",
       "    <tr>\n",
       "      <th>4</th>\n",
       "      <td>5</td>\n",
       "      <td>134</td>\n",
       "      <td>13.60</td>\n",
       "      <td>3.50</td>\n",
       "      <td>27.78</td>\n",
       "      <td>Present</td>\n",
       "      <td>60</td>\n",
       "      <td>25.99</td>\n",
       "      <td>57.34</td>\n",
       "      <td>49</td>\n",
       "      <td>1</td>\n",
       "    </tr>\n",
       "  </tbody>\n",
       "</table>\n",
       "</div>"
      ],
      "text/plain": [
       "   Unnamed: 0  sbp  tobacco   ldl  adiposity  famhist  typea  obesity  \\\n",
       "0           1  160    12.00  5.73      23.11  Present     49    25.30   \n",
       "1           2  144     0.01  4.41      28.61   Absent     55    28.87   \n",
       "2           3  118     0.08  3.48      32.28  Present     52    29.14   \n",
       "3           4  170     7.50  6.41      38.03  Present     51    31.99   \n",
       "4           5  134    13.60  3.50      27.78  Present     60    25.99   \n",
       "\n",
       "   alcohol  age  chd  \n",
       "0    97.20   52    1  \n",
       "1     2.06   63    1  \n",
       "2     3.81   46    0  \n",
       "3    24.26   58    1  \n",
       "4    57.34   49    1  "
      ]
     },
     "execution_count": 40,
     "metadata": {},
     "output_type": "execute_result"
    }
   ],
   "source": [
    "#se importan las librerías de siempre\n",
    "import matplotlib.pyplot as plt\n",
    "import pandas as pd\n",
    "import numpy as np\n",
    "import scipy.stats as stats\n",
    "from scipy.stats import norm\n",
    "from sklearn.preprocessing import PolynomialFeatures as polynom\n",
    "from sklearn.linear_model import LinearRegression as linreg\n",
    "from sklearn.pipeline import make_pipeline\n",
    "import statsmodels.formula.api as smf\n",
    "\n",
    "plt.style.use('seaborn-whitegrid')\n",
    "\n",
    "import warnings\n",
    "warnings.filterwarnings(\"ignore\")\n",
    "\n",
    "#se importa el dataframe\n",
    "df = pd.read_csv('southafricanheart.csv')\n",
    "df.head()"
   ]
  },
  {
   "cell_type": "code",
   "execution_count": 41,
   "id": "e662d9c8",
   "metadata": {},
   "outputs": [
    {
     "data": {
      "text/html": [
       "<div>\n",
       "<style scoped>\n",
       "    .dataframe tbody tr th:only-of-type {\n",
       "        vertical-align: middle;\n",
       "    }\n",
       "\n",
       "    .dataframe tbody tr th {\n",
       "        vertical-align: top;\n",
       "    }\n",
       "\n",
       "    .dataframe thead th {\n",
       "        text-align: right;\n",
       "    }\n",
       "</style>\n",
       "<table border=\"1\" class=\"dataframe\">\n",
       "  <thead>\n",
       "    <tr style=\"text-align: right;\">\n",
       "      <th></th>\n",
       "      <th>sbp</th>\n",
       "      <th>tobacco</th>\n",
       "      <th>ldl</th>\n",
       "      <th>adiposity</th>\n",
       "      <th>famhist</th>\n",
       "      <th>typea</th>\n",
       "      <th>obesity</th>\n",
       "      <th>alcohol</th>\n",
       "      <th>age</th>\n",
       "      <th>chd</th>\n",
       "    </tr>\n",
       "  </thead>\n",
       "  <tbody>\n",
       "    <tr>\n",
       "      <th>0</th>\n",
       "      <td>160</td>\n",
       "      <td>12.00</td>\n",
       "      <td>5.73</td>\n",
       "      <td>23.11</td>\n",
       "      <td>Present</td>\n",
       "      <td>49</td>\n",
       "      <td>25.30</td>\n",
       "      <td>97.20</td>\n",
       "      <td>52</td>\n",
       "      <td>1</td>\n",
       "    </tr>\n",
       "    <tr>\n",
       "      <th>1</th>\n",
       "      <td>144</td>\n",
       "      <td>0.01</td>\n",
       "      <td>4.41</td>\n",
       "      <td>28.61</td>\n",
       "      <td>Absent</td>\n",
       "      <td>55</td>\n",
       "      <td>28.87</td>\n",
       "      <td>2.06</td>\n",
       "      <td>63</td>\n",
       "      <td>1</td>\n",
       "    </tr>\n",
       "    <tr>\n",
       "      <th>2</th>\n",
       "      <td>118</td>\n",
       "      <td>0.08</td>\n",
       "      <td>3.48</td>\n",
       "      <td>32.28</td>\n",
       "      <td>Present</td>\n",
       "      <td>52</td>\n",
       "      <td>29.14</td>\n",
       "      <td>3.81</td>\n",
       "      <td>46</td>\n",
       "      <td>0</td>\n",
       "    </tr>\n",
       "    <tr>\n",
       "      <th>3</th>\n",
       "      <td>170</td>\n",
       "      <td>7.50</td>\n",
       "      <td>6.41</td>\n",
       "      <td>38.03</td>\n",
       "      <td>Present</td>\n",
       "      <td>51</td>\n",
       "      <td>31.99</td>\n",
       "      <td>24.26</td>\n",
       "      <td>58</td>\n",
       "      <td>1</td>\n",
       "    </tr>\n",
       "    <tr>\n",
       "      <th>4</th>\n",
       "      <td>134</td>\n",
       "      <td>13.60</td>\n",
       "      <td>3.50</td>\n",
       "      <td>27.78</td>\n",
       "      <td>Present</td>\n",
       "      <td>60</td>\n",
       "      <td>25.99</td>\n",
       "      <td>57.34</td>\n",
       "      <td>49</td>\n",
       "      <td>1</td>\n",
       "    </tr>\n",
       "  </tbody>\n",
       "</table>\n",
       "</div>"
      ],
      "text/plain": [
       "   sbp  tobacco   ldl  adiposity  famhist  typea  obesity  alcohol  age  chd\n",
       "0  160    12.00  5.73      23.11  Present     49    25.30    97.20   52    1\n",
       "1  144     0.01  4.41      28.61   Absent     55    28.87     2.06   63    1\n",
       "2  118     0.08  3.48      32.28  Present     52    29.14     3.81   46    0\n",
       "3  170     7.50  6.41      38.03  Present     51    31.99    24.26   58    1\n",
       "4  134    13.60  3.50      27.78  Present     60    25.99    57.34   49    1"
      ]
     },
     "execution_count": 41,
     "metadata": {},
     "output_type": "execute_result"
    }
   ],
   "source": [
    "#se elimina la columna con el índice original\n",
    "df = df.drop(['Unnamed: 0'],axis=1)\n",
    "df.head()"
   ]
  },
  {
   "cell_type": "markdown",
   "id": "7c3b10c3",
   "metadata": {},
   "source": [
    "### Desafío 2:\n",
    "#### A continuación se presenta el siguiente modelo a estimar\n",
    "$$\\log \\left(\\frac{Pr(chd=1)}{1-Pr(chd=1)}\\right)=\\beta_{0} + \\beta_{1} \\times famhist$$\n",
    "#### 1. Recodifique famhist a dummy, asignando 1 a la categoría minoritaria."
   ]
  },
  {
   "cell_type": "code",
   "execution_count": 42,
   "id": "5a6ea8ff",
   "metadata": {},
   "outputs": [
    {
     "data": {
      "text/plain": [
       "Absent     270\n",
       "Present    192\n",
       "Name: famhist, dtype: int64"
      ]
     },
     "execution_count": 42,
     "metadata": {},
     "output_type": "execute_result"
    }
   ],
   "source": [
    "# Se revisa la columna famhist\n",
    "df['famhist'].value_counts()"
   ]
  },
  {
   "cell_type": "code",
   "execution_count": 44,
   "id": "c1845951",
   "metadata": {},
   "outputs": [
    {
     "data": {
      "text/html": [
       "<div>\n",
       "<style scoped>\n",
       "    .dataframe tbody tr th:only-of-type {\n",
       "        vertical-align: middle;\n",
       "    }\n",
       "\n",
       "    .dataframe tbody tr th {\n",
       "        vertical-align: top;\n",
       "    }\n",
       "\n",
       "    .dataframe thead th {\n",
       "        text-align: right;\n",
       "    }\n",
       "</style>\n",
       "<table border=\"1\" class=\"dataframe\">\n",
       "  <thead>\n",
       "    <tr style=\"text-align: right;\">\n",
       "      <th></th>\n",
       "      <th>sbp</th>\n",
       "      <th>tobacco</th>\n",
       "      <th>ldl</th>\n",
       "      <th>adiposity</th>\n",
       "      <th>famhist</th>\n",
       "      <th>typea</th>\n",
       "      <th>obesity</th>\n",
       "      <th>alcohol</th>\n",
       "      <th>age</th>\n",
       "      <th>chd</th>\n",
       "      <th>famhist_dummy</th>\n",
       "    </tr>\n",
       "  </thead>\n",
       "  <tbody>\n",
       "    <tr>\n",
       "      <th>0</th>\n",
       "      <td>160</td>\n",
       "      <td>12.00</td>\n",
       "      <td>5.73</td>\n",
       "      <td>23.11</td>\n",
       "      <td>Present</td>\n",
       "      <td>49</td>\n",
       "      <td>25.30</td>\n",
       "      <td>97.20</td>\n",
       "      <td>52</td>\n",
       "      <td>1</td>\n",
       "      <td>1</td>\n",
       "    </tr>\n",
       "    <tr>\n",
       "      <th>1</th>\n",
       "      <td>144</td>\n",
       "      <td>0.01</td>\n",
       "      <td>4.41</td>\n",
       "      <td>28.61</td>\n",
       "      <td>Absent</td>\n",
       "      <td>55</td>\n",
       "      <td>28.87</td>\n",
       "      <td>2.06</td>\n",
       "      <td>63</td>\n",
       "      <td>1</td>\n",
       "      <td>0</td>\n",
       "    </tr>\n",
       "    <tr>\n",
       "      <th>2</th>\n",
       "      <td>118</td>\n",
       "      <td>0.08</td>\n",
       "      <td>3.48</td>\n",
       "      <td>32.28</td>\n",
       "      <td>Present</td>\n",
       "      <td>52</td>\n",
       "      <td>29.14</td>\n",
       "      <td>3.81</td>\n",
       "      <td>46</td>\n",
       "      <td>0</td>\n",
       "      <td>1</td>\n",
       "    </tr>\n",
       "    <tr>\n",
       "      <th>3</th>\n",
       "      <td>170</td>\n",
       "      <td>7.50</td>\n",
       "      <td>6.41</td>\n",
       "      <td>38.03</td>\n",
       "      <td>Present</td>\n",
       "      <td>51</td>\n",
       "      <td>31.99</td>\n",
       "      <td>24.26</td>\n",
       "      <td>58</td>\n",
       "      <td>1</td>\n",
       "      <td>1</td>\n",
       "    </tr>\n",
       "    <tr>\n",
       "      <th>4</th>\n",
       "      <td>134</td>\n",
       "      <td>13.60</td>\n",
       "      <td>3.50</td>\n",
       "      <td>27.78</td>\n",
       "      <td>Present</td>\n",
       "      <td>60</td>\n",
       "      <td>25.99</td>\n",
       "      <td>57.34</td>\n",
       "      <td>49</td>\n",
       "      <td>1</td>\n",
       "      <td>1</td>\n",
       "    </tr>\n",
       "  </tbody>\n",
       "</table>\n",
       "</div>"
      ],
      "text/plain": [
       "   sbp  tobacco   ldl  adiposity  famhist  typea  obesity  alcohol  age  chd  \\\n",
       "0  160    12.00  5.73      23.11  Present     49    25.30    97.20   52    1   \n",
       "1  144     0.01  4.41      28.61   Absent     55    28.87     2.06   63    1   \n",
       "2  118     0.08  3.48      32.28  Present     52    29.14     3.81   46    0   \n",
       "3  170     7.50  6.41      38.03  Present     51    31.99    24.26   58    1   \n",
       "4  134    13.60  3.50      27.78  Present     60    25.99    57.34   49    1   \n",
       "\n",
       "   famhist_dummy  \n",
       "0              1  \n",
       "1              0  \n",
       "2              1  \n",
       "3              1  \n",
       "4              1  "
      ]
     },
     "execution_count": 44,
     "metadata": {},
     "output_type": "execute_result"
    }
   ],
   "source": [
    "# Se crea la nueva columna con valores binarios\n",
    "df['famhist_dummy'] = np.where(df['famhist'] == 'Present',1,0)\n",
    "df.head()"
   ]
  },
  {
   "cell_type": "markdown",
   "id": "17ea1716",
   "metadata": {},
   "source": [
    "#### 2. Utilice smf.logit para estimar el modelo."
   ]
  },
  {
   "cell_type": "code",
   "execution_count": 46,
   "id": "8ff04525",
   "metadata": {},
   "outputs": [
    {
     "name": "stdout",
     "output_type": "stream",
     "text": [
      "Optimization terminated successfully.\n",
      "         Current function value: 0.608111\n",
      "         Iterations 5\n"
     ]
    }
   ],
   "source": [
    "# Se crea y entrena el modelo logistico\n",
    "modelo_logit = smf.logit('chd ~ famhist_dummy',df).fit()"
   ]
  },
  {
   "cell_type": "code",
   "execution_count": 47,
   "id": "242e6ced",
   "metadata": {},
   "outputs": [
    {
     "data": {
      "text/html": [
       "<table class=\"simpletable\">\n",
       "<tr>\n",
       "        <td>Model:</td>              <td>Logit</td>      <td>Pseudo R-squared:</td>    <td>0.057</td>  \n",
       "</tr>\n",
       "<tr>\n",
       "  <td>Dependent Variable:</td>        <td>chd</td>             <td>AIC:</td>         <td>565.8944</td> \n",
       "</tr>\n",
       "<tr>\n",
       "         <td>Date:</td>        <td>2023-03-22 15:04</td>       <td>BIC:</td>         <td>574.1655</td> \n",
       "</tr>\n",
       "<tr>\n",
       "   <td>No. Observations:</td>         <td>462</td>        <td>Log-Likelihood:</td>    <td>-280.95</td> \n",
       "</tr>\n",
       "<tr>\n",
       "       <td>Df Model:</td>              <td>1</td>            <td>LL-Null:</td>        <td>-298.05</td> \n",
       "</tr>\n",
       "<tr>\n",
       "     <td>Df Residuals:</td>           <td>460</td>         <td>LLR p-value:</td>    <td>4.9371e-09</td>\n",
       "</tr>\n",
       "<tr>\n",
       "      <td>Converged:</td>           <td>1.0000</td>           <td>Scale:</td>         <td>1.0000</td>  \n",
       "</tr>\n",
       "<tr>\n",
       "    <td>No. Iterations:</td>        <td>5.0000</td>              <td></td>               <td></td>     \n",
       "</tr>\n",
       "</table>\n",
       "<table class=\"simpletable\">\n",
       "<tr>\n",
       "        <td></td>         <th>Coef.</th>  <th>Std.Err.</th>    <th>z</th>     <th>P>|z|</th> <th>[0.025</th>  <th>0.975]</th> \n",
       "</tr>\n",
       "<tr>\n",
       "  <th>Intercept</th>     <td>-1.1690</td>  <td>0.1431</td>  <td>-8.1687</td> <td>0.0000</td> <td>-1.4495</td> <td>-0.8885</td>\n",
       "</tr>\n",
       "<tr>\n",
       "  <th>famhist_dummy</th> <td>1.1690</td>   <td>0.2033</td>  <td>5.7514</td>  <td>0.0000</td> <td>0.7706</td>  <td>1.5674</td> \n",
       "</tr>\n",
       "</table>"
      ],
      "text/plain": [
       "<class 'statsmodels.iolib.summary2.Summary'>\n",
       "\"\"\"\n",
       "                         Results: Logit\n",
       "=================================================================\n",
       "Model:              Logit            Pseudo R-squared: 0.057     \n",
       "Dependent Variable: chd              AIC:              565.8944  \n",
       "Date:               2023-03-22 15:04 BIC:              574.1655  \n",
       "No. Observations:   462              Log-Likelihood:   -280.95   \n",
       "Df Model:           1                LL-Null:          -298.05   \n",
       "Df Residuals:       460              LLR p-value:      4.9371e-09\n",
       "Converged:          1.0000           Scale:            1.0000    \n",
       "No. Iterations:     5.0000                                       \n",
       "-----------------------------------------------------------------\n",
       "                   Coef.  Std.Err.    z    P>|z|   [0.025  0.975]\n",
       "-----------------------------------------------------------------\n",
       "Intercept         -1.1690   0.1431 -8.1687 0.0000 -1.4495 -0.8885\n",
       "famhist_dummy      1.1690   0.2033  5.7514 0.0000  0.7706  1.5674\n",
       "=================================================================\n",
       "\n",
       "\"\"\""
      ]
     },
     "execution_count": 47,
     "metadata": {},
     "output_type": "execute_result"
    }
   ],
   "source": [
    "# Se consultan los valores del modelo con summary2\n",
    "modelo_logit.summary2()"
   ]
  },
  {
   "cell_type": "markdown",
   "id": "0d00f259",
   "metadata": {},
   "source": [
    "#### 3. Implemente una función inverse_logit que realize el mapeo de log-odds a probabilidad."
   ]
  },
  {
   "cell_type": "code",
   "execution_count": 50,
   "id": "3219b151",
   "metadata": {},
   "outputs": [],
   "source": [
    "#definimos la funcion concise_summary en base a la lectura del modulo\n",
    "\n",
    "def concise_summary(mod, print_fit=True):\n",
    "    #guardamos los parámetros asociados a estadísticas de ajuste\n",
    "    fit = pd.DataFrame({'Statistics': mod.summary2().tables[0][2][2:],\n",
    "    'Value': mod.summary2().tables[0][3][2:]})\n",
    "    # guardamos los parámetros estimados por cada regresor.\n",
    "    estimates = pd.DataFrame(mod.summary2().tables[1])\n",
    "    # imprimir fit es opcional\n",
    "    if print_fit is True:\n",
    "        print(\"\\nGoodness of Fit statistics\\n\", fit)\n",
    "        print(\"\\nPoint Estimates\\n\\n\", estimates)"
   ]
  },
  {
   "cell_type": "code",
   "execution_count": 51,
   "id": "4ba69de8",
   "metadata": {},
   "outputs": [
    {
     "name": "stdout",
     "output_type": "stream",
     "text": [
      "\n",
      "Goodness of Fit statistics\n",
      "         Statistics       Value\n",
      "2             BIC:    574.1655\n",
      "3  Log-Likelihood:     -280.95\n",
      "4         LL-Null:     -298.05\n",
      "5     LLR p-value:  4.9371e-09\n",
      "6           Scale:      1.0000\n",
      "7                             \n",
      "\n",
      "Point Estimates\n",
      "\n",
      "                   Coef.  Std.Err.         z         P>|z|    [0.025    0.975]\n",
      "Intercept     -1.168993  0.143106 -8.168713  3.116957e-16 -1.449476 -0.888510\n",
      "famhist_dummy  1.168993  0.203255  5.751355  8.853123e-09  0.770620  1.567366\n"
     ]
    }
   ],
   "source": [
    "# Se utiliza el lodelo logistico para estimar el modelo\n",
    "concise_summary(modelo_logit)"
   ]
  },
  {
   "cell_type": "code",
   "execution_count": 53,
   "id": "d79d7182",
   "metadata": {},
   "outputs": [],
   "source": [
    "# Se crea la funcion inverse_logit\n",
    "def inverse_logit(x):\n",
    "    return 1 / (1+np.exp(-x))"
   ]
  },
  {
   "cell_type": "markdown",
   "id": "e9e60925",
   "metadata": {},
   "source": [
    "#### 4. Con el modelo estimado, responda lo siguiente:\n",
    "* ¿Cuál es la probabilidad de un individuo con antecedentes familiares de tener una enfermedad coronaria?\n",
    "* ¿Cuál es la probabilidad de un individuo sin antecedentes familiares de tener una enfermedad coronaria?\n",
    "* ¿Cuál es la diferencia en la probabilidad entre un individuo con antecedentes y otro sin\n",
    "antecedentes?\n",
    "* Replique el modelo con smf.ols y comente las similitudes entre los coeficientes estimados.\n",
    "* tip: Utilice beta/4\n",
    "* Estime el mismo modelo con LPM"
   ]
  },
  {
   "cell_type": "code",
   "execution_count": 56,
   "id": "b0bfc64a",
   "metadata": {},
   "outputs": [
    {
     "data": {
      "text/plain": [
       "0.237"
      ]
     },
     "execution_count": 56,
     "metadata": {},
     "output_type": "execute_result"
    }
   ],
   "source": [
    "# Se obtiene la probabilidad de un individuo sin antecedentes familiares\n",
    "isaf = round(inverse_logit(-1.168993),4)\n",
    "isaf"
   ]
  },
  {
   "cell_type": "markdown",
   "id": "ce2f80ef",
   "metadata": {},
   "source": [
    "##### La probabilidad de obtener una enfermedad coronaria para un individuo sin antecedentes familiares es de $23.7\\%$"
   ]
  },
  {
   "cell_type": "code",
   "execution_count": 57,
   "id": "bbabb57c",
   "metadata": {},
   "outputs": [
    {
     "data": {
      "text/plain": [
       "0.5"
      ]
     },
     "execution_count": 57,
     "metadata": {},
     "output_type": "execute_result"
    }
   ],
   "source": [
    "# Se obtiene la probabilidad de un individuo con antecedentes familiares\n",
    "icaf = round(inverse_logit(-1.168993+1.168993), 4)\n",
    "icaf"
   ]
  },
  {
   "cell_type": "markdown",
   "id": "fde322a1",
   "metadata": {},
   "source": [
    "#### La probabilidad de obtener una enfermedad coronaria para un individuo con antecedentes familiares es de $50\\%$"
   ]
  },
  {
   "cell_type": "code",
   "execution_count": 58,
   "id": "4844d022",
   "metadata": {},
   "outputs": [
    {
     "data": {
      "text/plain": [
       "0.263"
      ]
     },
     "execution_count": 58,
     "metadata": {},
     "output_type": "execute_result"
    }
   ],
   "source": [
    "# Se obtiene la diferencia en la probabilidad entre un individuo con antecedentes y otro sin antecedentes\n",
    "icaf-isaf"
   ]
  },
  {
   "cell_type": "markdown",
   "id": "dce34720",
   "metadata": {},
   "source": [
    "#### La diferencia en la probabilidad entre un individui con antecedetes familiares y otro sin antecedentes es de $26.3\\%$"
   ]
  },
  {
   "cell_type": "code",
   "execution_count": 61,
   "id": "23168b99",
   "metadata": {},
   "outputs": [
    {
     "name": "stdout",
     "output_type": "stream",
     "text": [
      "\n",
      "Goodness of Fit statistics\n",
      "             Statistics     Value\n",
      "2                 BIC:  601.4437\n",
      "3      Log-Likelihood:   -294.59\n",
      "4         F-statistic:     36.86\n",
      "5  Prob (F-statistic):  2.66e-09\n",
      "6               Scale:   0.21050\n",
      "\n",
      "Point Estimates\n",
      "\n",
      "                   Coef.  Std.Err.         t         P>|t|    [0.025    0.975]\n",
      "Intercept      0.237037  0.027922  8.489319  2.886599e-16  0.182167  0.291907\n",
      "famhist_dummy  0.262963  0.043313  6.071289  2.657629e-09  0.177848  0.348078\n"
     ]
    }
   ],
   "source": [
    "# Se replica modelo lineal con smf.ols\n",
    "modelo_ols = smf.ols('chd ~ famhist_dummy', df).fit()\n",
    "concise_summary(modelo_ols)"
   ]
  },
  {
   "cell_type": "code",
   "execution_count": 62,
   "id": "416f0c63",
   "metadata": {},
   "outputs": [
    {
     "data": {
      "text/plain": [
       "0.5"
      ]
     },
     "execution_count": 62,
     "metadata": {},
     "output_type": "execute_result"
    }
   ],
   "source": [
    "# Se usa el intercepto y famhist_dummy\n",
    "prob = 0.237037 + 0.262963\n",
    "prob"
   ]
  },
  {
   "cell_type": "markdown",
   "id": "18ea0591",
   "metadata": {},
   "source": [
    "#### En ambos modelos existe una probabilidad de un $50\\%$ para que un individuo con antecedentes familiares contraiga una enfermedad coronaria"
   ]
  },
  {
   "cell_type": "code",
   "execution_count": 63,
   "id": "5636902b",
   "metadata": {},
   "outputs": [
    {
     "data": {
      "text/plain": [
       "0.29224825"
      ]
     },
     "execution_count": 63,
     "metadata": {},
     "output_type": "execute_result"
    }
   ],
   "source": [
    "# Se utiliza la regla beta/4\n",
    "1.168993/4"
   ]
  },
  {
   "cell_type": "markdown",
   "id": "20db61b4",
   "metadata": {},
   "source": [
    "#### Se observa que aplicando la regla $\\frac{\\beta}{4}$ al coeficiente de 'famhist_dummy', el resultado se asemeja al obtenido por el modelo lineal con smf.ols"
   ]
  },
  {
   "cell_type": "markdown",
   "id": "753f827e",
   "metadata": {},
   "source": [
    "## Desafío 3: Estimación completa\n",
    "#### Implemente un modelo con la siguiente forma\n",
    "$$ \\log \\left(\\frac{Pr(chd=1)}{1-Pr(chd=1)}\\right) = \\beta_{0} + \\sum_{j=1}^{N} \\beta_{j} \\times X $$"
   ]
  },
  {
   "cell_type": "code",
   "execution_count": 71,
   "id": "4dd72b32",
   "metadata": {},
   "outputs": [
    {
     "name": "stdout",
     "output_type": "stream",
     "text": [
      "Optimization terminated successfully.\n",
      "         Current function value: 0.510974\n",
      "         Iterations 6\n"
     ]
    }
   ],
   "source": [
    "# Se obtienen las variables para la clasificación\n",
    "cols = list(df.columns)\n",
    "cols.remove('chd')\n",
    "cols.remove('famhist')\n",
    "\n",
    "# Se crea y entrena el modelo saturado\n",
    "modelo2_logit = smf.logit('chd ~ ' + \"+\".join(cols),df).fit()"
   ]
  },
  {
   "cell_type": "code",
   "execution_count": 72,
   "id": "50064c64",
   "metadata": {},
   "outputs": [
    {
     "data": {
      "text/html": [
       "<table class=\"simpletable\">\n",
       "<tr>\n",
       "        <td>Model:</td>              <td>Logit</td>      <td>Pseudo R-squared:</td>    <td>0.208</td>  \n",
       "</tr>\n",
       "<tr>\n",
       "  <td>Dependent Variable:</td>        <td>chd</td>             <td>AIC:</td>         <td>492.1400</td> \n",
       "</tr>\n",
       "<tr>\n",
       "         <td>Date:</td>        <td>2023-03-22 20:22</td>       <td>BIC:</td>         <td>533.4957</td> \n",
       "</tr>\n",
       "<tr>\n",
       "   <td>No. Observations:</td>         <td>462</td>        <td>Log-Likelihood:</td>    <td>-236.07</td> \n",
       "</tr>\n",
       "<tr>\n",
       "       <td>Df Model:</td>              <td>9</td>            <td>LL-Null:</td>        <td>-298.05</td> \n",
       "</tr>\n",
       "<tr>\n",
       "     <td>Df Residuals:</td>           <td>452</td>         <td>LLR p-value:</td>    <td>2.0548e-22</td>\n",
       "</tr>\n",
       "<tr>\n",
       "      <td>Converged:</td>           <td>1.0000</td>           <td>Scale:</td>         <td>1.0000</td>  \n",
       "</tr>\n",
       "<tr>\n",
       "    <td>No. Iterations:</td>        <td>6.0000</td>              <td></td>               <td></td>     \n",
       "</tr>\n",
       "</table>\n",
       "<table class=\"simpletable\">\n",
       "<tr>\n",
       "        <td></td>         <th>Coef.</th>  <th>Std.Err.</th>    <th>z</th>     <th>P>|z|</th> <th>[0.025</th>  <th>0.975]</th> \n",
       "</tr>\n",
       "<tr>\n",
       "  <th>Intercept</th>     <td>-6.1507</td>  <td>1.3083</td>  <td>-4.7015</td> <td>0.0000</td> <td>-8.7149</td> <td>-3.5866</td>\n",
       "</tr>\n",
       "<tr>\n",
       "  <th>sbp</th>           <td>0.0065</td>   <td>0.0057</td>  <td>1.1350</td>  <td>0.2564</td> <td>-0.0047</td> <td>0.0177</td> \n",
       "</tr>\n",
       "<tr>\n",
       "  <th>tobacco</th>       <td>0.0794</td>   <td>0.0266</td>  <td>2.9838</td>  <td>0.0028</td> <td>0.0272</td>  <td>0.1315</td> \n",
       "</tr>\n",
       "<tr>\n",
       "  <th>ldl</th>           <td>0.1739</td>   <td>0.0597</td>  <td>2.9152</td>  <td>0.0036</td> <td>0.0570</td>  <td>0.2909</td> \n",
       "</tr>\n",
       "<tr>\n",
       "  <th>adiposity</th>     <td>0.0186</td>   <td>0.0293</td>  <td>0.6346</td>  <td>0.5257</td> <td>-0.0388</td> <td>0.0760</td> \n",
       "</tr>\n",
       "<tr>\n",
       "  <th>typea</th>         <td>0.0396</td>   <td>0.0123</td>  <td>3.2138</td>  <td>0.0013</td> <td>0.0154</td>  <td>0.0637</td> \n",
       "</tr>\n",
       "<tr>\n",
       "  <th>obesity</th>       <td>-0.0629</td>  <td>0.0442</td>  <td>-1.4218</td> <td>0.1551</td> <td>-0.1496</td> <td>0.0238</td> \n",
       "</tr>\n",
       "<tr>\n",
       "  <th>alcohol</th>       <td>0.0001</td>   <td>0.0045</td>  <td>0.0271</td>  <td>0.9784</td> <td>-0.0087</td> <td>0.0089</td> \n",
       "</tr>\n",
       "<tr>\n",
       "  <th>age</th>           <td>0.0452</td>   <td>0.0121</td>  <td>3.7285</td>  <td>0.0002</td> <td>0.0215</td>  <td>0.0690</td> \n",
       "</tr>\n",
       "<tr>\n",
       "  <th>famhist_dummy</th> <td>0.9254</td>   <td>0.2279</td>  <td>4.0605</td>  <td>0.0000</td> <td>0.4787</td>  <td>1.3720</td> \n",
       "</tr>\n",
       "</table>"
      ],
      "text/plain": [
       "<class 'statsmodels.iolib.summary2.Summary'>\n",
       "\"\"\"\n",
       "                         Results: Logit\n",
       "=================================================================\n",
       "Model:              Logit            Pseudo R-squared: 0.208     \n",
       "Dependent Variable: chd              AIC:              492.1400  \n",
       "Date:               2023-03-22 20:22 BIC:              533.4957  \n",
       "No. Observations:   462              Log-Likelihood:   -236.07   \n",
       "Df Model:           9                LL-Null:          -298.05   \n",
       "Df Residuals:       452              LLR p-value:      2.0548e-22\n",
       "Converged:          1.0000           Scale:            1.0000    \n",
       "No. Iterations:     6.0000                                       \n",
       "-----------------------------------------------------------------\n",
       "                   Coef.  Std.Err.    z    P>|z|   [0.025  0.975]\n",
       "-----------------------------------------------------------------\n",
       "Intercept         -6.1507   1.3083 -4.7015 0.0000 -8.7149 -3.5866\n",
       "sbp                0.0065   0.0057  1.1350 0.2564 -0.0047  0.0177\n",
       "tobacco            0.0794   0.0266  2.9838 0.0028  0.0272  0.1315\n",
       "ldl                0.1739   0.0597  2.9152 0.0036  0.0570  0.2909\n",
       "adiposity          0.0186   0.0293  0.6346 0.5257 -0.0388  0.0760\n",
       "typea              0.0396   0.0123  3.2138 0.0013  0.0154  0.0637\n",
       "obesity           -0.0629   0.0442 -1.4218 0.1551 -0.1496  0.0238\n",
       "alcohol            0.0001   0.0045  0.0271 0.9784 -0.0087  0.0089\n",
       "age                0.0452   0.0121  3.7285 0.0002  0.0215  0.0690\n",
       "famhist_dummy      0.9254   0.2279  4.0605 0.0000  0.4787  1.3720\n",
       "=================================================================\n",
       "\n",
       "\"\"\""
      ]
     },
     "execution_count": 72,
     "metadata": {},
     "output_type": "execute_result"
    }
   ],
   "source": [
    "modelo2_logit.summary2()"
   ]
  },
  {
   "cell_type": "markdown",
   "id": "0b7a20b5",
   "metadata": {},
   "source": [
    "#### Depure el modelo manteniendo las variables con significancia estadística al 95%"
   ]
  },
  {
   "cell_type": "code",
   "execution_count": 78,
   "id": "94926a22",
   "metadata": {},
   "outputs": [
    {
     "data": {
      "text/plain": [
       "['tobacco', 'ldl', 'typea', 'age', 'famhist_dummy']"
      ]
     },
     "execution_count": 78,
     "metadata": {},
     "output_type": "execute_result"
    }
   ],
   "source": [
    "# Se buscan las columnas con significancia estadística al 95%\n",
    "cols2 = list(modelo2_logit.pvalues[modelo2_logit.pvalues <= 0.005].index)\n",
    "cols2.remove('Intercept')\n",
    "cols2"
   ]
  },
  {
   "cell_type": "code",
   "execution_count": 79,
   "id": "cc44a226",
   "metadata": {},
   "outputs": [
    {
     "name": "stdout",
     "output_type": "stream",
     "text": [
      "Optimization terminated successfully.\n",
      "         Current function value: 0.514811\n",
      "         Iterations 6\n"
     ]
    }
   ],
   "source": [
    "# Se crea y entrena el modelo\n",
    "modelo2_logit_dep = smf.logit('chd ~ ' + \"+\".join(cols2),df).fit()"
   ]
  },
  {
   "cell_type": "code",
   "execution_count": 81,
   "id": "c9053d14",
   "metadata": {},
   "outputs": [
    {
     "data": {
      "text/html": [
       "<table class=\"simpletable\">\n",
       "<tr>\n",
       "        <td>Model:</td>              <td>Logit</td>      <td>Pseudo R-squared:</td>    <td>0.202</td>  \n",
       "</tr>\n",
       "<tr>\n",
       "  <td>Dependent Variable:</td>        <td>chd</td>             <td>AIC:</td>         <td>487.6856</td> \n",
       "</tr>\n",
       "<tr>\n",
       "         <td>Date:</td>        <td>2023-03-22 20:26</td>       <td>BIC:</td>         <td>512.4990</td> \n",
       "</tr>\n",
       "<tr>\n",
       "   <td>No. Observations:</td>         <td>462</td>        <td>Log-Likelihood:</td>    <td>-237.84</td> \n",
       "</tr>\n",
       "<tr>\n",
       "       <td>Df Model:</td>              <td>5</td>            <td>LL-Null:</td>        <td>-298.05</td> \n",
       "</tr>\n",
       "<tr>\n",
       "     <td>Df Residuals:</td>           <td>456</td>         <td>LLR p-value:</td>    <td>2.5537e-24</td>\n",
       "</tr>\n",
       "<tr>\n",
       "      <td>Converged:</td>           <td>1.0000</td>           <td>Scale:</td>         <td>1.0000</td>  \n",
       "</tr>\n",
       "<tr>\n",
       "    <td>No. Iterations:</td>        <td>6.0000</td>              <td></td>               <td></td>     \n",
       "</tr>\n",
       "</table>\n",
       "<table class=\"simpletable\">\n",
       "<tr>\n",
       "        <td></td>         <th>Coef.</th>  <th>Std.Err.</th>    <th>z</th>     <th>P>|z|</th> <th>[0.025</th>  <th>0.975]</th> \n",
       "</tr>\n",
       "<tr>\n",
       "  <th>Intercept</th>     <td>-6.4464</td>  <td>0.9209</td>  <td>-7.0004</td> <td>0.0000</td> <td>-8.2513</td> <td>-4.6416</td>\n",
       "</tr>\n",
       "<tr>\n",
       "  <th>tobacco</th>       <td>0.0804</td>   <td>0.0259</td>  <td>3.1057</td>  <td>0.0019</td> <td>0.0297</td>  <td>0.1311</td> \n",
       "</tr>\n",
       "<tr>\n",
       "  <th>ldl</th>           <td>0.1620</td>   <td>0.0550</td>  <td>2.9470</td>  <td>0.0032</td> <td>0.0543</td>  <td>0.2697</td> \n",
       "</tr>\n",
       "<tr>\n",
       "  <th>typea</th>         <td>0.0371</td>   <td>0.0122</td>  <td>3.0505</td>  <td>0.0023</td> <td>0.0133</td>  <td>0.0610</td> \n",
       "</tr>\n",
       "<tr>\n",
       "  <th>age</th>           <td>0.0505</td>   <td>0.0102</td>  <td>4.9442</td>  <td>0.0000</td> <td>0.0305</td>  <td>0.0705</td> \n",
       "</tr>\n",
       "<tr>\n",
       "  <th>famhist_dummy</th> <td>0.9082</td>   <td>0.2258</td>  <td>4.0228</td>  <td>0.0001</td> <td>0.4657</td>  <td>1.3507</td> \n",
       "</tr>\n",
       "</table>"
      ],
      "text/plain": [
       "<class 'statsmodels.iolib.summary2.Summary'>\n",
       "\"\"\"\n",
       "                         Results: Logit\n",
       "=================================================================\n",
       "Model:              Logit            Pseudo R-squared: 0.202     \n",
       "Dependent Variable: chd              AIC:              487.6856  \n",
       "Date:               2023-03-22 20:26 BIC:              512.4990  \n",
       "No. Observations:   462              Log-Likelihood:   -237.84   \n",
       "Df Model:           5                LL-Null:          -298.05   \n",
       "Df Residuals:       456              LLR p-value:      2.5537e-24\n",
       "Converged:          1.0000           Scale:            1.0000    \n",
       "No. Iterations:     6.0000                                       \n",
       "-----------------------------------------------------------------\n",
       "                   Coef.  Std.Err.    z    P>|z|   [0.025  0.975]\n",
       "-----------------------------------------------------------------\n",
       "Intercept         -6.4464   0.9209 -7.0004 0.0000 -8.2513 -4.6416\n",
       "tobacco            0.0804   0.0259  3.1057 0.0019  0.0297  0.1311\n",
       "ldl                0.1620   0.0550  2.9470 0.0032  0.0543  0.2697\n",
       "typea              0.0371   0.0122  3.0505 0.0023  0.0133  0.0610\n",
       "age                0.0505   0.0102  4.9442 0.0000  0.0305  0.0705\n",
       "famhist_dummy      0.9082   0.2258  4.0228 0.0001  0.4657  1.3507\n",
       "=================================================================\n",
       "\n",
       "\"\"\""
      ]
     },
     "execution_count": 81,
     "metadata": {},
     "output_type": "execute_result"
    }
   ],
   "source": [
    "modelo2_logit_dep.summary2()"
   ]
  },
  {
   "cell_type": "markdown",
   "id": "4f5d0474",
   "metadata": {},
   "source": [
    "#### Compare los estadísticos de bondad de ajuste entre ambos"
   ]
  },
  {
   "cell_type": "markdown",
   "id": "805d9ce7",
   "metadata": {},
   "source": [
    "En ambos modelos el Pseudo R-Squared son similares y definen la varianza en aproximadamente un 20%, solo se difernecian en 0.006 puntos. El modelo depurado con las columnas de mayor significancia tiene levemente una mayor probabilidad de contraer enfermedades coronarias."
   ]
  },
  {
   "cell_type": "markdown",
   "id": "82ad1ed3",
   "metadata": {},
   "source": [
    "#### Reporte de forma sucinta el efecto de las variables en el log-odds de tener una enfermedad coronaria."
   ]
  },
  {
   "cell_type": "code",
   "execution_count": 84,
   "id": "10a87230",
   "metadata": {},
   "outputs": [
    {
     "data": {
      "text/plain": [
       "Intercept       -6.446445\n",
       "tobacco          0.080375\n",
       "ldl              0.161992\n",
       "typea            0.037115\n",
       "age              0.050460\n",
       "famhist_dummy    0.908175\n",
       "dtype: float64"
      ]
     },
     "execution_count": 84,
     "metadata": {},
     "output_type": "execute_result"
    }
   ],
   "source": [
    "# Se obtienen los coeficientes por variables\n",
    "coef = modelo2_logit_dep.params\n",
    "coef"
   ]
  },
  {
   "cell_type": "code",
   "execution_count": 88,
   "id": "012bb39d",
   "metadata": {},
   "outputs": [
    {
     "data": {
      "text/plain": [
       "Intercept        0.0000\n",
       "tobacco          0.0017\n",
       "ldl              0.0019\n",
       "typea            0.0016\n",
       "age              0.0017\n",
       "famhist_dummy    0.0039\n",
       "dtype: float64"
      ]
     },
     "execution_count": 88,
     "metadata": {},
     "output_type": "execute_result"
    }
   ],
   "source": [
    "# Se aplica el log inverso a los coeficientes\n",
    "coef.map(lambda x: round(inverse_logit(modelo2_logit_dep.params['Intercept'] + x),4))"
   ]
  },
  {
   "cell_type": "markdown",
   "id": "5a0630cf",
   "metadata": {},
   "source": [
    "##### Se observa que las variables, al aumentar en 1 unidad, incrementa aproximadamente en un 0.17% la probabilidad de que un individuo contraiga un enfermedad coronaria, excepto la presencia de antecedentes familiares que, si existe, incrementa la probabilidad en un 0.39%."
   ]
  },
  {
   "cell_type": "markdown",
   "id": "0ec84a89",
   "metadata": {},
   "source": [
    "## Desafío 4: Estimación de perfiles\n",
    "##### A partir del modelo depurado, genere las estimaciones en log-odds y posteriormente transfórmelas a probabilidades con inverse_logit . Los perfiles a estimar son los siguientes:"
   ]
  },
  {
   "cell_type": "markdown",
   "id": "8b2b091f",
   "metadata": {},
   "source": [
    "#### La probabilidad de tener una enfermedad coronaria para un individuo con características similares a la muestra"
   ]
  },
  {
   "cell_type": "code",
   "execution_count": 90,
   "id": "24d98da1",
   "metadata": {},
   "outputs": [
    {
     "data": {
      "text/plain": [
       "0    0.584416\n",
       "1    0.415584\n",
       "Name: famhist_dummy, dtype: float64"
      ]
     },
     "execution_count": 90,
     "metadata": {},
     "output_type": "execute_result"
    }
   ],
   "source": [
    "df['famhist_dummy'].value_counts('%')"
   ]
  },
  {
   "cell_type": "code",
   "execution_count": 92,
   "id": "0c78a470",
   "metadata": {},
   "outputs": [
    {
     "data": {
      "text/plain": [
       "{'tobacco': 3.635649350649348,\n",
       " 'ldl': 4.7403246753246835,\n",
       " 'typea': 53.103896103896105,\n",
       " 'age': 42.816017316017316,\n",
       " 'famhist_dummy': 0}"
      ]
     },
     "execution_count": 92,
     "metadata": {},
     "output_type": "execute_result"
    }
   ],
   "source": [
    "#Se obtienen los valores del individuo promedio para las variables continuas significativas\n",
    "#Se considera la probabilidad de corte para estimar la ocurrencia normal de famhist_dummy como > 50%\n",
    "medias = {\n",
    "    'tobacco': df['tobacco'].mean(),\n",
    "    'ldl' : df['ldl'].mean(),\n",
    "    'typea': df['typea'].mean(),\n",
    "    'age': df['age'].mean(),\n",
    "    'famhist_dummy': df['famhist_dummy'].value_counts('%').index[0]\n",
    "}\n",
    "medias"
   ]
  },
  {
   "cell_type": "code",
   "execution_count": 96,
   "id": "45903021",
   "metadata": {},
   "outputs": [],
   "source": [
    "# El individuo promedio no tiene antecedentes familiares, por lo que se consideran ambos casos\n",
    "# Se define la función predictora\n",
    "def predice_por_individuo(m_logit,medias):\n",
    "    prob_chd_individio_con_famhist = round(inverse_logit(\n",
    "        + m_logit.params['Intercept']\n",
    "        + (m_logit.params['tobacco'] * medias['tobacco'])\n",
    "        + (m_logit.params['ldl'] * medias['ldl'])\n",
    "        + (m_logit.params['typea'] * medias['typea'])\n",
    "        + (m_logit.params['age'] * medias['age'])\n",
    "        + (m_logit.params['famhist_dummy'] *1)  \n",
    "    ), 4)\n",
    "    prob_chd_individio_sin_famhist = round(inverse_logit(\n",
    "        + m_logit.params['Intercept']\n",
    "        + (m_logit.params['tobacco'] * medias['tobacco'])\n",
    "        + (m_logit.params['ldl'] * medias['ldl'])\n",
    "        + (m_logit.params['typea'] * medias['typea'])\n",
    "        + (m_logit.params['age'] * medias['age'])\n",
    "        + (m_logit.params['famhist_dummy'] * 0)  \n",
    "    ),4)\n",
    "    print(\"Probabilidad de chd para individuo promedio\")\n",
    "    print(f\"\\033[1mCon\\033[0m historial familiar {prob_chd_individio_con_famhist}\")\n",
    "    print(f\"\\033[1mSin\\033[0m historial familiar {prob_chd_individio_sin_famhist}\")"
   ]
  },
  {
   "cell_type": "code",
   "execution_count": 97,
   "id": "f49f6021",
   "metadata": {},
   "outputs": [
    {
     "name": "stdout",
     "output_type": "stream",
     "text": [
      "Probabilidad de chd para individuo promedio\n",
      "\u001b[1mCon\u001b[0m historial familiar 0.4142\n",
      "\u001b[1mSin\u001b[0m historial familiar 0.2219\n"
     ]
    }
   ],
   "source": [
    "predice_por_individuo(modelo2_logit_dep,medias)"
   ]
  },
  {
   "cell_type": "markdown",
   "id": "3b6944f9",
   "metadata": {},
   "source": [
    "#### La probabilidad de tener una enfermedad coronaria de un individuo con características similares a la muestra es de:\n",
    "- 22.19% si el individuo no tiene antecedentes familiares.\n",
    "- 41.42% si el individuo tiene antecedentes familiares"
   ]
  },
  {
   "cell_type": "markdown",
   "id": "91862084",
   "metadata": {},
   "source": [
    "#### La probabilidad de tener una enfermedad coronaria para un individuo con altos niveles de lipoproteína de baja densidad, manteniendo todas las demás características constantes"
   ]
  },
  {
   "cell_type": "code",
   "execution_count": 100,
   "id": "d91221f7",
   "metadata": {},
   "outputs": [
    {
     "name": "stdout",
     "output_type": "stream",
     "text": [
      "Probabilidad de chd para individuo promedio\n",
      "\u001b[1mCon\u001b[0m historial familiar 0.7972\n",
      "\u001b[1mSin\u001b[0m historial familiar 0.6132\n"
     ]
    }
   ],
   "source": [
    "# Se obtiene el valor máximo de la lipoproteína en la muestra\n",
    "medias['ldl'] = df['ldl'].max()\n",
    "predice_por_individuo(modelo2_logit_dep,medias)"
   ]
  },
  {
   "cell_type": "markdown",
   "id": "2eeae668",
   "metadata": {},
   "source": [
    "#### La probabilidad de tener una enfermedad coronaria de un individuo con características similares a la muestra es de:\n",
    "- 61.32% si el individuo no tiene antecedentes familiares.\n",
    "- 79.72% si el individuo tiene antecedentes familiares"
   ]
  },
  {
   "cell_type": "markdown",
   "id": "96bee880",
   "metadata": {},
   "source": [
    "#### La probabilidad de tener una enfermedad coronaria para un individuo con bajos niveles de lipoproteína de baja densidad, manteniendo todas las demás características constantes"
   ]
  },
  {
   "cell_type": "code",
   "execution_count": 101,
   "id": "0bf15265",
   "metadata": {},
   "outputs": [
    {
     "name": "stdout",
     "output_type": "stream",
     "text": [
      "Probabilidad de chd para individuo promedio\n",
      "\u001b[1mCon\u001b[0m historial familiar 0.2777\n",
      "\u001b[1mSin\u001b[0m historial familiar 0.1342\n"
     ]
    }
   ],
   "source": [
    "# Se obtiene el valor mínimo de la lipoproteína en la muestra\n",
    "medias['ldl'] = df['ldl'].min()\n",
    "predice_por_individuo(modelo2_logit_dep,medias)"
   ]
  },
  {
   "cell_type": "markdown",
   "id": "0c40bf04",
   "metadata": {},
   "source": [
    "#### La probabilidad de tener una enfermedad coronaria de un individuo con características similares a la muestra es de:\n",
    "- 13.42% si el individuo no tiene antecedentes familiares.\n",
    "- 27.77% si el individuo tiene antecedentes familiares"
   ]
  },
  {
   "cell_type": "code",
   "execution_count": null,
   "id": "2a210d02",
   "metadata": {},
   "outputs": [],
   "source": []
  }
 ],
 "metadata": {
  "kernelspec": {
   "display_name": "Python 3 (ipykernel)",
   "language": "python",
   "name": "python3"
  },
  "language_info": {
   "codemirror_mode": {
    "name": "ipython",
    "version": 3
   },
   "file_extension": ".py",
   "mimetype": "text/x-python",
   "name": "python",
   "nbconvert_exporter": "python",
   "pygments_lexer": "ipython3",
   "version": "3.9.13"
  }
 },
 "nbformat": 4,
 "nbformat_minor": 5
}
