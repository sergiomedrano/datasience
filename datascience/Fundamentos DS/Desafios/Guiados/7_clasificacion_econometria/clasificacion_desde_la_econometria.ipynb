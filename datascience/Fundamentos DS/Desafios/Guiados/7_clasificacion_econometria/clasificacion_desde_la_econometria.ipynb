{
 "cells": [
  {
   "cell_type": "markdown",
   "metadata": {},
   "source": [
    "# <center> Clasificación desde la econometría\n",
    "----\n",
    "## <center> por Daniel Zúñiga    "
   ]
  },
  {
   "cell_type": "markdown",
   "metadata": {},
   "source": [
    "## Desafío 1: Preparar el ambiente de trabajo"
   ]
  },
  {
   "cell_type": "code",
   "execution_count": 23,
   "metadata": {
    "ExecuteTime": {
     "end_time": "2021-03-08T23:50:14.786875Z",
     "start_time": "2021-03-08T23:50:13.005878Z"
    }
   },
   "outputs": [],
   "source": [
    "#importamos las librerías de siempre\n",
    "import matplotlib.pyplot as plt\n",
    "import pandas as pd\n",
    "import numpy as np\n",
    "import scipy.stats as stats\n",
    "from scipy.stats import norm\n",
    "from sklearn.preprocessing import PolynomialFeatures as polynom\n",
    "from sklearn.linear_model import LinearRegression as linreg\n",
    "from sklearn.pipeline import make_pipeline\n",
    "import statsmodels.formula.api as smf\n",
    "\n",
    "plt.style.use('seaborn-whitegrid')\n",
    "\n",
    "\n",
    "import warnings\n",
    "warnings.filterwarnings(\"ignore\")"
   ]
  },
  {
   "cell_type": "code",
   "execution_count": 24,
   "metadata": {
    "ExecuteTime": {
     "end_time": "2021-03-08T23:50:14.802877Z",
     "start_time": "2021-03-08T23:50:14.789875Z"
    }
   },
   "outputs": [],
   "source": [
    "#importamos el dataframe\n",
    "df = pd.read_csv('southafricanheart.csv')"
   ]
  },
  {
   "cell_type": "code",
   "execution_count": 25,
   "metadata": {
    "ExecuteTime": {
     "end_time": "2021-03-08T23:50:14.833878Z",
     "start_time": "2021-03-08T23:50:14.807877Z"
    }
   },
   "outputs": [
    {
     "data": {
      "text/html": [
       "<div>\n",
       "<style scoped>\n",
       "    .dataframe tbody tr th:only-of-type {\n",
       "        vertical-align: middle;\n",
       "    }\n",
       "\n",
       "    .dataframe tbody tr th {\n",
       "        vertical-align: top;\n",
       "    }\n",
       "\n",
       "    .dataframe thead th {\n",
       "        text-align: right;\n",
       "    }\n",
       "</style>\n",
       "<table border=\"1\" class=\"dataframe\">\n",
       "  <thead>\n",
       "    <tr style=\"text-align: right;\">\n",
       "      <th></th>\n",
       "      <th>Unnamed: 0</th>\n",
       "      <th>sbp</th>\n",
       "      <th>tobacco</th>\n",
       "      <th>ldl</th>\n",
       "      <th>adiposity</th>\n",
       "      <th>famhist</th>\n",
       "      <th>typea</th>\n",
       "      <th>obesity</th>\n",
       "      <th>alcohol</th>\n",
       "      <th>age</th>\n",
       "      <th>chd</th>\n",
       "    </tr>\n",
       "  </thead>\n",
       "  <tbody>\n",
       "    <tr>\n",
       "      <th>0</th>\n",
       "      <td>1</td>\n",
       "      <td>160</td>\n",
       "      <td>12.00</td>\n",
       "      <td>5.73</td>\n",
       "      <td>23.11</td>\n",
       "      <td>Present</td>\n",
       "      <td>49</td>\n",
       "      <td>25.30</td>\n",
       "      <td>97.20</td>\n",
       "      <td>52</td>\n",
       "      <td>1</td>\n",
       "    </tr>\n",
       "    <tr>\n",
       "      <th>1</th>\n",
       "      <td>2</td>\n",
       "      <td>144</td>\n",
       "      <td>0.01</td>\n",
       "      <td>4.41</td>\n",
       "      <td>28.61</td>\n",
       "      <td>Absent</td>\n",
       "      <td>55</td>\n",
       "      <td>28.87</td>\n",
       "      <td>2.06</td>\n",
       "      <td>63</td>\n",
       "      <td>1</td>\n",
       "    </tr>\n",
       "    <tr>\n",
       "      <th>2</th>\n",
       "      <td>3</td>\n",
       "      <td>118</td>\n",
       "      <td>0.08</td>\n",
       "      <td>3.48</td>\n",
       "      <td>32.28</td>\n",
       "      <td>Present</td>\n",
       "      <td>52</td>\n",
       "      <td>29.14</td>\n",
       "      <td>3.81</td>\n",
       "      <td>46</td>\n",
       "      <td>0</td>\n",
       "    </tr>\n",
       "    <tr>\n",
       "      <th>3</th>\n",
       "      <td>4</td>\n",
       "      <td>170</td>\n",
       "      <td>7.50</td>\n",
       "      <td>6.41</td>\n",
       "      <td>38.03</td>\n",
       "      <td>Present</td>\n",
       "      <td>51</td>\n",
       "      <td>31.99</td>\n",
       "      <td>24.26</td>\n",
       "      <td>58</td>\n",
       "      <td>1</td>\n",
       "    </tr>\n",
       "    <tr>\n",
       "      <th>4</th>\n",
       "      <td>5</td>\n",
       "      <td>134</td>\n",
       "      <td>13.60</td>\n",
       "      <td>3.50</td>\n",
       "      <td>27.78</td>\n",
       "      <td>Present</td>\n",
       "      <td>60</td>\n",
       "      <td>25.99</td>\n",
       "      <td>57.34</td>\n",
       "      <td>49</td>\n",
       "      <td>1</td>\n",
       "    </tr>\n",
       "  </tbody>\n",
       "</table>\n",
       "</div>"
      ],
      "text/plain": [
       "   Unnamed: 0  sbp  tobacco   ldl  adiposity  famhist  typea  obesity  \\\n",
       "0           1  160    12.00  5.73      23.11  Present     49    25.30   \n",
       "1           2  144     0.01  4.41      28.61   Absent     55    28.87   \n",
       "2           3  118     0.08  3.48      32.28  Present     52    29.14   \n",
       "3           4  170     7.50  6.41      38.03  Present     51    31.99   \n",
       "4           5  134    13.60  3.50      27.78  Present     60    25.99   \n",
       "\n",
       "   alcohol  age  chd  \n",
       "0    97.20   52    1  \n",
       "1     2.06   63    1  \n",
       "2     3.81   46    0  \n",
       "3    24.26   58    1  \n",
       "4    57.34   49    1  "
      ]
     },
     "execution_count": 25,
     "metadata": {},
     "output_type": "execute_result"
    }
   ],
   "source": [
    "#revisamos el dataframe\n",
    "df.head()"
   ]
  },
  {
   "cell_type": "code",
   "execution_count": 26,
   "metadata": {
    "ExecuteTime": {
     "end_time": "2021-03-08T23:50:14.848877Z",
     "start_time": "2021-03-08T23:50:14.837877Z"
    }
   },
   "outputs": [],
   "source": [
    "#eliminamos la columna con el índice original\n",
    "df = df.drop(columns='Unnamed: 0')"
   ]
  },
  {
   "cell_type": "code",
   "execution_count": 27,
   "metadata": {
    "ExecuteTime": {
     "end_time": "2021-03-08T23:50:14.879877Z",
     "start_time": "2021-03-08T23:50:14.851877Z"
    }
   },
   "outputs": [
    {
     "name": "stdout",
     "output_type": "stream",
     "text": [
      "<class 'pandas.core.frame.DataFrame'>\n",
      "RangeIndex: 462 entries, 0 to 461\n",
      "Data columns (total 10 columns):\n",
      " #   Column     Non-Null Count  Dtype  \n",
      "---  ------     --------------  -----  \n",
      " 0   sbp        462 non-null    int64  \n",
      " 1   tobacco    462 non-null    float64\n",
      " 2   ldl        462 non-null    float64\n",
      " 3   adiposity  462 non-null    float64\n",
      " 4   famhist    462 non-null    object \n",
      " 5   typea      462 non-null    int64  \n",
      " 6   obesity    462 non-null    float64\n",
      " 7   alcohol    462 non-null    float64\n",
      " 8   age        462 non-null    int64  \n",
      " 9   chd        462 non-null    int64  \n",
      "dtypes: float64(5), int64(4), object(1)\n",
      "memory usage: 36.2+ KB\n"
     ]
    }
   ],
   "source": [
    "df.info()"
   ]
  },
  {
   "cell_type": "code",
   "execution_count": 28,
   "metadata": {
    "ExecuteTime": {
     "end_time": "2021-03-08T23:50:14.911875Z",
     "start_time": "2021-03-08T23:50:14.889878Z"
    }
   },
   "outputs": [
    {
     "data": {
      "text/html": [
       "<div>\n",
       "<style scoped>\n",
       "    .dataframe tbody tr th:only-of-type {\n",
       "        vertical-align: middle;\n",
       "    }\n",
       "\n",
       "    .dataframe tbody tr th {\n",
       "        vertical-align: top;\n",
       "    }\n",
       "\n",
       "    .dataframe thead th {\n",
       "        text-align: right;\n",
       "    }\n",
       "</style>\n",
       "<table border=\"1\" class=\"dataframe\">\n",
       "  <thead>\n",
       "    <tr style=\"text-align: right;\">\n",
       "      <th></th>\n",
       "      <th>sbp</th>\n",
       "      <th>tobacco</th>\n",
       "      <th>ldl</th>\n",
       "      <th>adiposity</th>\n",
       "      <th>famhist</th>\n",
       "      <th>typea</th>\n",
       "      <th>obesity</th>\n",
       "      <th>alcohol</th>\n",
       "      <th>age</th>\n",
       "      <th>chd</th>\n",
       "    </tr>\n",
       "  </thead>\n",
       "  <tbody>\n",
       "    <tr>\n",
       "      <th>0</th>\n",
       "      <td>160</td>\n",
       "      <td>12.00</td>\n",
       "      <td>5.73</td>\n",
       "      <td>23.11</td>\n",
       "      <td>Present</td>\n",
       "      <td>49</td>\n",
       "      <td>25.30</td>\n",
       "      <td>97.20</td>\n",
       "      <td>52</td>\n",
       "      <td>1</td>\n",
       "    </tr>\n",
       "    <tr>\n",
       "      <th>1</th>\n",
       "      <td>144</td>\n",
       "      <td>0.01</td>\n",
       "      <td>4.41</td>\n",
       "      <td>28.61</td>\n",
       "      <td>Absent</td>\n",
       "      <td>55</td>\n",
       "      <td>28.87</td>\n",
       "      <td>2.06</td>\n",
       "      <td>63</td>\n",
       "      <td>1</td>\n",
       "    </tr>\n",
       "    <tr>\n",
       "      <th>2</th>\n",
       "      <td>118</td>\n",
       "      <td>0.08</td>\n",
       "      <td>3.48</td>\n",
       "      <td>32.28</td>\n",
       "      <td>Present</td>\n",
       "      <td>52</td>\n",
       "      <td>29.14</td>\n",
       "      <td>3.81</td>\n",
       "      <td>46</td>\n",
       "      <td>0</td>\n",
       "    </tr>\n",
       "    <tr>\n",
       "      <th>3</th>\n",
       "      <td>170</td>\n",
       "      <td>7.50</td>\n",
       "      <td>6.41</td>\n",
       "      <td>38.03</td>\n",
       "      <td>Present</td>\n",
       "      <td>51</td>\n",
       "      <td>31.99</td>\n",
       "      <td>24.26</td>\n",
       "      <td>58</td>\n",
       "      <td>1</td>\n",
       "    </tr>\n",
       "    <tr>\n",
       "      <th>4</th>\n",
       "      <td>134</td>\n",
       "      <td>13.60</td>\n",
       "      <td>3.50</td>\n",
       "      <td>27.78</td>\n",
       "      <td>Present</td>\n",
       "      <td>60</td>\n",
       "      <td>25.99</td>\n",
       "      <td>57.34</td>\n",
       "      <td>49</td>\n",
       "      <td>1</td>\n",
       "    </tr>\n",
       "  </tbody>\n",
       "</table>\n",
       "</div>"
      ],
      "text/plain": [
       "   sbp  tobacco   ldl  adiposity  famhist  typea  obesity  alcohol  age  chd\n",
       "0  160    12.00  5.73      23.11  Present     49    25.30    97.20   52    1\n",
       "1  144     0.01  4.41      28.61   Absent     55    28.87     2.06   63    1\n",
       "2  118     0.08  3.48      32.28  Present     52    29.14     3.81   46    0\n",
       "3  170     7.50  6.41      38.03  Present     51    31.99    24.26   58    1\n",
       "4  134    13.60  3.50      27.78  Present     60    25.99    57.34   49    1"
      ]
     },
     "execution_count": 28,
     "metadata": {},
     "output_type": "execute_result"
    }
   ],
   "source": [
    "df.head()"
   ]
  },
  {
   "cell_type": "markdown",
   "metadata": {},
   "source": [
    "## Desafío 2"
   ]
  },
  {
   "cell_type": "markdown",
   "metadata": {},
   "source": [
    "#### A continuación se presenta el siguiente modelo a estimar:\n",
    "$$\\log \\left(\\frac{Pr(chd=1)}{1-Pr(chd=1)}\\right)=\\beta_{0} + \\beta_{1} \\times famhist$$\n",
    "#### 1. Recodifique famhist a dummy, asignando 1 a la categoría minoritaria.\n",
    "#### 2. Utilice smf.logit para estimar el modelo.\n",
    "#### 3. Implemente una función inverse_logit que realize el mapeo de log-odds a probabilidad."
   ]
  },
  {
   "cell_type": "code",
   "execution_count": 29,
   "metadata": {
    "ExecuteTime": {
     "end_time": "2021-03-08T23:50:14.927877Z",
     "start_time": "2021-03-08T23:50:14.914877Z"
    }
   },
   "outputs": [
    {
     "data": {
      "text/plain": [
       "Absent     270\n",
       "Present    192\n",
       "Name: famhist, dtype: int64"
      ]
     },
     "execution_count": 29,
     "metadata": {},
     "output_type": "execute_result"
    }
   ],
   "source": [
    "#revisamos la columna 'famhist'\n",
    "df['famhist'].value_counts()"
   ]
  },
  {
   "cell_type": "code",
   "execution_count": 30,
   "metadata": {
    "ExecuteTime": {
     "end_time": "2021-03-08T23:50:14.958874Z",
     "start_time": "2021-03-08T23:50:14.938878Z"
    }
   },
   "outputs": [],
   "source": [
    "#binarizamos la columna 'famhist' por la clase menos frecuente\n",
    "df['famhist_p'] = np.where(df['famhist'] == 'Present', 1, 0)"
   ]
  },
  {
   "cell_type": "code",
   "execution_count": 32,
   "metadata": {
    "scrolled": true
   },
   "outputs": [
    {
     "data": {
      "text/html": [
       "<div>\n",
       "<style scoped>\n",
       "    .dataframe tbody tr th:only-of-type {\n",
       "        vertical-align: middle;\n",
       "    }\n",
       "\n",
       "    .dataframe tbody tr th {\n",
       "        vertical-align: top;\n",
       "    }\n",
       "\n",
       "    .dataframe thead th {\n",
       "        text-align: right;\n",
       "    }\n",
       "</style>\n",
       "<table border=\"1\" class=\"dataframe\">\n",
       "  <thead>\n",
       "    <tr style=\"text-align: right;\">\n",
       "      <th></th>\n",
       "      <th>sbp</th>\n",
       "      <th>tobacco</th>\n",
       "      <th>ldl</th>\n",
       "      <th>adiposity</th>\n",
       "      <th>famhist</th>\n",
       "      <th>typea</th>\n",
       "      <th>obesity</th>\n",
       "      <th>alcohol</th>\n",
       "      <th>age</th>\n",
       "      <th>chd</th>\n",
       "      <th>famhist_p</th>\n",
       "    </tr>\n",
       "  </thead>\n",
       "  <tbody>\n",
       "    <tr>\n",
       "      <th>0</th>\n",
       "      <td>160</td>\n",
       "      <td>12.00</td>\n",
       "      <td>5.73</td>\n",
       "      <td>23.11</td>\n",
       "      <td>Present</td>\n",
       "      <td>49</td>\n",
       "      <td>25.30</td>\n",
       "      <td>97.20</td>\n",
       "      <td>52</td>\n",
       "      <td>1</td>\n",
       "      <td>1</td>\n",
       "    </tr>\n",
       "    <tr>\n",
       "      <th>1</th>\n",
       "      <td>144</td>\n",
       "      <td>0.01</td>\n",
       "      <td>4.41</td>\n",
       "      <td>28.61</td>\n",
       "      <td>Absent</td>\n",
       "      <td>55</td>\n",
       "      <td>28.87</td>\n",
       "      <td>2.06</td>\n",
       "      <td>63</td>\n",
       "      <td>1</td>\n",
       "      <td>0</td>\n",
       "    </tr>\n",
       "    <tr>\n",
       "      <th>2</th>\n",
       "      <td>118</td>\n",
       "      <td>0.08</td>\n",
       "      <td>3.48</td>\n",
       "      <td>32.28</td>\n",
       "      <td>Present</td>\n",
       "      <td>52</td>\n",
       "      <td>29.14</td>\n",
       "      <td>3.81</td>\n",
       "      <td>46</td>\n",
       "      <td>0</td>\n",
       "      <td>1</td>\n",
       "    </tr>\n",
       "    <tr>\n",
       "      <th>3</th>\n",
       "      <td>170</td>\n",
       "      <td>7.50</td>\n",
       "      <td>6.41</td>\n",
       "      <td>38.03</td>\n",
       "      <td>Present</td>\n",
       "      <td>51</td>\n",
       "      <td>31.99</td>\n",
       "      <td>24.26</td>\n",
       "      <td>58</td>\n",
       "      <td>1</td>\n",
       "      <td>1</td>\n",
       "    </tr>\n",
       "    <tr>\n",
       "      <th>4</th>\n",
       "      <td>134</td>\n",
       "      <td>13.60</td>\n",
       "      <td>3.50</td>\n",
       "      <td>27.78</td>\n",
       "      <td>Present</td>\n",
       "      <td>60</td>\n",
       "      <td>25.99</td>\n",
       "      <td>57.34</td>\n",
       "      <td>49</td>\n",
       "      <td>1</td>\n",
       "      <td>1</td>\n",
       "    </tr>\n",
       "  </tbody>\n",
       "</table>\n",
       "</div>"
      ],
      "text/plain": [
       "   sbp  tobacco   ldl  adiposity  famhist  typea  obesity  alcohol  age  chd  \\\n",
       "0  160    12.00  5.73      23.11  Present     49    25.30    97.20   52    1   \n",
       "1  144     0.01  4.41      28.61   Absent     55    28.87     2.06   63    1   \n",
       "2  118     0.08  3.48      32.28  Present     52    29.14     3.81   46    0   \n",
       "3  170     7.50  6.41      38.03  Present     51    31.99    24.26   58    1   \n",
       "4  134    13.60  3.50      27.78  Present     60    25.99    57.34   49    1   \n",
       "\n",
       "   famhist_p  \n",
       "0          1  \n",
       "1          0  \n",
       "2          1  \n",
       "3          1  \n",
       "4          1  "
      ]
     },
     "execution_count": 32,
     "metadata": {},
     "output_type": "execute_result"
    }
   ],
   "source": [
    "df.head()"
   ]
  },
  {
   "cell_type": "code",
   "execution_count": 33,
   "metadata": {},
   "outputs": [
    {
     "data": {
      "text/html": [
       "<div>\n",
       "<style scoped>\n",
       "    .dataframe tbody tr th:only-of-type {\n",
       "        vertical-align: middle;\n",
       "    }\n",
       "\n",
       "    .dataframe tbody tr th {\n",
       "        vertical-align: top;\n",
       "    }\n",
       "\n",
       "    .dataframe thead th {\n",
       "        text-align: right;\n",
       "    }\n",
       "</style>\n",
       "<table border=\"1\" class=\"dataframe\">\n",
       "  <thead>\n",
       "    <tr style=\"text-align: right;\">\n",
       "      <th></th>\n",
       "      <th>sbp</th>\n",
       "      <th>tobacco</th>\n",
       "      <th>ldl</th>\n",
       "      <th>adiposity</th>\n",
       "      <th>typea</th>\n",
       "      <th>obesity</th>\n",
       "      <th>alcohol</th>\n",
       "      <th>age</th>\n",
       "      <th>chd</th>\n",
       "      <th>famhist_p</th>\n",
       "      <th>famhist_Present</th>\n",
       "    </tr>\n",
       "  </thead>\n",
       "  <tbody>\n",
       "    <tr>\n",
       "      <th>0</th>\n",
       "      <td>160</td>\n",
       "      <td>12.00</td>\n",
       "      <td>5.73</td>\n",
       "      <td>23.11</td>\n",
       "      <td>49</td>\n",
       "      <td>25.30</td>\n",
       "      <td>97.20</td>\n",
       "      <td>52</td>\n",
       "      <td>1</td>\n",
       "      <td>1</td>\n",
       "      <td>1</td>\n",
       "    </tr>\n",
       "    <tr>\n",
       "      <th>1</th>\n",
       "      <td>144</td>\n",
       "      <td>0.01</td>\n",
       "      <td>4.41</td>\n",
       "      <td>28.61</td>\n",
       "      <td>55</td>\n",
       "      <td>28.87</td>\n",
       "      <td>2.06</td>\n",
       "      <td>63</td>\n",
       "      <td>1</td>\n",
       "      <td>0</td>\n",
       "      <td>0</td>\n",
       "    </tr>\n",
       "    <tr>\n",
       "      <th>2</th>\n",
       "      <td>118</td>\n",
       "      <td>0.08</td>\n",
       "      <td>3.48</td>\n",
       "      <td>32.28</td>\n",
       "      <td>52</td>\n",
       "      <td>29.14</td>\n",
       "      <td>3.81</td>\n",
       "      <td>46</td>\n",
       "      <td>0</td>\n",
       "      <td>1</td>\n",
       "      <td>1</td>\n",
       "    </tr>\n",
       "    <tr>\n",
       "      <th>3</th>\n",
       "      <td>170</td>\n",
       "      <td>7.50</td>\n",
       "      <td>6.41</td>\n",
       "      <td>38.03</td>\n",
       "      <td>51</td>\n",
       "      <td>31.99</td>\n",
       "      <td>24.26</td>\n",
       "      <td>58</td>\n",
       "      <td>1</td>\n",
       "      <td>1</td>\n",
       "      <td>1</td>\n",
       "    </tr>\n",
       "    <tr>\n",
       "      <th>4</th>\n",
       "      <td>134</td>\n",
       "      <td>13.60</td>\n",
       "      <td>3.50</td>\n",
       "      <td>27.78</td>\n",
       "      <td>60</td>\n",
       "      <td>25.99</td>\n",
       "      <td>57.34</td>\n",
       "      <td>49</td>\n",
       "      <td>1</td>\n",
       "      <td>1</td>\n",
       "      <td>1</td>\n",
       "    </tr>\n",
       "    <tr>\n",
       "      <th>...</th>\n",
       "      <td>...</td>\n",
       "      <td>...</td>\n",
       "      <td>...</td>\n",
       "      <td>...</td>\n",
       "      <td>...</td>\n",
       "      <td>...</td>\n",
       "      <td>...</td>\n",
       "      <td>...</td>\n",
       "      <td>...</td>\n",
       "      <td>...</td>\n",
       "      <td>...</td>\n",
       "    </tr>\n",
       "    <tr>\n",
       "      <th>457</th>\n",
       "      <td>214</td>\n",
       "      <td>0.40</td>\n",
       "      <td>5.98</td>\n",
       "      <td>31.72</td>\n",
       "      <td>64</td>\n",
       "      <td>28.45</td>\n",
       "      <td>0.00</td>\n",
       "      <td>58</td>\n",
       "      <td>0</td>\n",
       "      <td>0</td>\n",
       "      <td>0</td>\n",
       "    </tr>\n",
       "    <tr>\n",
       "      <th>458</th>\n",
       "      <td>182</td>\n",
       "      <td>4.20</td>\n",
       "      <td>4.41</td>\n",
       "      <td>32.10</td>\n",
       "      <td>52</td>\n",
       "      <td>28.61</td>\n",
       "      <td>18.72</td>\n",
       "      <td>52</td>\n",
       "      <td>1</td>\n",
       "      <td>0</td>\n",
       "      <td>0</td>\n",
       "    </tr>\n",
       "    <tr>\n",
       "      <th>459</th>\n",
       "      <td>108</td>\n",
       "      <td>3.00</td>\n",
       "      <td>1.59</td>\n",
       "      <td>15.23</td>\n",
       "      <td>40</td>\n",
       "      <td>20.09</td>\n",
       "      <td>26.64</td>\n",
       "      <td>55</td>\n",
       "      <td>0</td>\n",
       "      <td>0</td>\n",
       "      <td>0</td>\n",
       "    </tr>\n",
       "    <tr>\n",
       "      <th>460</th>\n",
       "      <td>118</td>\n",
       "      <td>5.40</td>\n",
       "      <td>11.61</td>\n",
       "      <td>30.79</td>\n",
       "      <td>64</td>\n",
       "      <td>27.35</td>\n",
       "      <td>23.97</td>\n",
       "      <td>40</td>\n",
       "      <td>0</td>\n",
       "      <td>0</td>\n",
       "      <td>0</td>\n",
       "    </tr>\n",
       "    <tr>\n",
       "      <th>461</th>\n",
       "      <td>132</td>\n",
       "      <td>0.00</td>\n",
       "      <td>4.82</td>\n",
       "      <td>33.41</td>\n",
       "      <td>62</td>\n",
       "      <td>14.70</td>\n",
       "      <td>0.00</td>\n",
       "      <td>46</td>\n",
       "      <td>1</td>\n",
       "      <td>1</td>\n",
       "      <td>1</td>\n",
       "    </tr>\n",
       "  </tbody>\n",
       "</table>\n",
       "<p>462 rows × 11 columns</p>\n",
       "</div>"
      ],
      "text/plain": [
       "     sbp  tobacco    ldl  adiposity  typea  obesity  alcohol  age  chd  \\\n",
       "0    160    12.00   5.73      23.11     49    25.30    97.20   52    1   \n",
       "1    144     0.01   4.41      28.61     55    28.87     2.06   63    1   \n",
       "2    118     0.08   3.48      32.28     52    29.14     3.81   46    0   \n",
       "3    170     7.50   6.41      38.03     51    31.99    24.26   58    1   \n",
       "4    134    13.60   3.50      27.78     60    25.99    57.34   49    1   \n",
       "..   ...      ...    ...        ...    ...      ...      ...  ...  ...   \n",
       "457  214     0.40   5.98      31.72     64    28.45     0.00   58    0   \n",
       "458  182     4.20   4.41      32.10     52    28.61    18.72   52    1   \n",
       "459  108     3.00   1.59      15.23     40    20.09    26.64   55    0   \n",
       "460  118     5.40  11.61      30.79     64    27.35    23.97   40    0   \n",
       "461  132     0.00   4.82      33.41     62    14.70     0.00   46    1   \n",
       "\n",
       "     famhist_p  famhist_Present  \n",
       "0            1                1  \n",
       "1            0                0  \n",
       "2            1                1  \n",
       "3            1                1  \n",
       "4            1                1  \n",
       "..         ...              ...  \n",
       "457          0                0  \n",
       "458          0                0  \n",
       "459          0                0  \n",
       "460          0                0  \n",
       "461          1                1  \n",
       "\n",
       "[462 rows x 11 columns]"
      ]
     },
     "execution_count": 33,
     "metadata": {},
     "output_type": "execute_result"
    }
   ],
   "source": [
    "pd.get_dummies(df, drop_first=True)"
   ]
  },
  {
   "cell_type": "code",
   "execution_count": 34,
   "metadata": {},
   "outputs": [
    {
     "data": {
      "text/html": [
       "<div>\n",
       "<style scoped>\n",
       "    .dataframe tbody tr th:only-of-type {\n",
       "        vertical-align: middle;\n",
       "    }\n",
       "\n",
       "    .dataframe tbody tr th {\n",
       "        vertical-align: top;\n",
       "    }\n",
       "\n",
       "    .dataframe thead th {\n",
       "        text-align: right;\n",
       "    }\n",
       "</style>\n",
       "<table border=\"1\" class=\"dataframe\">\n",
       "  <thead>\n",
       "    <tr style=\"text-align: right;\">\n",
       "      <th></th>\n",
       "      <th>sbp</th>\n",
       "      <th>tobacco</th>\n",
       "      <th>ldl</th>\n",
       "      <th>adiposity</th>\n",
       "      <th>famhist</th>\n",
       "      <th>typea</th>\n",
       "      <th>obesity</th>\n",
       "      <th>alcohol</th>\n",
       "      <th>age</th>\n",
       "      <th>chd</th>\n",
       "      <th>famhist_p</th>\n",
       "    </tr>\n",
       "  </thead>\n",
       "  <tbody>\n",
       "    <tr>\n",
       "      <th>0</th>\n",
       "      <td>160</td>\n",
       "      <td>12.00</td>\n",
       "      <td>5.73</td>\n",
       "      <td>23.11</td>\n",
       "      <td>Present</td>\n",
       "      <td>49</td>\n",
       "      <td>25.30</td>\n",
       "      <td>97.20</td>\n",
       "      <td>52</td>\n",
       "      <td>1</td>\n",
       "      <td>1</td>\n",
       "    </tr>\n",
       "    <tr>\n",
       "      <th>1</th>\n",
       "      <td>144</td>\n",
       "      <td>0.01</td>\n",
       "      <td>4.41</td>\n",
       "      <td>28.61</td>\n",
       "      <td>Absent</td>\n",
       "      <td>55</td>\n",
       "      <td>28.87</td>\n",
       "      <td>2.06</td>\n",
       "      <td>63</td>\n",
       "      <td>1</td>\n",
       "      <td>0</td>\n",
       "    </tr>\n",
       "    <tr>\n",
       "      <th>2</th>\n",
       "      <td>118</td>\n",
       "      <td>0.08</td>\n",
       "      <td>3.48</td>\n",
       "      <td>32.28</td>\n",
       "      <td>Present</td>\n",
       "      <td>52</td>\n",
       "      <td>29.14</td>\n",
       "      <td>3.81</td>\n",
       "      <td>46</td>\n",
       "      <td>0</td>\n",
       "      <td>1</td>\n",
       "    </tr>\n",
       "    <tr>\n",
       "      <th>3</th>\n",
       "      <td>170</td>\n",
       "      <td>7.50</td>\n",
       "      <td>6.41</td>\n",
       "      <td>38.03</td>\n",
       "      <td>Present</td>\n",
       "      <td>51</td>\n",
       "      <td>31.99</td>\n",
       "      <td>24.26</td>\n",
       "      <td>58</td>\n",
       "      <td>1</td>\n",
       "      <td>1</td>\n",
       "    </tr>\n",
       "    <tr>\n",
       "      <th>4</th>\n",
       "      <td>134</td>\n",
       "      <td>13.60</td>\n",
       "      <td>3.50</td>\n",
       "      <td>27.78</td>\n",
       "      <td>Present</td>\n",
       "      <td>60</td>\n",
       "      <td>25.99</td>\n",
       "      <td>57.34</td>\n",
       "      <td>49</td>\n",
       "      <td>1</td>\n",
       "      <td>1</td>\n",
       "    </tr>\n",
       "  </tbody>\n",
       "</table>\n",
       "</div>"
      ],
      "text/plain": [
       "   sbp  tobacco   ldl  adiposity  famhist  typea  obesity  alcohol  age  chd  \\\n",
       "0  160    12.00  5.73      23.11  Present     49    25.30    97.20   52    1   \n",
       "1  144     0.01  4.41      28.61   Absent     55    28.87     2.06   63    1   \n",
       "2  118     0.08  3.48      32.28  Present     52    29.14     3.81   46    0   \n",
       "3  170     7.50  6.41      38.03  Present     51    31.99    24.26   58    1   \n",
       "4  134    13.60  3.50      27.78  Present     60    25.99    57.34   49    1   \n",
       "\n",
       "   famhist_p  \n",
       "0          1  \n",
       "1          0  \n",
       "2          1  \n",
       "3          1  \n",
       "4          1  "
      ]
     },
     "execution_count": 34,
     "metadata": {},
     "output_type": "execute_result"
    }
   ],
   "source": [
    "df.head()"
   ]
  },
  {
   "cell_type": "code",
   "execution_count": null,
   "metadata": {},
   "outputs": [],
   "source": []
  },
  {
   "cell_type": "code",
   "execution_count": 35,
   "metadata": {
    "ExecuteTime": {
     "end_time": "2021-03-08T23:50:15.051873Z",
     "start_time": "2021-03-08T23:50:14.968875Z"
    }
   },
   "outputs": [
    {
     "name": "stdout",
     "output_type": "stream",
     "text": [
      "Optimization terminated successfully.\n",
      "         Current function value: 0.608111\n",
      "         Iterations 5\n"
     ]
    }
   ],
   "source": [
    "#creamos y entrenamos el modelo logistico \n",
    "m1_logit = smf.logit('chd ~ famhist_p', df)\n",
    "m1_logit = m1_logit.fit()"
   ]
  },
  {
   "cell_type": "code",
   "execution_count": 43,
   "metadata": {},
   "outputs": [
    {
     "data": {
      "text/html": [
       "<table class=\"simpletable\">\n",
       "<tr>\n",
       "        <td>Model:</td>              <td>Logit</td>      <td>Pseudo R-squared:</td>    <td>0.057</td>  \n",
       "</tr>\n",
       "<tr>\n",
       "  <td>Dependent Variable:</td>        <td>chd</td>             <td>AIC:</td>         <td>565.8944</td> \n",
       "</tr>\n",
       "<tr>\n",
       "         <td>Date:</td>        <td>2023-03-21 20:25</td>       <td>BIC:</td>         <td>574.1655</td> \n",
       "</tr>\n",
       "<tr>\n",
       "   <td>No. Observations:</td>         <td>462</td>        <td>Log-Likelihood:</td>    <td>-280.95</td> \n",
       "</tr>\n",
       "<tr>\n",
       "       <td>Df Model:</td>              <td>1</td>            <td>LL-Null:</td>        <td>-298.05</td> \n",
       "</tr>\n",
       "<tr>\n",
       "     <td>Df Residuals:</td>           <td>460</td>         <td>LLR p-value:</td>    <td>4.9371e-09</td>\n",
       "</tr>\n",
       "<tr>\n",
       "      <td>Converged:</td>           <td>1.0000</td>           <td>Scale:</td>         <td>1.0000</td>  \n",
       "</tr>\n",
       "<tr>\n",
       "    <td>No. Iterations:</td>        <td>5.0000</td>              <td></td>               <td></td>     \n",
       "</tr>\n",
       "</table>\n",
       "<table class=\"simpletable\">\n",
       "<tr>\n",
       "      <td></td>       <th>Coef.</th>  <th>Std.Err.</th>    <th>z</th>     <th>P>|z|</th> <th>[0.025</th>  <th>0.975]</th> \n",
       "</tr>\n",
       "<tr>\n",
       "  <th>Intercept</th> <td>-1.1690</td>  <td>0.1431</td>  <td>-8.1687</td> <td>0.0000</td> <td>-1.4495</td> <td>-0.8885</td>\n",
       "</tr>\n",
       "<tr>\n",
       "  <th>famhist_p</th> <td>1.1690</td>   <td>0.2033</td>  <td>5.7514</td>  <td>0.0000</td> <td>0.7706</td>  <td>1.5674</td> \n",
       "</tr>\n",
       "</table>"
      ],
      "text/plain": [
       "<class 'statsmodels.iolib.summary2.Summary'>\n",
       "\"\"\"\n",
       "                         Results: Logit\n",
       "=================================================================\n",
       "Model:              Logit            Pseudo R-squared: 0.057     \n",
       "Dependent Variable: chd              AIC:              565.8944  \n",
       "Date:               2023-03-21 20:25 BIC:              574.1655  \n",
       "No. Observations:   462              Log-Likelihood:   -280.95   \n",
       "Df Model:           1                LL-Null:          -298.05   \n",
       "Df Residuals:       460              LLR p-value:      4.9371e-09\n",
       "Converged:          1.0000           Scale:            1.0000    \n",
       "No. Iterations:     5.0000                                       \n",
       "------------------------------------------------------------------\n",
       "               Coef.   Std.Err.     z     P>|z|    [0.025   0.975]\n",
       "------------------------------------------------------------------\n",
       "Intercept     -1.1690    0.1431  -8.1687  0.0000  -1.4495  -0.8885\n",
       "famhist_p      1.1690    0.2033   5.7514  0.0000   0.7706   1.5674\n",
       "=================================================================\n",
       "\n",
       "\"\"\""
      ]
     },
     "execution_count": 43,
     "metadata": {},
     "output_type": "execute_result"
    }
   ],
   "source": [
    "m1_logit.summary2()"
   ]
  },
  {
   "cell_type": "code",
   "execution_count": null,
   "metadata": {},
   "outputs": [],
   "source": []
  },
  {
   "cell_type": "code",
   "execution_count": 44,
   "metadata": {
    "ExecuteTime": {
     "end_time": "2021-03-08T23:50:15.067876Z",
     "start_time": "2021-03-08T23:50:15.052876Z"
    }
   },
   "outputs": [],
   "source": [
    "#definimos la funcion concise_summary en base a la lectura\n",
    "def concise_summary(mod, print_fit=True):\n",
    "    #guardamos los parámetros asociados a estadísticas de ajuste\n",
    "    fit = pd.DataFrame({'Statistics': mod.summary2().tables[0][2][2:],\n",
    "    'Value': mod.summary2().tables[0][3][2:]})\n",
    "    # guardamos los parámetros estimados por cada regresor.\n",
    "    estimates = pd.DataFrame(mod.summary2().tables[1])\n",
    "    # imprimir fit es opcional\n",
    "    if print_fit is True:\n",
    "        print(\"\\nGoodness of Fit statistics\\n\", fit)\n",
    "        print(\"\\nPoint Estimates\\n\\n\", estimates)"
   ]
  },
  {
   "cell_type": "code",
   "execution_count": 45,
   "metadata": {
    "ExecuteTime": {
     "end_time": "2021-03-08T23:50:15.099874Z",
     "start_time": "2021-03-08T23:50:15.069876Z"
    }
   },
   "outputs": [
    {
     "name": "stdout",
     "output_type": "stream",
     "text": [
      "\n",
      "Goodness of Fit statistics\n",
      "         Statistics       Value\n",
      "2             BIC:    574.1655\n",
      "3  Log-Likelihood:     -280.95\n",
      "4         LL-Null:     -298.05\n",
      "5     LLR p-value:  4.9371e-09\n",
      "6           Scale:      1.0000\n",
      "7                             \n",
      "\n",
      "Point Estimates\n",
      "\n",
      "               Coef.  Std.Err.         z         P>|z|    [0.025    0.975]\n",
      "Intercept -1.168993  0.143106 -8.168713  3.116957e-16 -1.449476 -0.888510\n",
      "famhist_p  1.168993  0.203255  5.751355  8.853123e-09  0.770620  1.567366\n"
     ]
    }
   ],
   "source": [
    "#utilizamos smf.logit para estimar el modelo\n",
    "concise_summary(m1_logit)"
   ]
  },
  {
   "cell_type": "markdown",
   "metadata": {},
   "source": []
  },
  {
   "cell_type": "code",
   "execution_count": 46,
   "metadata": {
    "ExecuteTime": {
     "end_time": "2021-03-08T23:50:15.115875Z",
     "start_time": "2021-03-08T23:50:15.101876Z"
    }
   },
   "outputs": [],
   "source": [
    "#creamos la funcion inverse_logit\n",
    "def inverse_logit(x):\n",
    "    return 1 / (1+np.exp(-x))"
   ]
  },
  {
   "cell_type": "markdown",
   "metadata": {},
   "source": [
    "#### 4. Con el modelo estimado, responda lo siguiente:\n",
    "* ¿Cuál es la probabilidad de un individuo con antecedentes familiares de tener una enfermedad coronaria?\n",
    "* ¿Cuál es la probabilidad de un individuo sin antecedentes familiares de tener una enfermedad coronaria?\n",
    "* ¿Cuál es la diferencia en la probabilidad entre un individuo con antecedentes y otro sin\n",
    "antecedentes?\n",
    "* Replique el modelo con smf.ols y comente las similitudes entre los coeficientes estimados.\n",
    "* tip: Utilice beta/4\n",
    "* Estime el mismo modelo con LPM"
   ]
  },
  {
   "cell_type": "code",
   "execution_count": 47,
   "metadata": {
    "ExecuteTime": {
     "end_time": "2021-03-08T23:50:15.130876Z",
     "start_time": "2021-03-08T23:50:15.117877Z"
    }
   },
   "outputs": [
    {
     "data": {
      "text/plain": [
       "0.237"
      ]
     },
     "execution_count": 47,
     "metadata": {},
     "output_type": "execute_result"
    }
   ],
   "source": [
    "#obtenemos la probabilidad de un individuo sin antecedentes familiares\n",
    "isaf = round(inverse_logit(-1.168993), 4)\n",
    "isaf"
   ]
  },
  {
   "cell_type": "markdown",
   "metadata": {},
   "source": [
    "#### <span style=\"color:blue\"> La probabilidad de un individuo sin antecedentes familiares de obtener una enfermedad coronaria es de $23.7\\%$ </span>"
   ]
  },
  {
   "cell_type": "code",
   "execution_count": 48,
   "metadata": {
    "ExecuteTime": {
     "end_time": "2021-03-08T23:50:15.146875Z",
     "start_time": "2021-03-08T23:50:15.134877Z"
    }
   },
   "outputs": [
    {
     "data": {
      "text/plain": [
       "0.5"
      ]
     },
     "execution_count": 48,
     "metadata": {},
     "output_type": "execute_result"
    }
   ],
   "source": [
    "#obtenemos la probabilidad de un individuo con antencentes familiares\n",
    "icaf = round(inverse_logit(-1.168993+1.168993), 4)\n",
    "icaf"
   ]
  },
  {
   "cell_type": "markdown",
   "metadata": {},
   "source": [
    "#### <span style=\"color:blue\"> La probabilidad de un individuo con antecedentes familiares de obtener una enfermedad coronaria es de $50\\%$"
   ]
  },
  {
   "cell_type": "code",
   "execution_count": 49,
   "metadata": {
    "ExecuteTime": {
     "end_time": "2021-03-08T23:50:15.162875Z",
     "start_time": "2021-03-08T23:50:15.149877Z"
    }
   },
   "outputs": [
    {
     "data": {
      "text/plain": [
       "0.263"
      ]
     },
     "execution_count": 49,
     "metadata": {},
     "output_type": "execute_result"
    }
   ],
   "source": [
    "#obtenemos la diferencia entre un individuo con y uno sin antecedentes familiares\n",
    "icaf - isaf"
   ]
  },
  {
   "cell_type": "markdown",
   "metadata": {},
   "source": [
    "#### <span style=\"color:blue\"> La diferencia en la probabilidad de obtener una enfermedad coronariaentre entre un individuo con antecedentes familiares y otro sin antecedentes familiares es de $26.3\\%$</span>"
   ]
  },
  {
   "cell_type": "code",
   "execution_count": 50,
   "metadata": {
    "ExecuteTime": {
     "end_time": "2021-03-08T23:50:15.178873Z",
     "start_time": "2021-03-08T23:50:15.164875Z"
    }
   },
   "outputs": [],
   "source": [
    "#creamos el modelo con smf.ols\n",
    "m1_ols = smf.ols('chd ~ famhist_p', df).fit()"
   ]
  },
  {
   "cell_type": "code",
   "execution_count": 51,
   "metadata": {
    "ExecuteTime": {
     "end_time": "2021-03-08T23:50:15.208876Z",
     "start_time": "2021-03-08T23:50:15.182877Z"
    }
   },
   "outputs": [
    {
     "name": "stdout",
     "output_type": "stream",
     "text": [
      "\n",
      "Goodness of Fit statistics\n",
      "             Statistics     Value\n",
      "2                 BIC:  601.4437\n",
      "3      Log-Likelihood:   -294.59\n",
      "4         F-statistic:     36.86\n",
      "5  Prob (F-statistic):  2.66e-09\n",
      "6               Scale:   0.21050\n",
      "\n",
      "Point Estimates\n",
      "\n",
      "               Coef.  Std.Err.         t         P>|t|    [0.025    0.975]\n",
      "Intercept  0.237037  0.027922  8.489319  2.886599e-16  0.182167  0.291907\n",
      "famhist_p  0.262963  0.043313  6.071289  2.657629e-09  0.177848  0.348078\n"
     ]
    }
   ],
   "source": [
    "concise_summary(m1_ols)"
   ]
  },
  {
   "cell_type": "code",
   "execution_count": 52,
   "metadata": {
    "ExecuteTime": {
     "end_time": "2021-03-08T23:50:15.224876Z",
     "start_time": "2021-03-08T23:50:15.210877Z"
    }
   },
   "outputs": [],
   "source": [
    "#sumamos el intercepto y famhist_p\n",
    "probabilidad = 0.237037 + 0.262963"
   ]
  },
  {
   "cell_type": "code",
   "execution_count": 53,
   "metadata": {
    "ExecuteTime": {
     "end_time": "2021-03-08T23:50:15.240877Z",
     "start_time": "2021-03-08T23:50:15.226876Z"
    }
   },
   "outputs": [
    {
     "data": {
      "text/plain": [
       "0.5"
      ]
     },
     "execution_count": 53,
     "metadata": {},
     "output_type": "execute_result"
    }
   ],
   "source": [
    "round(probabilidad, 4)"
   ]
  },
  {
   "cell_type": "markdown",
   "metadata": {},
   "source": [
    "#### <span style=\"color:blue\"> En ambos modelos la probabilidad de un individuo con antecedentes familiares de obtener una enfermedad coronaria es aproximadamente de $50\\%$"
   ]
  },
  {
   "cell_type": "code",
   "execution_count": 54,
   "metadata": {
    "ExecuteTime": {
     "end_time": "2021-03-08T23:50:15.255876Z",
     "start_time": "2021-03-08T23:50:15.244878Z"
    }
   },
   "outputs": [
    {
     "data": {
      "text/plain": [
       "0.29224825"
      ]
     },
     "execution_count": 54,
     "metadata": {},
     "output_type": "execute_result"
    }
   ],
   "source": [
    "#Aplicamos la regla beta/4\n",
    "1.168993/4"
   ]
  },
  {
   "cell_type": "markdown",
   "metadata": {},
   "source": [
    "#### <span style=\"color:blue\"> Se observa que aplicando $\\frac{\\beta}{4}$ al coeficiente de 'famhist_p', el resultado es simmilar al que se obtiene en el modelo smf.ols"
   ]
  },
  {
   "cell_type": "markdown",
   "metadata": {},
   "source": [
    "## Desafío 3: Estimación completa"
   ]
  },
  {
   "cell_type": "markdown",
   "metadata": {},
   "source": [
    "#### Implemente un modelo con la siguiente forma\n",
    "$$ \\log \\left(\\frac{Pr(chd=1)}{1-Pr(chd=1)}\\right) = \\beta_{0} + \\sum_{j=1}^{N} \\beta_{j} \\times X $$"
   ]
  },
  {
   "cell_type": "code",
   "execution_count": 55,
   "metadata": {
    "ExecuteTime": {
     "end_time": "2021-03-08T23:50:15.271876Z",
     "start_time": "2021-03-08T23:50:15.257877Z"
    }
   },
   "outputs": [
    {
     "data": {
      "text/plain": [
       "'sbp+tobacco+ldl+adiposity+typea+obesity+alcohol+age+famhist_p'"
      ]
     },
     "execution_count": 55,
     "metadata": {},
     "output_type": "execute_result"
    }
   ],
   "source": [
    "#obtenemos las variables para clasificacion\n",
    "columnas = list(df.columns)\n",
    "columnas.remove('chd')\n",
    "columnas.remove('famhist')\n",
    "variables_sumadas = \"+\".join(columnas)\n",
    "variables_sumadas"
   ]
  },
  {
   "cell_type": "code",
   "execution_count": 56,
   "metadata": {
    "ExecuteTime": {
     "end_time": "2021-03-08T23:50:15.319877Z",
     "start_time": "2021-03-08T23:50:15.273876Z"
    }
   },
   "outputs": [
    {
     "name": "stdout",
     "output_type": "stream",
     "text": [
      "Optimization terminated successfully.\n",
      "         Current function value: 0.510974\n",
      "         Iterations 6\n"
     ]
    }
   ],
   "source": [
    "#creamos y entrenamos el modelo saturado\n",
    "m2_logit = smf.logit('chd ~ '+variables_sumadas, df).fit()"
   ]
  },
  {
   "cell_type": "markdown",
   "metadata": {},
   "source": [
    "#### Depure el modelo manteniendo las variables con significancia estadística al 95%."
   ]
  },
  {
   "cell_type": "code",
   "execution_count": 57,
   "metadata": {
    "ExecuteTime": {
     "end_time": "2021-03-08T23:50:15.366877Z",
     "start_time": "2021-03-08T23:50:15.322876Z"
    }
   },
   "outputs": [
    {
     "data": {
      "text/html": [
       "<table class=\"simpletable\">\n",
       "<tr>\n",
       "        <td>Model:</td>              <td>Logit</td>      <td>Pseudo R-squared:</td>    <td>0.208</td>  \n",
       "</tr>\n",
       "<tr>\n",
       "  <td>Dependent Variable:</td>        <td>chd</td>             <td>AIC:</td>         <td>492.1400</td> \n",
       "</tr>\n",
       "<tr>\n",
       "         <td>Date:</td>        <td>2023-03-21 20:35</td>       <td>BIC:</td>         <td>533.4957</td> \n",
       "</tr>\n",
       "<tr>\n",
       "   <td>No. Observations:</td>         <td>462</td>        <td>Log-Likelihood:</td>    <td>-236.07</td> \n",
       "</tr>\n",
       "<tr>\n",
       "       <td>Df Model:</td>              <td>9</td>            <td>LL-Null:</td>        <td>-298.05</td> \n",
       "</tr>\n",
       "<tr>\n",
       "     <td>Df Residuals:</td>           <td>452</td>         <td>LLR p-value:</td>    <td>2.0548e-22</td>\n",
       "</tr>\n",
       "<tr>\n",
       "      <td>Converged:</td>           <td>1.0000</td>           <td>Scale:</td>         <td>1.0000</td>  \n",
       "</tr>\n",
       "<tr>\n",
       "    <td>No. Iterations:</td>        <td>6.0000</td>              <td></td>               <td></td>     \n",
       "</tr>\n",
       "</table>\n",
       "<table class=\"simpletable\">\n",
       "<tr>\n",
       "      <td></td>       <th>Coef.</th>  <th>Std.Err.</th>    <th>z</th>     <th>P>|z|</th> <th>[0.025</th>  <th>0.975]</th> \n",
       "</tr>\n",
       "<tr>\n",
       "  <th>Intercept</th> <td>-6.1507</td>  <td>1.3083</td>  <td>-4.7015</td> <td>0.0000</td> <td>-8.7149</td> <td>-3.5866</td>\n",
       "</tr>\n",
       "<tr>\n",
       "  <th>sbp</th>       <td>0.0065</td>   <td>0.0057</td>  <td>1.1350</td>  <td>0.2564</td> <td>-0.0047</td> <td>0.0177</td> \n",
       "</tr>\n",
       "<tr>\n",
       "  <th>tobacco</th>   <td>0.0794</td>   <td>0.0266</td>  <td>2.9838</td>  <td>0.0028</td> <td>0.0272</td>  <td>0.1315</td> \n",
       "</tr>\n",
       "<tr>\n",
       "  <th>ldl</th>       <td>0.1739</td>   <td>0.0597</td>  <td>2.9152</td>  <td>0.0036</td> <td>0.0570</td>  <td>0.2909</td> \n",
       "</tr>\n",
       "<tr>\n",
       "  <th>adiposity</th> <td>0.0186</td>   <td>0.0293</td>  <td>0.6346</td>  <td>0.5257</td> <td>-0.0388</td> <td>0.0760</td> \n",
       "</tr>\n",
       "<tr>\n",
       "  <th>typea</th>     <td>0.0396</td>   <td>0.0123</td>  <td>3.2138</td>  <td>0.0013</td> <td>0.0154</td>  <td>0.0637</td> \n",
       "</tr>\n",
       "<tr>\n",
       "  <th>obesity</th>   <td>-0.0629</td>  <td>0.0442</td>  <td>-1.4218</td> <td>0.1551</td> <td>-0.1496</td> <td>0.0238</td> \n",
       "</tr>\n",
       "<tr>\n",
       "  <th>alcohol</th>   <td>0.0001</td>   <td>0.0045</td>  <td>0.0271</td>  <td>0.9784</td> <td>-0.0087</td> <td>0.0089</td> \n",
       "</tr>\n",
       "<tr>\n",
       "  <th>age</th>       <td>0.0452</td>   <td>0.0121</td>  <td>3.7285</td>  <td>0.0002</td> <td>0.0215</td>  <td>0.0690</td> \n",
       "</tr>\n",
       "<tr>\n",
       "  <th>famhist_p</th> <td>0.9254</td>   <td>0.2279</td>  <td>4.0605</td>  <td>0.0000</td> <td>0.4787</td>  <td>1.3720</td> \n",
       "</tr>\n",
       "</table>"
      ],
      "text/plain": [
       "<class 'statsmodels.iolib.summary2.Summary'>\n",
       "\"\"\"\n",
       "                         Results: Logit\n",
       "=================================================================\n",
       "Model:              Logit            Pseudo R-squared: 0.208     \n",
       "Dependent Variable: chd              AIC:              492.1400  \n",
       "Date:               2023-03-21 20:35 BIC:              533.4957  \n",
       "No. Observations:   462              Log-Likelihood:   -236.07   \n",
       "Df Model:           9                LL-Null:          -298.05   \n",
       "Df Residuals:       452              LLR p-value:      2.0548e-22\n",
       "Converged:          1.0000           Scale:            1.0000    \n",
       "No. Iterations:     6.0000                                       \n",
       "------------------------------------------------------------------\n",
       "               Coef.   Std.Err.     z     P>|z|    [0.025   0.975]\n",
       "------------------------------------------------------------------\n",
       "Intercept     -6.1507    1.3083  -4.7015  0.0000  -8.7149  -3.5866\n",
       "sbp            0.0065    0.0057   1.1350  0.2564  -0.0047   0.0177\n",
       "tobacco        0.0794    0.0266   2.9838  0.0028   0.0272   0.1315\n",
       "ldl            0.1739    0.0597   2.9152  0.0036   0.0570   0.2909\n",
       "adiposity      0.0186    0.0293   0.6346  0.5257  -0.0388   0.0760\n",
       "typea          0.0396    0.0123   3.2138  0.0013   0.0154   0.0637\n",
       "obesity       -0.0629    0.0442  -1.4218  0.1551  -0.1496   0.0238\n",
       "alcohol        0.0001    0.0045   0.0271  0.9784  -0.0087   0.0089\n",
       "age            0.0452    0.0121   3.7285  0.0002   0.0215   0.0690\n",
       "famhist_p      0.9254    0.2279   4.0605  0.0000   0.4787   1.3720\n",
       "=================================================================\n",
       "\n",
       "\"\"\""
      ]
     },
     "execution_count": 57,
     "metadata": {},
     "output_type": "execute_result"
    }
   ],
   "source": [
    "#revisamos el modelo saturado\n",
    "m2_logit.summary2()"
   ]
  },
  {
   "cell_type": "code",
   "execution_count": 68,
   "metadata": {},
   "outputs": [
    {
     "data": {
      "text/plain": [
       "['tobacco', 'ldl', 'typea', 'age', 'famhist_p']"
      ]
     },
     "execution_count": 68,
     "metadata": {},
     "output_type": "execute_result"
    }
   ],
   "source": [
    "l = list(m2_logit.pvalues[m2_logit.pvalues <= 0.005].index)\n",
    "l.remove('Intercept')\n",
    "l"
   ]
  },
  {
   "cell_type": "code",
   "execution_count": null,
   "metadata": {},
   "outputs": [],
   "source": []
  },
  {
   "cell_type": "code",
   "execution_count": 69,
   "metadata": {
    "ExecuteTime": {
     "end_time": "2021-03-08T23:50:15.397875Z",
     "start_time": "2021-03-08T23:50:15.370876Z"
    }
   },
   "outputs": [
    {
     "name": "stdout",
     "output_type": "stream",
     "text": [
      "Optimization terminated successfully.\n",
      "         Current function value: 0.514811\n",
      "         Iterations 6\n"
     ]
    }
   ],
   "source": [
    "#depuramos por variablas con significancia del 95%\n",
    "variables_significativas = 'tobacco + ldl + typea + age + famhist_p'\n",
    "m2_logit_depurado = smf.logit('chd ~ '+variables_significativas, df).fit()"
   ]
  },
  {
   "cell_type": "code",
   "execution_count": 70,
   "metadata": {
    "ExecuteTime": {
     "end_time": "2021-03-08T23:50:15.460876Z",
     "start_time": "2021-03-08T23:50:15.415877Z"
    }
   },
   "outputs": [
    {
     "data": {
      "text/html": [
       "<table class=\"simpletable\">\n",
       "<tr>\n",
       "        <td>Model:</td>              <td>Logit</td>      <td>Pseudo R-squared:</td>    <td>0.202</td>  \n",
       "</tr>\n",
       "<tr>\n",
       "  <td>Dependent Variable:</td>        <td>chd</td>             <td>AIC:</td>         <td>487.6856</td> \n",
       "</tr>\n",
       "<tr>\n",
       "         <td>Date:</td>        <td>2023-03-21 20:39</td>       <td>BIC:</td>         <td>512.4990</td> \n",
       "</tr>\n",
       "<tr>\n",
       "   <td>No. Observations:</td>         <td>462</td>        <td>Log-Likelihood:</td>    <td>-237.84</td> \n",
       "</tr>\n",
       "<tr>\n",
       "       <td>Df Model:</td>              <td>5</td>            <td>LL-Null:</td>        <td>-298.05</td> \n",
       "</tr>\n",
       "<tr>\n",
       "     <td>Df Residuals:</td>           <td>456</td>         <td>LLR p-value:</td>    <td>2.5537e-24</td>\n",
       "</tr>\n",
       "<tr>\n",
       "      <td>Converged:</td>           <td>1.0000</td>           <td>Scale:</td>         <td>1.0000</td>  \n",
       "</tr>\n",
       "<tr>\n",
       "    <td>No. Iterations:</td>        <td>6.0000</td>              <td></td>               <td></td>     \n",
       "</tr>\n",
       "</table>\n",
       "<table class=\"simpletable\">\n",
       "<tr>\n",
       "      <td></td>       <th>Coef.</th>  <th>Std.Err.</th>    <th>z</th>     <th>P>|z|</th> <th>[0.025</th>  <th>0.975]</th> \n",
       "</tr>\n",
       "<tr>\n",
       "  <th>Intercept</th> <td>-6.4464</td>  <td>0.9209</td>  <td>-7.0004</td> <td>0.0000</td> <td>-8.2513</td> <td>-4.6416</td>\n",
       "</tr>\n",
       "<tr>\n",
       "  <th>tobacco</th>   <td>0.0804</td>   <td>0.0259</td>  <td>3.1057</td>  <td>0.0019</td> <td>0.0297</td>  <td>0.1311</td> \n",
       "</tr>\n",
       "<tr>\n",
       "  <th>ldl</th>       <td>0.1620</td>   <td>0.0550</td>  <td>2.9470</td>  <td>0.0032</td> <td>0.0543</td>  <td>0.2697</td> \n",
       "</tr>\n",
       "<tr>\n",
       "  <th>typea</th>     <td>0.0371</td>   <td>0.0122</td>  <td>3.0505</td>  <td>0.0023</td> <td>0.0133</td>  <td>0.0610</td> \n",
       "</tr>\n",
       "<tr>\n",
       "  <th>age</th>       <td>0.0505</td>   <td>0.0102</td>  <td>4.9442</td>  <td>0.0000</td> <td>0.0305</td>  <td>0.0705</td> \n",
       "</tr>\n",
       "<tr>\n",
       "  <th>famhist_p</th> <td>0.9082</td>   <td>0.2258</td>  <td>4.0228</td>  <td>0.0001</td> <td>0.4657</td>  <td>1.3507</td> \n",
       "</tr>\n",
       "</table>"
      ],
      "text/plain": [
       "<class 'statsmodels.iolib.summary2.Summary'>\n",
       "\"\"\"\n",
       "                         Results: Logit\n",
       "=================================================================\n",
       "Model:              Logit            Pseudo R-squared: 0.202     \n",
       "Dependent Variable: chd              AIC:              487.6856  \n",
       "Date:               2023-03-21 20:39 BIC:              512.4990  \n",
       "No. Observations:   462              Log-Likelihood:   -237.84   \n",
       "Df Model:           5                LL-Null:          -298.05   \n",
       "Df Residuals:       456              LLR p-value:      2.5537e-24\n",
       "Converged:          1.0000           Scale:            1.0000    \n",
       "No. Iterations:     6.0000                                       \n",
       "------------------------------------------------------------------\n",
       "               Coef.   Std.Err.     z     P>|z|    [0.025   0.975]\n",
       "------------------------------------------------------------------\n",
       "Intercept     -6.4464    0.9209  -7.0004  0.0000  -8.2513  -4.6416\n",
       "tobacco        0.0804    0.0259   3.1057  0.0019   0.0297   0.1311\n",
       "ldl            0.1620    0.0550   2.9470  0.0032   0.0543   0.2697\n",
       "typea          0.0371    0.0122   3.0505  0.0023   0.0133   0.0610\n",
       "age            0.0505    0.0102   4.9442  0.0000   0.0305   0.0705\n",
       "famhist_p      0.9082    0.2258   4.0228  0.0001   0.4657   1.3507\n",
       "=================================================================\n",
       "\n",
       "\"\"\""
      ]
     },
     "execution_count": 70,
     "metadata": {},
     "output_type": "execute_result"
    }
   ],
   "source": [
    "m2_logit_depurado.summary2()"
   ]
  },
  {
   "cell_type": "markdown",
   "metadata": {},
   "source": [
    "#### En ambos modelos el Pseudo R-squared no tiene diferencia sustancial"
   ]
  },
  {
   "cell_type": "markdown",
   "metadata": {},
   "source": [
    "#### Compare los estadísticos de bondad de ajuste entre ambos.\n",
    "#### Reporte de forma sucinta el efecto de las variables en el log-odds de tener una enfermedad coronaria"
   ]
  },
  {
   "cell_type": "markdown",
   "metadata": {},
   "source": [
    "#### <span style=\"color:blue\"> Se observa que los estadísticos de bondad ($Pseudo R^2$) de ambos modelos son muy similares (explican la varianza del modelo en aproximadamente un 20%), y solo se diferencian en $0.006$. El modelo depurado presenta coeficientes similares de las variables, que aportan a tener una mayor probabilida de contraer enfermedades coronarios, y es de aplicación mas general."
   ]
  },
  {
   "cell_type": "code",
   "execution_count": 72,
   "metadata": {
    "ExecuteTime": {
     "end_time": "2021-03-08T23:50:15.475874Z",
     "start_time": "2021-03-08T23:50:15.461875Z"
    }
   },
   "outputs": [
    {
     "data": {
      "text/plain": [
       "Intercept   -6.446445\n",
       "tobacco      0.080375\n",
       "ldl          0.161992\n",
       "typea        0.037115\n",
       "age          0.050460\n",
       "famhist_p    0.908175\n",
       "dtype: float64"
      ]
     },
     "execution_count": 72,
     "metadata": {},
     "output_type": "execute_result"
    }
   ],
   "source": [
    "#obtenemos los coeficientes por variable\n",
    "coeficientes = m2_logit_depurado.params\n",
    "coeficientes"
   ]
  },
  {
   "cell_type": "code",
   "execution_count": 73,
   "metadata": {
    "ExecuteTime": {
     "end_time": "2021-03-08T23:50:15.490876Z",
     "start_time": "2021-03-08T23:50:15.477876Z"
    }
   },
   "outputs": [
    {
     "data": {
      "text/plain": [
       "Intercept   -6.446445\n",
       "tobacco      0.080375\n",
       "ldl          0.161992\n",
       "typea        0.037115\n",
       "age          0.050460\n",
       "famhist_p    0.908175\n",
       "dtype: float64"
      ]
     },
     "execution_count": 73,
     "metadata": {},
     "output_type": "execute_result"
    }
   ],
   "source": [
    "#revisamos los betas\n",
    "m2_logit_depurado.params"
   ]
  },
  {
   "cell_type": "code",
   "execution_count": 74,
   "metadata": {
    "ExecuteTime": {
     "end_time": "2021-03-08T23:50:15.506877Z",
     "start_time": "2021-03-08T23:50:15.492876Z"
    }
   },
   "outputs": [
    {
     "data": {
      "text/plain": [
       "Intercept    0.0000\n",
       "tobacco      0.0017\n",
       "ldl          0.0019\n",
       "typea        0.0016\n",
       "age          0.0017\n",
       "famhist_p    0.0039\n",
       "dtype: float64"
      ]
     },
     "execution_count": 74,
     "metadata": {},
     "output_type": "execute_result"
    }
   ],
   "source": [
    "#aplicamos el log inverso a los coeficientes\n",
    "coeficientes.map(lambda x: \\\n",
    "                 round(inverse_logit(m2_logit_depurado.params['Intercept'] + x), 4))"
   ]
  },
  {
   "cell_type": "markdown",
   "metadata": {},
   "source": [
    "#### <span style=\"color:blue\"> Se observa que en todas las variables la adición de una unidad incrementa en aproximadamente 0.17% la probabilida de contraer una enfermedad coronaria por cada unidad adicional, con la salvedad de la presencia de antecedentes familiares, que de existir incrementan la probabilidad en 0.39%"
   ]
  },
  {
   "cell_type": "markdown",
   "metadata": {},
   "source": [
    "## Desafío 4: Estimación de perfiles"
   ]
  },
  {
   "cell_type": "markdown",
   "metadata": {},
   "source": [
    "##### A partir del modelo depurado, genere las estimaciones en log-odds y posteriormente transfórmelas a probabilidades con inverse_logit . Los perfiles a estimar son los siguientes:"
   ]
  },
  {
   "cell_type": "markdown",
   "metadata": {},
   "source": [
    "#### La probabilidad de tener una enfermedad coronaria para un individuo con características similares a la muestra"
   ]
  },
  {
   "cell_type": "code",
   "execution_count": 88,
   "metadata": {},
   "outputs": [
    {
     "data": {
      "text/plain": [
       "0    0.584416\n",
       "1    0.415584\n",
       "Name: famhist_p, dtype: float64"
      ]
     },
     "execution_count": 88,
     "metadata": {},
     "output_type": "execute_result"
    }
   ],
   "source": [
    "df['famhist_p'].value_counts('%')"
   ]
  },
  {
   "cell_type": "code",
   "execution_count": 92,
   "metadata": {
    "ExecuteTime": {
     "end_time": "2021-03-09T00:02:23.511276Z",
     "start_time": "2021-03-09T00:02:23.495278Z"
    }
   },
   "outputs": [],
   "source": [
    "#obtenemos los valores del individuo promedio para las variables continuas significativas\n",
    "#consideraremos la probabilidad de corte para estimar la ocurrencia normal de famhist_p como > 50%\n",
    "medias = {\n",
    "    'tobacco': df['tobacco'].mean(),\n",
    "    'ldl' : df['ldl'].mean(),\n",
    "    'typea': df['typea'].mean(),\n",
    "    'age': df['age'].mean(),\n",
    "    #'famhist_p': df['famhist_p'].value_counts('%').index[1] if df['famhist_p'].value_counts('%')[1] > 0.5 else 0\n",
    "    'famhist_p': df['famhist_p'].value_counts('%').index[0]\n",
    "}"
   ]
  },
  {
   "cell_type": "code",
   "execution_count": 93,
   "metadata": {
    "ExecuteTime": {
     "end_time": "2021-03-08T23:50:15.538394Z",
     "start_time": "2021-03-08T23:50:15.527394Z"
    }
   },
   "outputs": [
    {
     "data": {
      "text/plain": [
       "{'tobacco': 3.635649350649348,\n",
       " 'ldl': 4.7403246753246835,\n",
       " 'typea': 53.103896103896105,\n",
       " 'age': 42.816017316017316,\n",
       " 'famhist_p': 0}"
      ]
     },
     "execution_count": 93,
     "metadata": {},
     "output_type": "execute_result"
    }
   ],
   "source": [
    "medias"
   ]
  },
  {
   "cell_type": "code",
   "execution_count": 94,
   "metadata": {
    "ExecuteTime": {
     "end_time": "2021-03-08T23:50:15.568397Z",
     "start_time": "2021-03-08T23:50:15.542396Z"
    }
   },
   "outputs": [],
   "source": [
    "#definimos nuestra funcion predictora. \n",
    "#no obstante el individuo promedio no tiene antecedentes familiares, consereraremos ambos casos\n",
    "def predice_por_individuo(modelo_logit, medias):\n",
    "    probabilidad_chd_individio_con_famhist_p = round(inverse_logit(\n",
    "        + modelo_logit.params['Intercept']\n",
    "        + (modelo_logit.params['tobacco'] * medias['tobacco'])\n",
    "        + (modelo_logit.params['ldl'] * medias['ldl'])\n",
    "        + (modelo_logit.params['typea'] * medias['typea'])\n",
    "        + (modelo_logit.params['age'] * medias['age'])\n",
    "        + (modelo_logit.params['famhist_p'] *1)  \n",
    "    ), 4)\n",
    "    probabilidad_chd_individio_sin_famhist_p = round(inverse_logit(\n",
    "        + modelo_logit.params['Intercept']\n",
    "        + (modelo_logit.params['tobacco'] * medias['tobacco'])\n",
    "        + (modelo_logit.params['ldl'] * medias['ldl'])\n",
    "        + (modelo_logit.params['typea'] * medias['typea'])\n",
    "        + (modelo_logit.params['age'] * medias['age'])\n",
    "        + (modelo_logit.params['famhist_p'] * 0)  \n",
    "    ),4)\n",
    "    print(\"Probabilidad de chd para individuo promedio\")\n",
    "    print(f\"\\033[1mCon\\033[0m historial familiar {probabilidad_chd_individio_con_famhist_p}\")\n",
    "    print(f\"\\033[1mSin\\033[0m historial familiar {probabilidad_chd_individio_sin_famhist_p}\")"
   ]
  },
  {
   "cell_type": "markdown",
   "metadata": {},
   "source": [
    "#### <span style=\"color:blue\"> No obstante el individuo promedio no tiene antecedentes familiares, consideraremos ambos casos."
   ]
  },
  {
   "cell_type": "code",
   "execution_count": 95,
   "metadata": {
    "ExecuteTime": {
     "end_time": "2021-03-08T23:50:15.631391Z",
     "start_time": "2021-03-08T23:50:15.587391Z"
    }
   },
   "outputs": [
    {
     "name": "stdout",
     "output_type": "stream",
     "text": [
      "Probabilidad de chd para individuo promedio\n",
      "\u001b[1mCon\u001b[0m historial familiar 0.4142\n",
      "\u001b[1mSin\u001b[0m historial familiar 0.2219\n"
     ]
    }
   ],
   "source": [
    "predice_por_individuo(m2_logit_depurado, medias)"
   ]
  },
  {
   "cell_type": "markdown",
   "metadata": {},
   "source": [
    "#### <span style=\"color:blue\"> La probabilidad de tener una enfermedad coronaria de un individuo con características similares a la muestra es de:\n",
    "* <span style=\"color:blue\"> $22.19\\%$ si no tiene antecedentes familiares\n",
    "* <span style=\"color:blue\"> $41.42\\%$ si tiene antecedentes familiares\n",
    "    "
   ]
  },
  {
   "cell_type": "markdown",
   "metadata": {},
   "source": [
    "#### La probabilidad de tener una enfemerdad coronaria para un individuo con altos niveles de lipoproteína de baja densidad, manteniendo todas las demás características constantes."
   ]
  },
  {
   "cell_type": "code",
   "execution_count": 96,
   "metadata": {},
   "outputs": [
    {
     "data": {
      "text/plain": [
       "15.33"
      ]
     },
     "execution_count": 96,
     "metadata": {},
     "output_type": "execute_result"
    }
   ],
   "source": [
    "df['ldl'].max()"
   ]
  },
  {
   "cell_type": "code",
   "execution_count": 97,
   "metadata": {
    "ExecuteTime": {
     "end_time": "2021-03-08T23:50:15.663394Z",
     "start_time": "2021-03-08T23:50:15.638398Z"
    }
   },
   "outputs": [
    {
     "name": "stdout",
     "output_type": "stream",
     "text": [
      "Probabilidad de chd para individuo promedio\n",
      "\u001b[1mCon\u001b[0m historial familiar 0.7972\n",
      "\u001b[1mSin\u001b[0m historial familiar 0.6132\n"
     ]
    }
   ],
   "source": [
    "#obtenemos el valor mas alto de ldl de la muestra\n",
    "medias['ldl'] = df['ldl'].max()\n",
    "predice_por_individuo(m2_logit_depurado, medias)"
   ]
  },
  {
   "cell_type": "markdown",
   "metadata": {},
   "source": [
    "#### <span style=\"color:blue\"> La probabilidad de tener una enfermedad coronaria de un individuo con características similares a la muestra y ALTOS grados de ldl de:\n",
    "* <span style=\"color:blue\"> $61.32.19\\%$ si no tiene antecedentes familiares\n",
    "* <span style=\"color:blue\"> $79.72\\%$ si tiene antecedentes familiares"
   ]
  },
  {
   "cell_type": "markdown",
   "metadata": {},
   "source": [
    "#### La probabilidad de tener una enfemerdad coronaria para un individuo con bajos niveles de lipoproteína de baja densidad, manteniendo todas las demás características constantes."
   ]
  },
  {
   "cell_type": "code",
   "execution_count": 98,
   "metadata": {},
   "outputs": [
    {
     "data": {
      "text/plain": [
       "0.98"
      ]
     },
     "execution_count": 98,
     "metadata": {},
     "output_type": "execute_result"
    }
   ],
   "source": [
    "df['ldl'].min()"
   ]
  },
  {
   "cell_type": "code",
   "execution_count": 99,
   "metadata": {
    "ExecuteTime": {
     "end_time": "2021-03-08T23:50:15.678397Z",
     "start_time": "2021-03-08T23:50:15.668396Z"
    }
   },
   "outputs": [
    {
     "name": "stdout",
     "output_type": "stream",
     "text": [
      "Probabilidad de chd para individuo promedio\n",
      "\u001b[1mCon\u001b[0m historial familiar 0.2777\n",
      "\u001b[1mSin\u001b[0m historial familiar 0.1342\n"
     ]
    }
   ],
   "source": [
    "#obtenemos el valor mas bajo de ldl de la muestra\n",
    "medias['ldl'] = df['ldl'].min()\n",
    "predice_por_individuo(m2_logit_depurado, medias)"
   ]
  },
  {
   "cell_type": "markdown",
   "metadata": {},
   "source": [
    "#### <span style=\"color:blue\"> La probabilidad de tener una enfermedad coronaria de un individuo con características similares a la muestra y BAJOS grados de ldl de:\n",
    "* <span style=\"color:blue\"> $13.42\\%$ si no tiene antecedentes familiares\n",
    "* <span style=\"color:blue\"> $27.77\\%$ si tiene antecedentes familiares"
   ]
  }
 ],
 "metadata": {
  "kernelspec": {
   "display_name": "Python 3 (ipykernel)",
   "language": "python",
   "name": "python3"
  },
  "language_info": {
   "codemirror_mode": {
    "name": "ipython",
    "version": 3
   },
   "file_extension": ".py",
   "mimetype": "text/x-python",
   "name": "python",
   "nbconvert_exporter": "python",
   "pygments_lexer": "ipython3",
   "version": "3.9.13"
  }
 },
 "nbformat": 4,
 "nbformat_minor": 2
}
