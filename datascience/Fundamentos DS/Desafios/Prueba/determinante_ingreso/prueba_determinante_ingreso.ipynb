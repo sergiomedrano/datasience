{
 "cells": [
  {
   "cell_type": "markdown",
   "id": "a64174e5",
   "metadata": {},
   "source": [
    "# <div style=\"text-align: center\"> Determinante del Ingreso </div>\n",
    "#### <div style=\"text-align: right\">Por: Sergio Medrano Flores</div>"
   ]
  },
  {
   "cell_type": "markdown",
   "id": "dd126cc1",
   "metadata": {},
   "source": [
    "## Sección 1 - Preliminares (Hito 1)"
   ]
  },
  {
   "cell_type": "markdown",
   "id": "39f4b446",
   "metadata": {},
   "source": [
    "#### 1.1 Descripción del problema"
   ]
  },
  {
   "cell_type": "markdown",
   "id": "4d02a18d",
   "metadata": {},
   "source": [
    "Este problema de <b>clasificación</b> consiste en implementar un modelo para predecir lo mejor posible la probabilidad que un individuo presente una renta mayor o menor a un valor definido, en base a una serie de atributos sociodemográficos.\n",
    "Este problema se abordará en los siguientes puntos:\n",
    "- Preliminares: Describir el problema, objetivos y explicar la implementación de la solución considerando los criterios de optimización y métricas de desempeño.\n",
    "- Aspectos computacionales: Describir las librerias, módulos y funciones a utilizar.\n",
    "- Descripción: Analizar de manera descriptiva considerando las variables del DataFrame Considerando medidas univariadas/frecuencias, datos perdidos y gráficos sobre las variables a analizar. Además, definir la estrategia de preprocesamiento.\n",
    "- Modelación descriptiva: Definir los principales determinantes del objeto de estudio. En base a esto se podrá construir y depurar el modelo predictivo.\n",
    "- Modelación predictiva: Implementar solución analítica que aumente el desempeño del modelo. Con un mínimo de 3 modelos predictivos, donde cada uno debe tener una reseña del motivo por el cual se diseñó y reportar sus principales métricas."
   ]
  },
  {
   "cell_type": "markdown",
   "id": "62bb8b27",
   "metadata": {},
   "source": [
    "#### 1.2 Objetivo"
   ]
  },
  {
   "cell_type": "markdown",
   "id": "2d8226f9",
   "metadata": {},
   "source": [
    "El objetivo planteado consiste en desarrollar un modelo predictivo sobre la probabilidad que un individuo presente salarios por sobre o bajo los 50.000 USD anuales, en base a una serie de atributos sociodemográficos."
   ]
  },
  {
   "cell_type": "markdown",
   "id": "3f892d7c",
   "metadata": {},
   "source": [
    "#### 1.3 Descripción de la base de datos"
   ]
  },
  {
   "cell_type": "markdown",
   "id": "42cda4e9",
   "metadata": {},
   "source": [
    "Para desarrollar este desafío se debe utilizar la base de datos income-db.csv\n",
    "Las variables que componen esta base se detallan a continuación:\n",
    "- age: Edad del individuo.\n",
    "- workclass: Naturaleza de la organización que emplea al individuo.\n",
    "- education: Nivel educacional del individuo:Bachelors (Licenciado), Some-college (Superior incompleta), 11th (3ro medio), HS-grad (Secundaria completa), Prof-school (Escuela profesional), Assoc-acdm (Técnico superior administrativo) , Assoc-voc (Técnico superior vocacional), 9th (1ro medio), 7th-8th (7mo-8vo), 12th (4to medio), Masters (Maestría de postgrado), 1st-4th (1ro-4to básico), 10th(2do medio), Doctorate (Doctorado), 5th-6th (5to-6to), Preschool (Preescolar)\n",
    "- capital-gains: Ingresos generados por inversiones fuera del trabajo asalariado = Ingresos generados por inversiones fuera del trabajo asalariado.\n",
    "- capital-losses: Pérdidas generadas por inversiones fuera del trabajo asalariado.\n",
    "- fnlwgt: Ponderador muestral.\n",
    "- marital-status: Estado civil del individuo: Married-civ-spouse (Casado/a régimen civil), Divorced (Divorciado/a), Never-married (Soltero/a), Separated (Separado/a), Widowed (Viudo/a), Married-spouse-absent (Casado con esposo/a ausente), Married-AF-spouse (Casado/a régimen castrense).\n",
    "- occupation: Ocupación del individuo: Tech-support (Soporte técnico), Craft-repair (Reparaciones), Other-service (Otros servicios), Sales (Ventas), Exec-managerial (Ejecutivo administrativos), Prof-specialty (Profesores), Handlers-cleaners (Aseo y ornato), Machine-op-inspct (Administrativos servicio (Inspectores al cliente), de maquinarias), Adm-clerical Farming-fishing (Pesca-ganadería), Transport-moving (Transporte), Priv-house-serv (Asesor del hogar), Protective-serv (servicios de seguridad), Armed-Forces (Fuerzas armadas).\n",
    "- relationship: Relación respecto a su familia Wife(Esposa), Own-child (hijo único), Husband (Esposo), Not-in-family (No pertenece a la familia), Other-relative (Familiar de otro tipo), Unmarried (Soltero).\n",
    "- race: Raza del encuestado White(Blanco caucásico), Asian-Pac-Islander (Isleño del Asia Pacífico), Amer-Indian-Eskimo (Pertenenciente a pueblos originarios), Other (Otro grupo), Black (Afroamericano).\n",
    "- sex: Sexo del encuestado.\n",
    "- hours-per-week: Cantidad de horas trabajadas por semana.\n",
    "- native-country: País de origen. United-States, Cambodia, England, Puerto-Rico, Canada, Germany, Outlying-US(Guam-USVI-etc), India, Japan, Greece, South, China, Cuba, Iran, Honduras, Philippines, Italy, Poland, Jamaica, Vietnam, Mexico, Portugal, Ireland, France, Dominican-Republic, Laos, Ecuador, Taiwan, Haiti, Columbia, Hungary, Guatemala, Nicaragua, Scotland, Thailand, Yugoslavia, El-Salvador, Trinadad&Tobago, Peru, Hong, Holand-Netherlands.\n",
    "- income: <=50K Si el individuo percibe ingresos inferiores a 50.000 dólares anuales, >50K si el individuo percibe ingresos superiores a 50.000 dólares anuales. <b>Este es su vector objetivo</b>."
   ]
  },
  {
   "cell_type": "markdown",
   "id": "046e311b",
   "metadata": {},
   "source": [
    "#### 1.4 Aspectos adicionales a considerar"
   ]
  },
  {
   "cell_type": "markdown",
   "id": "200dfcce",
   "metadata": {},
   "source": [
    "- La base de datos contiene los valores perdidos como ?. Deberá transformarlos para poder trabajar de forma adecuada.\n",
    "- Desde la organización le sugieren que debe recodificar las siguientes variables acorde a las siguientes nomenclaturas:\n",
    "    - occupation debe recodificarse como collars siguiendo una nomenclatura similar a:\n",
    "        - white-collar ← Prof-specialty, Exec-managerial, Adm-clerical, Sales, Tech-support.\n",
    "        - blue-collar ← Craft-repair, Machine-op-inspct, Transport-moving, Handlers-cleaners, Farming-fishing, Protective-serv, Priv-house-serv.\n",
    "        - others ← Other-service, Armed-Forces.\n",
    "    - workclass debe recodificarse como workclass_recod siguiendo una nomenclatura similar a :\n",
    "        - federal-gov ← Federal-gov.\n",
    "        - state-level-gov ← State-gov, Local-gov.\n",
    "        - self-employed ← Self-emp-inc, Self-emp-not-inc\n",
    "        - unemployed ← Never-worked, Without-pay.\n",
    "    - education debe recodificarse como educ_recod siguiendo una nomenclatura similar a :\n",
    "        - preschool ← Preschool\n",
    "        - elementary-school ← 1st-4th, 5th-6th\n",
    "        - high-school ← 7th-8th, 9th, 10th,11th, 12th, HS-grad\n",
    "        - college ← Assoc-voc, Assoc-acdm, Some-college\n",
    "        - university ← Bachelors, Masters, Prof-school, Doctorate.\n",
    "    - marital-status debe recodificarse como civstatus siguiendo una nomenclatura similar a :\n",
    "        - married ← Married-civ-spouse, Married-spouse-absent, Married-AF-spouse.\n",
    "        - divorced ← Divorced.\n",
    "        - separated ← Separated.\n",
    "        - widowed ← Widowed.\n",
    "    - native-country debe recodificarse como region donde cada país debe asignarse a uno de los 5 continentes.\n",
    "    - incomedebe recodificarse de forma binaria."
   ]
  },
  {
   "cell_type": "markdown",
   "id": "0785582f",
   "metadata": {},
   "source": [
    "#### 1.5 Implementación de la solución"
   ]
  },
  {
   "cell_type": "markdown",
   "id": "51ec5adf",
   "metadata": {},
   "source": [
    "Para llevar a cabo la resolución de este problema se implementerá el siguiente plan de trabajo:\n",
    "- Importar librerías y funciones a utilizar.\n",
    "- Importar y analizar la base de datos.\n",
    "- Pre procesar los datos a través de la eliminación de datos perdidos y recodificación de variables acorde a lo requerido.\n",
    "- Inspeccionar gráficamente las variables mediante el vector objetivo, variables independientes y los datos perdidos de las variables recodificadas.\n",
    "- Reprocesar datos.\n",
    "- Aplicar modelos de regresión logística, utilizando la estadistica clásica y machine learning.\n",
    "- Aplicar métricas para evaluar cada modelo obtenido para luego compararlos.\n",
    "- Concluir cual es el mejor modelo a utilizar en base a lo obtenido en el punto anterior."
   ]
  },
  {
   "cell_type": "markdown",
   "id": "bc210344",
   "metadata": {},
   "source": [
    "#### 1.6 Criterios de optimización y métricas de desempeño"
   ]
  },
  {
   "cell_type": "markdown",
   "id": "c687fc8f",
   "metadata": {},
   "source": [
    "Ya que nos encontramos frente a un problema de <b>clasificación</b>, se utilizan criterios de optimización en base a las métricas de desempeño obtenidas.\n",
    "\n",
    "Criterios de optimización:\n",
    "- Aumentar el porcentaje de nivel salarial predicho correctamente.\n",
    "- Disminuir la cantidad de Falsos Positivos y Falsos Negativos.\n",
    "\n",
    "Métricas de desempeño:\n",
    "- Accuracy para la evaluación general del modelo.\n",
    "- Recall, Precision y F1-Score para la evaluación particular del modelo."
   ]
  },
  {
   "cell_type": "markdown",
   "id": "c4c05cb3",
   "metadata": {},
   "source": [
    "## Sección 2 - Aspectos computacionales (Hito 1)"
   ]
  },
  {
   "cell_type": "markdown",
   "id": "ade9716e",
   "metadata": {},
   "source": [
    "#### 2.1 Librerías y módulos"
   ]
  },
  {
   "cell_type": "markdown",
   "id": "66d2ba11",
   "metadata": {},
   "source": [
    "Para realizar este trabajo es necesaria la utilización de los siguientes módulos y librerias:"
   ]
  },
  {
   "cell_type": "code",
   "execution_count": 8,
   "id": "30712289",
   "metadata": {},
   "outputs": [],
   "source": [
    "#Librerias necesarias para el preprocesamiento y procesamiento de la data\n",
    "import pandas as pd\n",
    "import numpy as np\n",
    "\n",
    "#Librerias para generar gráficos\n",
    "import seaborn as sns\n",
    "import matplotlib.pyplot as plt\n",
    "\n",
    "#Librerias para modelamiento estadístico y obtención de métricas\n",
    "import scipy.stats as stats\n",
    "import statsmodels.api as sm\n",
    "import statsmodels.formula.api as smf\n",
    "\n",
    "#Librerias para el uso de modelos en Machine Learning\n",
    "from sklearn import linear_model\n",
    "from sklearn.linear_model import LogisticRegression\n",
    "from sklearn.linear_model import LinearRegression\n",
    "from sklearn.model_selection import train_test_split\n",
    "from sklearn.preprocessing import StandardScaler\n",
    "\n",
    "#Librerias para obtener metricas con Machine Learning\n",
    "from sklearn.metrics import mean_squared_error, r2_score\n",
    "from sklearn.metrics import confusion_matrix\n",
    "from sklearn.metrics import roc_curve\n",
    "from sklearn.metrics import roc_auc_score\n",
    "from sklearn.metrics import classification_report\n",
    "from sklearn.model_selection import cross_val_score\n",
    "\n",
    "#Libreria para omitir avisos de advertencias\n",
    "import warnings\n",
    "warnings.filterwarnings(\"ignore\")"
   ]
  },
  {
   "cell_type": "markdown",
   "id": "19f20c2b",
   "metadata": {},
   "source": [
    "#### 2.2 Funciones a utilizar"
   ]
  },
  {
   "cell_type": "markdown",
   "id": "30a8ccf2",
   "metadata": {},
   "source": [
    "Se utilizarán funciones creadas por nosotros, son las siguientes:\n",
    "- <b>contador_vacios()</b>: retorna el total de registros vacíos (NaN) en la variable ingresada como parámetro (o total en su defecto)\n",
    "- <b>graficar_variables()</b>: grafica la variable ingresada como parámetro en función a su tipo de dato"
   ]
  },
  {
   "cell_type": "code",
   "execution_count": 10,
   "id": "b9820d63",
   "metadata": {},
   "outputs": [
    {
     "ename": "ModuleNotFoundError",
     "evalue": "No module named 'funciones_propias'",
     "output_type": "error",
     "traceback": [
      "\u001b[0;31m---------------------------------------------------------------------------\u001b[0m",
      "\u001b[0;31mModuleNotFoundError\u001b[0m                       Traceback (most recent call last)",
      "\u001b[0;32m/var/folders/q4/qtrpx3ns2zsf7ycph__16lz80000gn/T/ipykernel_6834/3653109498.py\u001b[0m in \u001b[0;36m<module>\u001b[0;34m\u001b[0m\n\u001b[1;32m      1\u001b[0m \u001b[0;31m# Se importan funciones propias\u001b[0m\u001b[0;34m\u001b[0m\u001b[0;34m\u001b[0m\u001b[0m\n\u001b[0;32m----> 2\u001b[0;31m \u001b[0;32mimport\u001b[0m \u001b[0mfunciones_propias\u001b[0m\u001b[0;34m\u001b[0m\u001b[0;34m\u001b[0m\u001b[0m\n\u001b[0m",
      "\u001b[0;31mModuleNotFoundError\u001b[0m: No module named 'funciones_propias'"
     ]
    }
   ],
   "source": [
    "# Se importan funciones propias\n",
    "import funciones_propias"
   ]
  },
  {
   "cell_type": "code",
   "execution_count": null,
   "id": "8bfc230b",
   "metadata": {},
   "outputs": [],
   "source": []
  }
 ],
 "metadata": {
  "kernelspec": {
   "display_name": "Python 3 (ipykernel)",
   "language": "python",
   "name": "python3"
  },
  "language_info": {
   "codemirror_mode": {
    "name": "ipython",
    "version": 3
   },
   "file_extension": ".py",
   "mimetype": "text/x-python",
   "name": "python",
   "nbconvert_exporter": "python",
   "pygments_lexer": "ipython3",
   "version": "3.9.13"
  }
 },
 "nbformat": 4,
 "nbformat_minor": 5
}
