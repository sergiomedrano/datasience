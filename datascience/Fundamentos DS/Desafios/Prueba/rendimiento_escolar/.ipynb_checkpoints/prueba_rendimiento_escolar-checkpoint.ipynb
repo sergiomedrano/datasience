{
 "cells": [
  {
   "cell_type": "markdown",
   "id": "db4d321e",
   "metadata": {},
   "source": [
    "# <div style=\"text-align: center\"> Rendimiento escolar </div>\n",
    "#### <div style=\"text-align: right\">Por: Sergio Medrano Flores</div>"
   ]
  },
  {
   "cell_type": "markdown",
   "id": "0b1a727f",
   "metadata": {},
   "source": [
    "## Sección 1 - Preliminares (Hito 1)"
   ]
  },
  {
   "cell_type": "markdown",
   "id": "d119758b",
   "metadata": {},
   "source": [
    "#### 1.1 Descripción del problema"
   ]
  },
  {
   "cell_type": "markdown",
   "id": "67973a27",
   "metadata": {},
   "source": [
    "Este problema de <b>regresión</b> consiste en implementar un modelo, para una escuela Portuguesa, para identificar alumnos con un bajo rendimiento acádemico, medido al final de un año escolar. Esto en base a registros sociodemográficos y conductuales de los estudiantes.\n",
    "Este problema se abordará en los siguientes puntos:\n",
    "- Preliminares: Describir el problema, objetivos y explicar la implementación de la solución considerando los criterios de optimización y métricas de desempeño.\n",
    "- Aspectos computacionales: Describir las librerias, módulos y funciones a utilizar.\n",
    "- Descripción: Analizar de manera descriptiva considerando las variables del DataFrame Considerando medidas univariadas/frecuencias, datos perdidos y gráficos sobre las variables a analizar. Además, definir la estrategia de preprocesamiento.\n",
    "- Modelación descriptiva: Definir los principales determinantes del objeto de estudio. En base a esto se podrá construir y depurar el modelo predictivo.\n",
    "- Modelación predictiva: Implementar solución analítica que aumente el desempeño del modelo. Con un mínimo de 3 modelos predictivos, donde cada uno debe tener una reseña del motivo por el cual se diseñó y reportar sus principales métricas."
   ]
  },
  {
   "cell_type": "markdown",
   "id": "3c2f5b81",
   "metadata": {},
   "source": [
    "#### 1.2 Objetivo"
   ]
  },
  {
   "cell_type": "markdown",
   "id": "f5fa755c",
   "metadata": {},
   "source": [
    "El objetivo planteado consiste en generar y entrenar un modelo para identificar aquellos estudiantes con un bajo desempeño académico, medido en el promedio final anual. Pare esto se utiliza una base de datos con registros sociodemográficos y conductuales de los alumnos de dos escuelas. Adicionalmente, se sugiere inspeccionar una batería de preguntas asociadas a aspectos ambientales del alumno y ver si se pueden abstraer en categorías latentes."
   ]
  },
  {
   "cell_type": "markdown",
   "id": "e91fb573",
   "metadata": {},
   "source": [
    "#### 1.3 Descripción de la base de datos"
   ]
  },
  {
   "cell_type": "markdown",
   "id": "338dfba7",
   "metadata": {},
   "source": [
    "Para responder esta pregunta deben utilizar el archivo students.csv\n",
    "Las variables que componen la base se detallan a continuación:\n",
    "- school: Escuela del estudiante. (binaria: 'GP'- Gabriel Pereira o 'MS'- Mousinho da Silveira).\n",
    "- sex: Sexo del estudiante. (binaria: 'F' - Mujer o 'M' - Hombre).\n",
    "- age: Edad del estudiante. (numérica: de 15 a 22).\n",
    "- address: Ubicación de la casa del estudiante. (binaria: 'U' - urbana o 'R' - rural).\n",
    "- famsize: Tamaño de la familia. (binaria: 'LE3'- less or equal to 3 or 'GT3'- greater than 3).\n",
    "- Pstatus: Estado cohabitacional de los padres. (binaria: 'T'- cohabitando juntos o 'A'viviendo separados).\n",
    "- Medu: Nivel educacional de la madre. (numérica: 0- ninguno, 1- educación básica (4to), 2 - de 5to a 9, 3 - educación media,  o 4 - educación superior).\n",
    "- Fedu: Nivel educacional del padre. (numérica: 0- ninguno, 1- educación básica (4to), 2 - de 5to a 9, 3 - educación media,  o 4 - educación superior).\n",
    "- Mjob: Ocupación de la madre. (nominal: 'teacher' profesora, 'health' relacionada a salud, 'services' (e.g. administración pública o policía), 'at_home' en casa u 'other' otra).\n",
    "- job:: Ocupación del padre (nominal: 'teacher' profesor, 'health' relacionado a salud, 'services' (e.g. administración pública o policía), 'at_home' en casa u 'other' otra).\n",
    "- reason: Razón para escoger la escuela (nominal: 'home' cercano a casa, 'reputation' reputación de la escuela, 'course' preferencia de cursos u 'other' otra).\n",
    "- guardian: Apoderado del estudiante (nominal: 'mother' madre, 'father' padre u 'other' otro).\n",
    "- traveltime: Tiempo de viaje entre hogar y colegio. Se debe codificar como:\n",
    "    - 1 si es menos de 15 min.\n",
    "    - 2 si es de 15 a 30 min.\n",
    "    - 3 si es de 30 min a 1 hora.\n",
    "    - 4 si es más de 1 hora.\n",
    "- studytime: Horas semanales dedicadas al estudio. Se debe codificar como:\n",
    "    - 1 si es menos de 2 horas.\n",
    "    - 2 si es de 2 a 5 horas.\n",
    "    - 3 si es de 5 a 10 horas.\n",
    "    - 4 si es más de 10 horas.\n",
    "- failures: Número de clases reprobadas. (numérica: n si 1<=n<3, de lo contrario 4).\n",
    "- schoolsup: Apoyo educacional del colegio. (binaria: si o no).\n",
    "- famsup: Apoyo educacional familiar. (binaria: si o no).\n",
    "- paid: Clases particulares pagadas (matemáticas o portugués) (binaria: sí o no).\n",
    "- activities: Actividades extracurriculares. (binaria: si o no).\n",
    "- nursery: Asistió a guardería infantil. (binaria: si o no).\n",
    "- higher: Desea proseguir estudios superiores (binaria: si o no).\n",
    "- internet: Acceso a internet desde el hogar (binaria: si o no).\n",
    "- romantic: Relación romántica (binaria: si o no).\n",
    "- famrel: Calidad de las relaciones familiares. (numérica: de 1- muy malas a 5excelentes).\n",
    "- freetime: Tiempo libre fuera del colegio (numérica: de 1 - muy poco a 5 - mucho).\n",
    "- goout: Salidas con amigos (numérica: de 1 - muy pocas a 5 - muchas).\n",
    "- Dalc: Consumo de alcohol en día de semana (numérica: de 1- muy bajo a 5- muy alto).\n",
    "- Walc: Consumo de alcohol en fines de semana (numérica: de 1- muybajo a 5-muy alto).\n",
    "- health: Estado de salud actual (numérica: from 1 - muy malo to 5 - muy bueno).\n",
    "- absences: Cantidad de ausencias escolares (numérica: de 0 a 93).\n",
    "- G1: Notas durante el primer semestre (numérica: de 0 a 20). <b>Este es uno de sus vectores objetivos para el modelo descriptivo</b>.\n",
    "- G2: Notas durante el segundo semestre (numérica: de 0 a 20). <b>Este es uno de sus vectores objetivos para el modelo descriptivo</b>.\n",
    "- G3: Promedio final (numérica: de 0 a 20). <b>Este es uno de sus vectores objetivos para el modelo descriptivo y el vector a predecir en el modelo predictivo</b>."
   ]
  },
  {
   "cell_type": "markdown",
   "id": "dd9fe27e",
   "metadata": {},
   "source": [
    "#### 1.4 Aspectos adicionales a considerar\n",
    "- La base de datos presenta una serie de anomalías. En la escuela no tienen buenas prácticas sobre cómo ingresar datos, por lo que existen datos perdidos que están registrados bajo tres categorías: nulidade, sem validade, zero. De manera adicional, hay 3 variables numéricas que se registraron como strings, cuya interpretación en pandas devuelve una estructura de datos genérica. Finalmente, la base está con un encoding distinto al normal y los delimitadores son distintos.\n",
    "- Para simplificar el análisis y su posterior inclusión en un modelo predictivo, se sugiere recodificar las variables binarias como 0 y 1. Se recomienda seguir el criterio de asignarle 1 a aquellas categorías minoritarias.\n",
    "- El procedimiento también debe aplicarse para aquellas variables nominales con más de 2 categorías siguiendo la misma lógica.\n",
    "- En la parte de modelación descriptiva, se deben generar modelos utilizando todos los predictores por cada una de las notas registradas en G1, G2 y G3.\n",
    "- Para la parte de modelación predictiva, se debe generar un modelo para predecir las notas en G3."
   ]
  },
  {
   "cell_type": "markdown",
   "id": "ef703510",
   "metadata": {},
   "source": [
    "#### 1.5 Implementación de la solución"
   ]
  },
  {
   "cell_type": "markdown",
   "id": "1af28a86",
   "metadata": {},
   "source": [
    "Para llevar a cabo la resolución de este problema se implementerá el siguiente plan de trabajo:\n",
    "- Importar librerías y funciones a utilizar.\n",
    "- Importar y analizar la base de datos.\n",
    "- Pre procesar los datos a través de la eliminación de datos perdidos y recodificación de variables acorde a lo requerido.\n",
    "- Inspeccionar gráficamente las variables mediante el vector objetivo, variables independientes y los datos perdidos de las variables recodificadas.\n",
    "- Reprocesar datos.\n",
    "- Aplicar modelos de regresión logística, utilizando la estadistica clásica y machine learning.\n",
    "- Aplicar métricas para evaluar cada modelo obtenido para luego compararlos.\n",
    "- Concluir cual es el mejor modelo a utilizar en base a lo obtenido en el punto anterior."
   ]
  },
  {
   "cell_type": "markdown",
   "id": "6af1f7ad",
   "metadata": {},
   "source": [
    "#### 1.4 Criterios de optimización y métricas de desempeño"
   ]
  },
  {
   "cell_type": "markdown",
   "id": "c8907a10",
   "metadata": {},
   "source": [
    "Ya que nos encontramos frente a un problema de <b>regresión</b>, se utilizan criterios de optimización en base a las métricas de desempeño obtenidas.\n",
    "\n",
    "Criterios de optimización:\n",
    "- Quitar regresores que no cumplan una correlación definida al momento de optimizar el modelo\n",
    "\n",
    "Métricas de desempeño:\n",
    "- Promedio Error cuadratico.\n",
    "- R cuadrado."
   ]
  },
  {
   "cell_type": "markdown",
   "id": "61af587e",
   "metadata": {},
   "source": [
    "## Sección 2 - Aspectos computacionales (Hito 1)"
   ]
  },
  {
   "cell_type": "markdown",
   "id": "1ed37bfe",
   "metadata": {},
   "source": [
    "#### 2.1 Librerías y módulos"
   ]
  },
  {
   "cell_type": "markdown",
   "id": "9542189e",
   "metadata": {},
   "source": [
    "Para realizar este trabajo es necesaria la utilización de los siguientes módulos y librerias:"
   ]
  },
  {
   "cell_type": "code",
   "execution_count": 2,
   "id": "2d0e62ef",
   "metadata": {},
   "outputs": [],
   "source": [
    "#Librerias necesarias para el preprocesamiento y procesamiento de la data\n",
    "import pandas as pd\n",
    "import numpy as np\n",
    "\n",
    "#Librerias para generar gráficos\n",
    "import seaborn as sns\n",
    "import matplotlib.pyplot as plt\n",
    "\n",
    "#Librerias para modelamiento estadístico y obtención de métricas\n",
    "import scipy.stats as stats\n",
    "import statsmodels.api as sm\n",
    "import statsmodels.formula.api as smf\n",
    "\n",
    "#Librerias para el uso de modelos en Machine Learning\n",
    "from sklearn import linear_model\n",
    "from sklearn.linear_model import LogisticRegression\n",
    "from sklearn.linear_model import LinearRegression\n",
    "from sklearn.model_selection import train_test_split\n",
    "from sklearn.preprocessing import StandardScaler\n",
    "\n",
    "#Librerias para obtener metricas con Machine Learning\n",
    "from sklearn.metrics import mean_squared_error, r2_score\n",
    "from sklearn.metrics import confusion_matrix\n",
    "from sklearn.metrics import roc_curve\n",
    "from sklearn.metrics import roc_auc_score\n",
    "from sklearn.metrics import classification_report\n",
    "from sklearn.model_selection import cross_val_score\n",
    "\n",
    "#Libreria para omitir avisos de advertencias\n",
    "import warnings\n",
    "warnings.filterwarnings(\"ignore\")"
   ]
  },
  {
   "cell_type": "markdown",
   "id": "b979a720",
   "metadata": {},
   "source": [
    "#### 2.2 Funciones a utilizar"
   ]
  },
  {
   "cell_type": "markdown",
   "id": "e83ff3e3",
   "metadata": {},
   "source": [
    "Se utilizarán funciones creadas por nosotros, son las siguientes:\n",
    "- <b>contador_vacios()</b>: retorna el total de registros vacíos (NaN) en la variable ingresada como parámetro (o total en su defecto)\n",
    "- <b>graficar_variables()</b>: grafica la variable ingresada como parámetro en función a su tipo de dato"
   ]
  },
  {
   "cell_type": "code",
   "execution_count": 3,
   "id": "2c7faa22",
   "metadata": {},
   "outputs": [
    {
     "ename": "ModuleNotFoundError",
     "evalue": "No module named 'funciones_propias'",
     "output_type": "error",
     "traceback": [
      "\u001b[0;31m---------------------------------------------------------------------------\u001b[0m",
      "\u001b[0;31mModuleNotFoundError\u001b[0m                       Traceback (most recent call last)",
      "\u001b[0;32m/var/folders/q4/qtrpx3ns2zsf7ycph__16lz80000gn/T/ipykernel_8773/3653109498.py\u001b[0m in \u001b[0;36m<module>\u001b[0;34m\u001b[0m\n\u001b[1;32m      1\u001b[0m \u001b[0;31m# Se importan funciones propias\u001b[0m\u001b[0;34m\u001b[0m\u001b[0;34m\u001b[0m\u001b[0m\n\u001b[0;32m----> 2\u001b[0;31m \u001b[0;32mimport\u001b[0m \u001b[0mfunciones_propias\u001b[0m\u001b[0;34m\u001b[0m\u001b[0;34m\u001b[0m\u001b[0m\n\u001b[0m",
      "\u001b[0;31mModuleNotFoundError\u001b[0m: No module named 'funciones_propias'"
     ]
    }
   ],
   "source": [
    "# Se importan funciones propias\n",
    "import funciones_propias"
   ]
  },
  {
   "cell_type": "code",
   "execution_count": null,
   "id": "f0f14e68",
   "metadata": {},
   "outputs": [],
   "source": []
  }
 ],
 "metadata": {
  "kernelspec": {
   "display_name": "Python 3 (ipykernel)",
   "language": "python",
   "name": "python3"
  },
  "language_info": {
   "codemirror_mode": {
    "name": "ipython",
    "version": 3
   },
   "file_extension": ".py",
   "mimetype": "text/x-python",
   "name": "python",
   "nbconvert_exporter": "python",
   "pygments_lexer": "ipython3",
   "version": "3.9.13"
  }
 },
 "nbformat": 4,
 "nbformat_minor": 5
}
