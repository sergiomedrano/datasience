{
 "cells": [
  {
   "cell_type": "code",
   "execution_count": null,
   "id": "59e700be-9dd2-46f9-b76c-a10e304b760c",
   "metadata": {},
   "outputs": [],
   "source": [
    "!head alumnos.csv"
   ]
  }
 ],
 "metadata": {
  "kernelspec": {
   "display_name": "Python 3 (ipykernel)",
   "language": "python",
   "name": "python3"
  },
  "language_info": {
   "codemirror_mode": {
    "name": "ipython",
    "version": 3
   },
   "file_extension": ".py",
   "mimetype": "text/x-python",
   "name": "python",
   "nbconvert_exporter": "python",
   "pygments_lexer": "ipython3",
   "version": "3.9.13"
  }
 },
 "nbformat": 4,
 "nbformat_minor": 5
}
