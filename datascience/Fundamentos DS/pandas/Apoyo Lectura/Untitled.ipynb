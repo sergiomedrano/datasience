{
 "cells": [
  {
   "cell_type": "code",
   "execution_count": 1,
   "id": "59e700be-9dd2-46f9-b76c-a10e304b760c",
   "metadata": {},
   "outputs": [
    {
     "name": "stdout",
     "output_type": "stream",
     "text": [
      "nombre,altura,peso,edad,sexo\n",
      "Hugo,1.67,60,23,h\n",
      "Paco,1.73,83,25,h\n",
      "Luis,1.62,70,28,h\n",
      "Diana,1.58,58,21,m\n",
      "Francisco,1.86,98,28,h\n",
      "Felipe,1.79,100,26,h\n",
      "Jacinta,1.69,62,20,m\n",
      "Bernardo,1.6,83,31,h\n",
      "Marisol,1.6,56,30,m\n"
     ]
    }
   ],
   "source": [
    "!head alumnos.csv"
   ]
  },
  {
   "cell_type": "code",
   "execution_count": 5,
   "id": "dee2167a-77a7-41a2-a5f4-a67a268dcc02",
   "metadata": {},
   "outputs": [
    {
     "data": {
      "text/html": [
       "<div>\n",
       "<style scoped>\n",
       "    .dataframe tbody tr th:only-of-type {\n",
       "        vertical-align: middle;\n",
       "    }\n",
       "\n",
       "    .dataframe tbody tr th {\n",
       "        vertical-align: top;\n",
       "    }\n",
       "\n",
       "    .dataframe thead th {\n",
       "        text-align: right;\n",
       "    }\n",
       "</style>\n",
       "<table border=\"1\" class=\"dataframe\">\n",
       "  <thead>\n",
       "    <tr style=\"text-align: right;\">\n",
       "      <th></th>\n",
       "      <th>nombre</th>\n",
       "      <th>altura</th>\n",
       "      <th>peso</th>\n",
       "      <th>edad</th>\n",
       "      <th>sexo</th>\n",
       "    </tr>\n",
       "  </thead>\n",
       "  <tbody>\n",
       "    <tr>\n",
       "      <th>0</th>\n",
       "      <td>Hugo</td>\n",
       "      <td>1.67</td>\n",
       "      <td>60</td>\n",
       "      <td>23</td>\n",
       "      <td>h</td>\n",
       "    </tr>\n",
       "    <tr>\n",
       "      <th>1</th>\n",
       "      <td>Paco</td>\n",
       "      <td>1.73</td>\n",
       "      <td>83</td>\n",
       "      <td>25</td>\n",
       "      <td>h</td>\n",
       "    </tr>\n",
       "    <tr>\n",
       "      <th>2</th>\n",
       "      <td>Luis</td>\n",
       "      <td>1.62</td>\n",
       "      <td>70</td>\n",
       "      <td>28</td>\n",
       "      <td>h</td>\n",
       "    </tr>\n",
       "    <tr>\n",
       "      <th>3</th>\n",
       "      <td>Diana</td>\n",
       "      <td>1.58</td>\n",
       "      <td>58</td>\n",
       "      <td>21</td>\n",
       "      <td>m</td>\n",
       "    </tr>\n",
       "    <tr>\n",
       "      <th>4</th>\n",
       "      <td>Francisco</td>\n",
       "      <td>1.86</td>\n",
       "      <td>98</td>\n",
       "      <td>28</td>\n",
       "      <td>h</td>\n",
       "    </tr>\n",
       "  </tbody>\n",
       "</table>\n",
       "</div>"
      ],
      "text/plain": [
       "      nombre  altura  peso  edad sexo\n",
       "0       Hugo    1.67    60    23    h\n",
       "1       Paco    1.73    83    25    h\n",
       "2       Luis    1.62    70    28    h\n",
       "3      Diana    1.58    58    21    m\n",
       "4  Francisco    1.86    98    28    h"
      ]
     },
     "execution_count": 5,
     "metadata": {},
     "output_type": "execute_result"
    }
   ],
   "source": [
    "import pandas as pd\n",
    "df = pd.read_csv('alumnos.csv')\n",
    "df.head()"
   ]
  },
  {
   "cell_type": "code",
   "execution_count": 7,
   "id": "12fb99ec-8a9b-4a30-b72e-1ad6eb166368",
   "metadata": {},
   "outputs": [
    {
     "data": {
      "text/plain": [
       "(21, 5)"
      ]
     },
     "execution_count": 7,
     "metadata": {},
     "output_type": "execute_result"
    }
   ],
   "source": [
    "df.shape"
   ]
  },
  {
   "cell_type": "code",
   "execution_count": 11,
   "id": "dcd7ead2-400b-45eb-8b79-edf7b5f8866d",
   "metadata": {},
   "outputs": [
    {
     "data": {
      "text/html": [
       "<div>\n",
       "<style scoped>\n",
       "    .dataframe tbody tr th:only-of-type {\n",
       "        vertical-align: middle;\n",
       "    }\n",
       "\n",
       "    .dataframe tbody tr th {\n",
       "        vertical-align: top;\n",
       "    }\n",
       "\n",
       "    .dataframe thead th {\n",
       "        text-align: right;\n",
       "    }\n",
       "</style>\n",
       "<table border=\"1\" class=\"dataframe\">\n",
       "  <thead>\n",
       "    <tr style=\"text-align: right;\">\n",
       "      <th></th>\n",
       "      <th>nombre</th>\n",
       "      <th>altura</th>\n",
       "      <th>peso</th>\n",
       "      <th>edad</th>\n",
       "      <th>sexo</th>\n",
       "    </tr>\n",
       "  </thead>\n",
       "  <tbody>\n",
       "    <tr>\n",
       "      <th>10</th>\n",
       "      <td>Trinidad</td>\n",
       "      <td>1.72</td>\n",
       "      <td>72</td>\n",
       "      <td>21</td>\n",
       "      <td>m</td>\n",
       "    </tr>\n",
       "    <tr>\n",
       "      <th>11</th>\n",
       "      <td>Camila</td>\n",
       "      <td>1.63</td>\n",
       "      <td>57</td>\n",
       "      <td>26</td>\n",
       "      <td>m</td>\n",
       "    </tr>\n",
       "    <tr>\n",
       "      <th>12</th>\n",
       "      <td>Macarena</td>\n",
       "      <td>1.73</td>\n",
       "      <td>68</td>\n",
       "      <td>27</td>\n",
       "      <td>m</td>\n",
       "    </tr>\n",
       "    <tr>\n",
       "      <th>13</th>\n",
       "      <td>Diego</td>\n",
       "      <td>1.62</td>\n",
       "      <td>78</td>\n",
       "      <td>23</td>\n",
       "      <td>h</td>\n",
       "    </tr>\n",
       "    <tr>\n",
       "      <th>14</th>\n",
       "      <td>Gonzalo</td>\n",
       "      <td>1.58</td>\n",
       "      <td>67</td>\n",
       "      <td>22</td>\n",
       "      <td>h</td>\n",
       "    </tr>\n",
       "  </tbody>\n",
       "</table>\n",
       "</div>"
      ],
      "text/plain": [
       "      nombre  altura  peso  edad sexo\n",
       "10  Trinidad    1.72    72    21    m\n",
       "11    Camila    1.63    57    26    m\n",
       "12  Macarena    1.73    68    27    m\n",
       "13     Diego    1.62    78    23    h\n",
       "14   Gonzalo    1.58    67    22    h"
      ]
     },
     "execution_count": 11,
     "metadata": {},
     "output_type": "execute_result"
    }
   ],
   "source": [
    "df[10:15]"
   ]
  },
  {
   "cell_type": "code",
   "execution_count": 16,
   "id": "68a3fe59-c06b-4b73-9b0c-bff288fefe47",
   "metadata": {},
   "outputs": [
    {
     "data": {
      "text/plain": [
       "pandas.core.series.Series"
      ]
     },
     "execution_count": 16,
     "metadata": {},
     "output_type": "execute_result"
    }
   ],
   "source": [
    "altura = df['altura']\n",
    "type(altura)"
   ]
  },
  {
   "cell_type": "code",
   "execution_count": 17,
   "id": "d7cd086a-68a2-425b-a88a-b885d271565d",
   "metadata": {},
   "outputs": [
    {
     "data": {
      "text/plain": [
       "0    1.67\n",
       "1    1.73\n",
       "2    1.62\n",
       "3    1.58\n",
       "4    1.86\n",
       "5    1.79\n",
       "6    1.69\n",
       "7    1.60\n",
       "8    1.60\n",
       "9    1.98\n",
       "Name: altura, dtype: float64"
      ]
     },
     "execution_count": 17,
     "metadata": {},
     "output_type": "execute_result"
    }
   ],
   "source": [
    "altura[:10]"
   ]
  },
  {
   "cell_type": "code",
   "execution_count": null,
   "id": "e1f6ab57-8b67-4863-8d8e-5cfb6ddce1e4",
   "metadata": {},
   "outputs": [],
   "source": []
  }
 ],
 "metadata": {
  "kernelspec": {
   "display_name": "Python 3 (ipykernel)",
   "language": "python",
   "name": "python3"
  },
  "language_info": {
   "codemirror_mode": {
    "name": "ipython",
    "version": 3
   },
   "file_extension": ".py",
   "mimetype": "text/x-python",
   "name": "python",
   "nbconvert_exporter": "python",
   "pygments_lexer": "ipython3",
   "version": "3.9.13"
  }
 },
 "nbformat": 4,
 "nbformat_minor": 5
}
